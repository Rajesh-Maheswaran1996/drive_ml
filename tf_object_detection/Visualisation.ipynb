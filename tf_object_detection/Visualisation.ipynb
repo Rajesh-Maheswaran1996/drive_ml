{
 "cells": [
  {
   "cell_type": "code",
   "execution_count": null,
   "metadata": {},
   "outputs": [],
   "source": [
    "import numpy as np\n",
    "import pandas as pd\n",
    "import matplotlib as mlp\n",
    "import pickle\n",
    "import os\n",
    "from matplotlib import pyplot as plt\n",
    "import random\n",
    "from utils.dicts_transformer import *\n",
    "#from utils.visulation_tools import *\n",
    "import matplotlib.pyplot as plt\n",
    "from matplotlib.patches import Rectangle\n",
    "from PIL import Image"
   ]
  },
  {
   "cell_type": "code",
   "execution_count": null,
   "metadata": {},
   "outputs": [],
   "source": [
    "datafiles=[]\n",
    "basepath='/data/Images/'\n",
    "#datafiles.append(basepath+'test_environment')\n",
    "datafiles.append(basepath+'signs001_manually_labeled')\n",
    "datafiles.append(basepath+'signs003_manually_labeled')\n",
    "datafiles.append(basepath+'signs004_manually_labeled')\n",
    "datafiles.append(basepath+'signs006_bosch_manually_labeled')\n",
    "datafiles.append(basepath+'2019-01-09-13-00-05')\n",
    "datafiles.append(basepath+'2019-01-09-13-01-41')\n",
    "datafiles.append(basepath+'2019-01-09-13-05-43')\n",
    "datafiles.append(basepath+'2019-01-09-13-24-37')\n",
    "datafiles.append(basepath+'2019-01-09-13-55-01')\n",
    "datafiles.append(basepath+'2019-01-20-15-59-41')\n",
    "\n",
    "# Zone fillers\n",
    "datafiles.append(basepath+'VID_20190125_181012')\n",
    "datafiles.append(basepath+'VID_20190125_181207')\n",
    "datafiles.append(basepath+'VID_20190125_181313')\n",
    "datafiles.append(basepath+'VID_20190125_181630')\n",
    "datafiles.append(basepath+'VID_20190125_181902')\n",
    "\n",
    "## Blur\n",
    "datafiles.append(basepath+'signs001_manually_labeled_blur')\n",
    "datafiles.append(basepath+'signs003_manually_labeled_blur')\n",
    "datafiles.append(basepath+'signs004_manually_labeled_blur')\n",
    "datafiles.append(basepath+'signs006_bosch_manually_labeled_blur')\n",
    "datafiles.append(basepath+'2019-01-09-13-00-05_blur')\n",
    "datafiles.append(basepath+'2019-01-09-13-01-41_blur')\n",
    "datafiles.append(basepath+'2019-01-09-13-05-43_blur')\n",
    "datafiles.append(basepath+'2019-01-09-13-24-37_blur')\n",
    "datafiles.append(basepath+'2019-01-09-13-55-01_blur')\n",
    "datafiles.append(basepath+'2019-01-20-15-59-41_blur')\n",
    "datafiles.append(basepath+'VID_20190125_181012_blur')\n",
    "datafiles.append(basepath+'VID_20190125_181207_blur')\n",
    "datafiles.append(basepath+'VID_20190125_181313_blur')\n",
    "datafiles.append(basepath+'VID_20190125_181630_blur')\n",
    "datafiles.append(basepath+'VID_20190125_181902_blur')\n",
    "\n",
    "#datafiles.append(basepath+'bosch_2018_16_36') Bug in labels\n",
    "datafiles.append(basepath+'bosch_2018_17_08')\n",
    "datafiles.append(basepath+'bosch_2018_17_24')\n",
    "datafiles.append(basepath+'bosch_2018_17_54')"
   ]
  },
  {
   "cell_type": "code",
   "execution_count": null,
   "metadata": {},
   "outputs": [],
   "source": [
    "files=dict()\n",
    "labels=dict()\n",
    "for folder in datafiles:\n",
    "    folder_key=folder.split('/')[-1]\n",
    "    files[folder_key]=[]\n",
    "    for filename in os.listdir(folder):\n",
    "        if filename.endswith('.csv'):\n",
    "            print(filename)\n",
    "            df = pd.read_csv(folder+'/'+filename)\n",
    "            df['ClassId'].replace(sign_name_carolo_trans, inplace=True)\n",
    "            df.astype({'ClassId': 'str'}).dtypes\n",
    "            df['ClassId'].replace(sign_name_carolo_dict_new,inplace=True)\n",
    "            labels[folder_key]=df\n",
    "        else:\n",
    "            if \"txt\" not in filename:\n",
    "                files[folder_key].append(folder+\"/\"+filename)"
   ]
  },
  {
   "cell_type": "code",
   "execution_count": null,
   "metadata": {},
   "outputs": [],
   "source": [
    "def get_boxes(label_dict,filename):\n",
    "    [file,name]=filename.split('/')[-2:]\n",
    "    labels=label_dict[file][label_dict[file]['Filename'].str.match(name)]\n",
    "    return labels\n",
    "\n",
    "def draw_boxes(labels):\n",
    "    colors=['red','green','yellow','blue','magenta','orange']\n",
    "    for j, (index, row) in enumerate(labels.iterrows()): \n",
    "        if row['ClassId'] in ['60 Zone Anfang (speed limit 60 start)']:\n",
    "            co=new_coordinates(row)\n",
    "            plt.gca().add_patch(Rectangle((co[0],co[2]),co[1]-co[0],co[3]-co[2],linewidth=1,edgecolor=colors[j],facecolor='none',label=row['ClassId']))            \n",
    "        else:\n",
    "            plt.gca().add_patch(Rectangle((row['Roi.X1'],row['Roi.Y1']),row['Roi.X2']-row['Roi.X1'],row['Roi.Y2']-row['Roi.Y1'],linewidth=1,edgecolor=colors[j],facecolor='none',label=row['ClassId']))"
   ]
  },
  {
   "cell_type": "code",
   "execution_count": null,
   "metadata": {},
   "outputs": [],
   "source": [
    "def new_coordinates(r):\n",
    "    x1=r['Roi.X1']\n",
    "    x2=r['Roi.X2']\n",
    "    y1=r['Roi.Y1']\n",
    "    y2=r['Roi.Y2']\n",
    "\n",
    "    x_size=x2-x1\n",
    "    y_size=y2-y1\n",
    "\n",
    "    x1_new=int(x1+x_size*0.166)\n",
    "    x2_new=int(x2-x_size*0.166)\n",
    "    y1_new=int(y1+y_size*0.1)\n",
    "    y2_new=int(y2-y_size*0.266)\n",
    "    print(x1_new,y1_new)\n",
    "    print(x2_new-x1_new,y2_new-y1_new)\n",
    "    \n",
    "    return [x1_new,x2_new,y1_new,y2_new]"
   ]
  },
  {
   "cell_type": "code",
   "execution_count": null,
   "metadata": {},
   "outputs": [],
   "source": [
    "def random_visualisation(files,labels):\n",
    "    list_for_key=[file for file in files]\n",
    "    file=random.choice(list_for_key)\n",
    "    random_file=random.choice(files[file])\n",
    "    draw_image_with_box(random_file,labels)\n",
    "    print(random_file)"
   ]
  },
  {
   "cell_type": "code",
   "execution_count": null,
   "metadata": {},
   "outputs": [],
   "source": [
    "def draw_image_with_box(file,labels):\n",
    "    im = Image.open(file)\n",
    "    boxes=get_boxes(labels,file)\n",
    "    draw_boxes(boxes)\n",
    "    plt.imshow(im)\n",
    "    plt.legend(bbox_to_anchor=(2.1, 0.5), loc='center right', ncol=1)\n",
    "    "
   ]
  },
  {
   "cell_type": "code",
   "execution_count": null,
   "metadata": {},
   "outputs": [],
   "source": [
    "random_visualisation(files,labels)"
   ]
  },
  {
   "cell_type": "markdown",
   "metadata": {},
   "source": [
    "## Extend to planed Visualisation\n"
   ]
  },
  {
   "cell_type": "code",
   "execution_count": null,
   "metadata": {},
   "outputs": [],
   "source": [
    "examples=[]\n",
    "for file in files:\n",
    "    examples.append(random.choice(files[file]))"
   ]
  },
  {
   "cell_type": "code",
   "execution_count": null,
   "metadata": {},
   "outputs": [],
   "source": [
    "draw_image_with_box(examples[0],labels)\n",
    "print(examples[0])"
   ]
  },
  {
   "cell_type": "code",
   "execution_count": null,
   "metadata": {},
   "outputs": [],
   "source": [
    "draw_image_with_box(examples[1],labels)\n",
    "print(examples[1])"
   ]
  },
  {
   "cell_type": "code",
   "execution_count": null,
   "metadata": {},
   "outputs": [],
   "source": [
    "draw_image_with_box(examples[2],labels)\n",
    "print(examples[2])"
   ]
  },
  {
   "cell_type": "code",
   "execution_count": null,
   "metadata": {},
   "outputs": [],
   "source": [
    "draw_image_with_box(examples[3],labels)\n",
    "print(examples[3])"
   ]
  },
  {
   "cell_type": "code",
   "execution_count": null,
   "metadata": {},
   "outputs": [],
   "source": [
    "draw_image_with_box(examples[4],labels)\n",
    "print(examples[4])"
   ]
  },
  {
   "cell_type": "code",
   "execution_count": null,
   "metadata": {},
   "outputs": [],
   "source": [
    "draw_image_with_box(examples[5],labels)\n",
    "print(examples[5])"
   ]
  },
  {
   "cell_type": "code",
   "execution_count": null,
   "metadata": {},
   "outputs": [],
   "source": [
    "draw_image_with_box(examples[6],labels)\n",
    "print(examples[6])"
   ]
  },
  {
   "cell_type": "code",
   "execution_count": null,
   "metadata": {},
   "outputs": [],
   "source": [
    "draw_image_with_box(examples[7],labels)\n",
    "print(examples[7])"
   ]
  },
  {
   "cell_type": "code",
   "execution_count": null,
   "metadata": {},
   "outputs": [],
   "source": [
    "draw_image_with_box(examples[8],labels)\n",
    "print(examples[8])"
   ]
  },
  {
   "cell_type": "code",
   "execution_count": null,
   "metadata": {},
   "outputs": [],
   "source": [
    "draw_image_with_box(examples[9],labels)\n",
    "print(examples[9])"
   ]
  },
  {
   "cell_type": "code",
   "execution_count": null,
   "metadata": {},
   "outputs": [],
   "source": [
    "draw_image_with_box(examples[10],labels)\n",
    "print(examples[10])"
   ]
  },
  {
   "cell_type": "code",
   "execution_count": null,
   "metadata": {},
   "outputs": [],
   "source": [
    "draw_image_with_box(examples[11],labels)\n",
    "print(examples[11])"
   ]
  },
  {
   "cell_type": "code",
   "execution_count": null,
   "metadata": {},
   "outputs": [],
   "source": [
    "draw_image_with_box(examples[12],labels)\n",
    "print(examples[12])"
   ]
  },
  {
   "cell_type": "code",
   "execution_count": null,
   "metadata": {},
   "outputs": [],
   "source": [
    "draw_image_with_box(examples[13],labels)\n",
    "print(examples[13])"
   ]
  },
  {
   "cell_type": "code",
   "execution_count": null,
   "metadata": {},
   "outputs": [],
   "source": [
    "draw_image_with_box(examples[14],labels)\n",
    "print(examples[14])"
   ]
  },
  {
   "cell_type": "code",
   "execution_count": null,
   "metadata": {},
   "outputs": [],
   "source": [
    "draw_image_with_box(examples[15],labels)\n",
    "print(examples[15])"
   ]
  },
  {
   "cell_type": "code",
   "execution_count": null,
   "metadata": {},
   "outputs": [],
   "source": [
    "draw_image_with_box(examples[16],labels)\n",
    "print(examples[16])"
   ]
  },
  {
   "cell_type": "code",
   "execution_count": null,
   "metadata": {},
   "outputs": [],
   "source": [
    "draw_image_with_box(examples[17],labels)\n",
    "print(examples[17])"
   ]
  },
  {
   "cell_type": "code",
   "execution_count": null,
   "metadata": {},
   "outputs": [],
   "source": [
    "draw_image_with_box(examples[18],labels)\n",
    "print(examples[18])"
   ]
  },
  {
   "cell_type": "code",
   "execution_count": null,
   "metadata": {},
   "outputs": [],
   "source": [
    "draw_image_with_box(examples[19],labels)\n",
    "print(examples[19])"
   ]
  },
  {
   "cell_type": "code",
   "execution_count": null,
   "metadata": {},
   "outputs": [],
   "source": [
    "draw_image_with_box(examples[20],labels)\n",
    "print(examples[20])"
   ]
  },
  {
   "cell_type": "code",
   "execution_count": null,
   "metadata": {},
   "outputs": [],
   "source": [
    "draw_image_with_box(examples[21],labels)\n",
    "print(examples[21])"
   ]
  },
  {
   "cell_type": "code",
   "execution_count": null,
   "metadata": {},
   "outputs": [],
   "source": [
    "draw_image_with_box(examples[22],labels)\n",
    "print(examples[22])"
   ]
  },
  {
   "cell_type": "code",
   "execution_count": null,
   "metadata": {},
   "outputs": [],
   "source": [
    "draw_image_with_box(examples[23],labels)\n",
    "print(examples[23])"
   ]
  },
  {
   "cell_type": "code",
   "execution_count": null,
   "metadata": {},
   "outputs": [],
   "source": [
    "draw_image_with_box(examples[24],labels)\n",
    "print(examples[24])"
   ]
  },
  {
   "cell_type": "code",
   "execution_count": null,
   "metadata": {},
   "outputs": [],
   "source": [
    "draw_image_with_box(examples[25],labels)\n",
    "print(examples[25])"
   ]
  },
  {
   "cell_type": "code",
   "execution_count": null,
   "metadata": {},
   "outputs": [],
   "source": [
    "draw_image_with_box(examples[26],labels)\n",
    "print(examples[26])"
   ]
  },
  {
   "cell_type": "code",
   "execution_count": null,
   "metadata": {},
   "outputs": [],
   "source": [
    "draw_image_with_box(examples[27],labels)\n",
    "print(examples[27])"
   ]
  },
  {
   "cell_type": "code",
   "execution_count": null,
   "metadata": {},
   "outputs": [],
   "source": [
    "draw_image_with_box(examples[28],labels)\n",
    "print(examples[28])"
   ]
  },
  {
   "cell_type": "code",
   "execution_count": null,
   "metadata": {},
   "outputs": [],
   "source": [
    "draw_image_with_box(examples[29],labels)\n",
    "print(examples[29])"
   ]
  },
  {
   "cell_type": "code",
   "execution_count": null,
   "metadata": {},
   "outputs": [],
   "source": [
    "draw_image_with_box(examples[30],labels)\n",
    "print(examples[30])"
   ]
  },
  {
   "cell_type": "code",
   "execution_count": null,
   "metadata": {},
   "outputs": [],
   "source": [
    "draw_image_with_box(examples[31],labels)\n",
    "print(examples[31])"
   ]
  },
  {
   "cell_type": "code",
   "execution_count": null,
   "metadata": {},
   "outputs": [],
   "source": [
    "draw_image_with_box(examples[32],labels)\n",
    "print(examples[32])"
   ]
  },
  {
   "cell_type": "code",
   "execution_count": null,
   "metadata": {},
   "outputs": [],
   "source": [
    "draw_image_with_box(examples[33],labels)\n",
    "print(examples[33])"
   ]
  },
  {
   "cell_type": "code",
   "execution_count": null,
   "metadata": {},
   "outputs": [],
   "source": [
    "import time"
   ]
  },
  {
   "cell_type": "code",
   "execution_count": null,
   "metadata": {},
   "outputs": [],
   "source": [
    "key=\"bosch_2018_17_24\"\n",
    "vid = [file for file in files if key in file]"
   ]
  },
  {
   "cell_type": "markdown",
   "metadata": {},
   "source": [
    "## Video Check"
   ]
  },
  {
   "cell_type": "code",
   "execution_count": null,
   "metadata": {
    "scrolled": false
   },
   "outputs": [],
   "source": [
    "for image in sorted(files[\"2019-01-09-13-00-05\"]):\n",
    "    draw_image_with_box(image,labels)\n",
    "    print(image)\n",
    "    plt.show()"
   ]
  },
  {
   "cell_type": "markdown",
   "metadata": {},
   "source": [
    "# Backop"
   ]
  },
  {
   "cell_type": "code",
   "execution_count": null,
   "metadata": {},
   "outputs": [],
   "source": [
    "t=files['VID_20190125_181630']\n",
    "te=random.choice(t)\n",
    "im = Image.open(te)\n",
    "boxes=get_boxes(labels,te)\n",
    "draw_boxes(boxes)\n",
    "plt.imshow(im)\n",
    "plt.legend(bbox_to_anchor=(2.1, 0.5), loc='center right', ncol=1)\n",
    "plt.legend(loc='center left', bbox_to_anchor=(1, 0.5))\n",
    "plt.show()"
   ]
  },
  {
   "cell_type": "code",
   "execution_count": null,
   "metadata": {},
   "outputs": [],
   "source": [
    "te2=random.choice(t)\n",
    "im2 = Image.open(te2)"
   ]
  },
  {
   "cell_type": "code",
   "execution_count": null,
   "metadata": {},
   "outputs": [],
   "source": []
  },
  {
   "cell_type": "code",
   "execution_count": null,
   "metadata": {},
   "outputs": [],
   "source": [
    "fig, axes = plt.subplots(2, 1)\n",
    "\n",
    "boxes=get_boxes(labels,te)\n",
    "draw_boxes(boxes)\n",
    "axes[0].imshow(im)\n",
    "\n",
    "boxes=get_boxes(labels,te2)\n",
    "draw_boxes(boxes)\n",
    "axes[1].imshow(im2)"
   ]
  },
  {
   "cell_type": "code",
   "execution_count": null,
   "metadata": {},
   "outputs": [],
   "source": [
    "fig, axes = plt.subplots(3, 1)\n",
    "axes[0].imshow(im)\n",
    "boxes=get_boxes(labels,te)\n",
    "draw_boxes(boxes)\n",
    "axes[1].imshow(im2)\n",
    "boxes=get_boxes(labels,te2)\n",
    "draw_boxes(boxes)"
   ]
  },
  {
   "cell_type": "code",
   "execution_count": null,
   "metadata": {},
   "outputs": [],
   "source": []
  }
 ],
 "metadata": {
  "kernelspec": {
   "display_name": "Python 3",
   "language": "python",
   "name": "python3"
  },
  "language_info": {
   "codemirror_mode": {
    "name": "ipython",
    "version": 3
   },
   "file_extension": ".py",
   "mimetype": "text/x-python",
   "name": "python",
   "nbconvert_exporter": "python",
   "pygments_lexer": "ipython3",
   "version": "3.5.2"
  }
 },
 "nbformat": 4,
 "nbformat_minor": 2
}
