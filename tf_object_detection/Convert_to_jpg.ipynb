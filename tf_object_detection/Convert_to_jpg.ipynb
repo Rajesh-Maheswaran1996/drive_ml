{
 "cells": [
  {
   "cell_type": "code",
   "execution_count": null,
   "metadata": {},
   "outputs": [],
   "source": [
    "from PIL import Image\n",
    "import os\n",
    "path=\"/data/Images/Datasets/BTSDB/\""
   ]
  },
  {
   "cell_type": "code",
   "execution_count": null,
   "metadata": {},
   "outputs": [],
   "source": [
    "def convert_to_jpg(path):\n",
    "    for root, dirs, files in os.walk(path):\n",
    "        for file in files:\n",
    "            if file.split(\".\")[-1]==\"jp2\":\n",
    "                print(os.path.join(root,file))\n",
    "                img = Image.open(os.path.join(root,file)) # Input Image\n",
    "                name=file.split(\".\")\n",
    "                name[-1]=\"jpg\"\n",
    "                file_name=\"\".join([name[0],\".\",name[1],\".\",name[2]])\n",
    "                #print(os.path.join(path,file_name))\n",
    "                im.save(os.path.join(root,file_name), \"JPEG\", optimize=True, progressive=True)\n",
    "                os.remove(os.path.join(root,file)) \n",
    "                \n",
    "                "
   ]
  },
  {
   "cell_type": "code",
   "execution_count": null,
   "metadata": {
    "scrolled": false
   },
   "outputs": [],
   "source": [
    "convert_to_jpg(path)"
   ]
  }
 ],
 "metadata": {
  "kernelspec": {
   "display_name": "Python 3",
   "language": "python",
   "name": "python3"
  },
  "language_info": {
   "codemirror_mode": {
    "name": "ipython",
    "version": 3
   },
   "file_extension": ".py",
   "mimetype": "text/x-python",
   "name": "python",
   "nbconvert_exporter": "python",
   "pygments_lexer": "ipython3",
   "version": "3.5.2"
  }
 },
 "nbformat": 4,
 "nbformat_minor": 2
}
