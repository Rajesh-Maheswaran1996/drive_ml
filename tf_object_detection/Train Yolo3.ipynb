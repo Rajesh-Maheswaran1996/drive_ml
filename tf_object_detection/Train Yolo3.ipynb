{
 "cells": [
  {
   "cell_type": "code",
   "execution_count": null,
   "metadata": {},
   "outputs": [],
   "source": [
    "import numpy as np\n",
    "import pandas as pd\n",
    "import matplotlib as mlp\n",
    "import pickle\n",
    "import os\n",
    "from matplotlib import pyplot as plt\n"
   ]
  },
  {
   "cell_type": "code",
   "execution_count": null,
   "metadata": {},
   "outputs": [],
   "source": [
    "sign_name_carolo_trans = {\n",
    "    1: 0,\n",
    "    9: 1,\n",
    "    12: 2,\n",
    "    13: 3,\n",
    "    14: 4,\n",
    "    33: 5,\n",
    "    34: 6,\n",
    "    41: 7,\n",
    "    43: 20,\n",
    "    100: 8,\n",
    "    101: 9,\n",
    "    102: 10,\n",
    "    103: 11,\n",
    "    104: 12,\n",
    "    105: 13,\n",
    "    106: 14,\n",
    "    107: 15,\n",
    "    108: 16,\n",
    "    109: 17,\n",
    "    110: 18,\n",
    "    111: 19\n",
    "}"
   ]
  },
  {
   "cell_type": "code",
   "execution_count": null,
   "metadata": {},
   "outputs": [],
   "source": [
    "sign_name_carolo_dict_new = {\n",
    "    0: '30 Zone Anfang (speed limit start)',\n",
    "    1: 'Absolutes Überholverbot Anfang (no passing zone start)',\n",
    "    2: 'Vorfahrtstraße (priority on next intersections)',\n",
    "    3: 'Vorfahrt Gewähren (give way to incoming)',\n",
    "    4: 'Stop Zeichen (stop for at least 3 sec)',\n",
    "    5: 'Vorgeschriebene Fahrtrichtung Rechts (turn right on intersection)',\n",
    "    6: 'Vorgeschriebene Fahrtrichtung Links (turn left on intersection)',\n",
    "    7: 'Absolutes Überholverbot Ende (no passing zone end)',\n",
    "    8: 'Gegenverkehr Vorrang gewähren (Barred area, let oncoming pass)',\n",
    "    9: '30 Zone Ende (end of speed limit)',\n",
    "    10: 'Fußgängerüberweg (crosswalk)',\n",
    "    11: 'Richtungstafel Kurve links (sharp turn left)',\n",
    "    12: 'Richtungstafel Kurve links (even sharper turn left)',\n",
    "    13: 'Richtungstafel Kurve rechts (sharp turn right)',\n",
    "    14: 'Richtungstafel Kurve rechts (even sharper turn right)',\n",
    "    15: 'Gefälle 10% (downhill 10%)',\n",
    "    16: 'Steigung 10% (uphill 10%)',\n",
    "    17: 'Parken Bereich (parking zone)',\n",
    "    18: 'Kraftfahrtstraße Anfang (expressway begin)',\n",
    "    19: 'Kraftfahrtstraße Ende (expressway end)'\n",
    "}"
   ]
  },
  {
   "cell_type": "code",
   "execution_count": null,
   "metadata": {},
   "outputs": [],
   "source": [
    "def transform_coordinates(x1,y1,x2,y2,dimX,dimY):\n",
    "    centerX=(x1+x2)/2\n",
    "    centerY=(y1+y2)/2\n",
    "    width=x2-x1\n",
    "    height=y2-y1\n",
    "    #to relative values:\n",
    "    centerX=centerX/dimX\n",
    "    centerY=centerY/dimY\n",
    "    width=width/dimX\n",
    "    height=height/dimY\n",
    "    \n",
    "    return centerX,centerY,width,height\n",
    "    "
   ]
  },
  {
   "cell_type": "markdown",
   "metadata": {},
   "source": [
    "# Creating labelfiles"
   ]
  },
  {
   "cell_type": "code",
   "execution_count": null,
   "metadata": {},
   "outputs": [],
   "source": [
    "frames = []\n",
    "datafiles=[]\n",
    "files=[]\n",
    "oldFile=None\n",
    "num_Zero=2000\n",
    "counter=0\n",
    "basepath='/data/Images/'\n",
    "#datafiles.append(basepath+'test_environment')\n",
    "datafiles.append(basepath+'signs001_manually_labeled')\n",
    "datafiles.append(basepath+'signs003_manually_labeled')\n",
    "datafiles.append(basepath+'signs004_manually_labeled')\n",
    "datafiles.append(basepath+'signs006_bosch_manually_labeled')\n",
    "for folder in datafiles:\n",
    "    for filename in os.listdir(folder):\n",
    "        if filename.endswith('.csv'):\n",
    "            print(filename)\n",
    "            df = pd.read_csv(folder+'/'+filename)\n",
    "            df['ClassId'].replace(sign_name_carolo_trans, inplace=True)\n",
    "            for index, row in df.iterrows():           \n",
    "                classid=row['ClassId']\n",
    "                centerX,centerY,width,height=transform_coordinates(row['Roi.X1'],row['Roi.Y1'],row['Roi.X2'],row['Roi.Y2'],row['Width'],row['Height'])\n",
    "                file=row['Filename'].split('.')[0]\n",
    "                if classid!=20:\n",
    "                    if file==oldFile:\n",
    "                        #print(centerX,centerY,width,height)\n",
    "                        f = open(folder+'/'+file+'.txt',\"a\") \n",
    "                        f.write(str(classid)+' '+str(centerX)+' '+str(centerY)+' '+str(width)+' '+str(height)+'\\n')\n",
    "                        f.close()\n",
    "                    else:\n",
    "                        f = open(folder+'/'+file+'.txt',\"w\") \n",
    "                        f.write(str(classid)+' '+str(centerX)+' '+str(centerY)+' '+str(width)+' '+str(height)+'\\n')\n",
    "                        f.close()\n",
    "                        #print(folder+'/'+file)\n",
    "                        files.append(folder+'/'+file)\n",
    "                elif classid==20 and counter<num_Zero:\n",
    "                    f = open(folder+'/'+file+'.txt',\"w\") \n",
    "                    f.close()\n",
    "                    counter+=1\n",
    "                    files.append(folder+'/'+file)\n",
    "                oldFile=file\n",
    "                \n",
    "                #frames_added_april.append(pd.read_csv(filename))"
   ]
  },
  {
   "cell_type": "markdown",
   "metadata": {},
   "source": [
    "# Train & Test files"
   ]
  },
  {
   "cell_type": "code",
   "execution_count": null,
   "metadata": {},
   "outputs": [],
   "source": [
    "#from sklearn.model_selection import train_test_split"
   ]
  },
  {
   "cell_type": "code",
   "execution_count": null,
   "metadata": {},
   "outputs": [],
   "source": [
    "#X_train,X_test=train_test_split(files, shuffle=False)\n",
    "\n",
    "num_of_rows = round((len(files)) * 0.8)\n",
    "files_np=np.array(files)\n",
    "np.random.shuffle(files_np) \n",
    "X_train= files_np[:num_of_rows] \n",
    "X_test = files_np[num_of_rows:] \n",
    "\n",
    "file = open(basepath+'train.txt',\"w\")\n",
    "for line in X_train:\n",
    "    file.write(str(line)+'.png\\n')\n",
    "file.close()\n",
    "    \n",
    "file = open(basepath+'test.txt',\"w\")\n",
    "for line in X_test:\n",
    "    file.write(str(line)+'.png\\n')\n",
    "file.close()\n",
    "    "
   ]
  },
  {
   "cell_type": "code",
   "execution_count": null,
   "metadata": {},
   "outputs": [],
   "source": [
    "with open('../sign_recognition/dict/sign_names_dict.pkl', 'rb') as f:\n",
    "    sign_names = pickle.load(f)"
   ]
  },
  {
   "cell_type": "code",
   "execution_count": null,
   "metadata": {},
   "outputs": [],
   "source": [
    "sign_names"
   ]
  },
  {
   "cell_type": "code",
   "execution_count": null,
   "metadata": {},
   "outputs": [],
   "source": []
  }
 ],
 "metadata": {
  "kernelspec": {
   "display_name": "Python 3",
   "language": "python",
   "name": "python3"
  },
  "language_info": {
   "codemirror_mode": {
    "name": "ipython",
    "version": 3
   },
   "file_extension": ".py",
   "mimetype": "text/x-python",
   "name": "python",
   "nbconvert_exporter": "python",
   "pygments_lexer": "ipython3",
   "version": "3.5.2"
  }
 },
 "nbformat": 4,
 "nbformat_minor": 2
}
