{
 "cells": [
  {
   "cell_type": "markdown",
   "metadata": {},
   "source": [
    "# Analysis of the Bosch data set\n",
    "\n",
    "This notebook analyzes the Bosch data set and extracts meta-data for further processing from it.\n",
    "\n",
    "\n",
    "The initial labelling file `Bosch-BBox-Labels.csv` contains 16.133 instances with the following data (per row):\n",
    "* Filename\n",
    "* Width\n",
    "* Height\n",
    "* Roi.X1\n",
    "* Roi.Y1\n",
    "* Roi.X2\n",
    "* Roi.Y2\n",
    "* ClassId    "
   ]
  },
  {
   "cell_type": "markdown",
   "metadata": {},
   "source": [
    "---\n",
    "### 1) Import and Preview"
   ]
  },
  {
   "cell_type": "code",
   "execution_count": 1,
   "metadata": {},
   "outputs": [],
   "source": [
    "import pandas as pd\n",
    "import matplotlib as mlp\n",
    "import numpy as np\n",
    "\n",
    "from matplotlib import pyplot as plt"
   ]
  },
  {
   "cell_type": "code",
   "execution_count": 2,
   "metadata": {},
   "outputs": [
    {
     "data": {
      "text/html": [
       "<div>\n",
       "<style scoped>\n",
       "    .dataframe tbody tr th:only-of-type {\n",
       "        vertical-align: middle;\n",
       "    }\n",
       "\n",
       "    .dataframe tbody tr th {\n",
       "        vertical-align: top;\n",
       "    }\n",
       "\n",
       "    .dataframe thead th {\n",
       "        text-align: right;\n",
       "    }\n",
       "</style>\n",
       "<table border=\"1\" class=\"dataframe\">\n",
       "  <thead>\n",
       "    <tr style=\"text-align: right;\">\n",
       "      <th></th>\n",
       "      <th>Filename</th>\n",
       "      <th>Width</th>\n",
       "      <th>Height</th>\n",
       "      <th>Roi.X1</th>\n",
       "      <th>Roi.Y1</th>\n",
       "      <th>Roi.X2</th>\n",
       "      <th>Roi.Y2</th>\n",
       "      <th>ClassId</th>\n",
       "    </tr>\n",
       "  </thead>\n",
       "  <tbody>\n",
       "    <tr>\n",
       "      <th>0</th>\n",
       "      <td>00001.png</td>\n",
       "      <td>640</td>\n",
       "      <td>480</td>\n",
       "      <td>5</td>\n",
       "      <td>174</td>\n",
       "      <td>49</td>\n",
       "      <td>209</td>\n",
       "      <td>107</td>\n",
       "    </tr>\n",
       "    <tr>\n",
       "      <th>1</th>\n",
       "      <td>00001.png</td>\n",
       "      <td>640</td>\n",
       "      <td>480</td>\n",
       "      <td>364</td>\n",
       "      <td>167</td>\n",
       "      <td>412</td>\n",
       "      <td>212</td>\n",
       "      <td>109</td>\n",
       "    </tr>\n",
       "    <tr>\n",
       "      <th>2</th>\n",
       "      <td>00002.png</td>\n",
       "      <td>640</td>\n",
       "      <td>480</td>\n",
       "      <td>5</td>\n",
       "      <td>174</td>\n",
       "      <td>49</td>\n",
       "      <td>209</td>\n",
       "      <td>107</td>\n",
       "    </tr>\n",
       "    <tr>\n",
       "      <th>3</th>\n",
       "      <td>00002.png</td>\n",
       "      <td>640</td>\n",
       "      <td>480</td>\n",
       "      <td>364</td>\n",
       "      <td>167</td>\n",
       "      <td>412</td>\n",
       "      <td>212</td>\n",
       "      <td>109</td>\n",
       "    </tr>\n",
       "    <tr>\n",
       "      <th>4</th>\n",
       "      <td>00003.png</td>\n",
       "      <td>640</td>\n",
       "      <td>480</td>\n",
       "      <td>5</td>\n",
       "      <td>174</td>\n",
       "      <td>49</td>\n",
       "      <td>209</td>\n",
       "      <td>107</td>\n",
       "    </tr>\n",
       "  </tbody>\n",
       "</table>\n",
       "</div>"
      ],
      "text/plain": [
       "    Filename  Width  Height  Roi.X1  Roi.Y1  Roi.X2  Roi.Y2  ClassId\n",
       "0  00001.png    640     480       5     174      49     209      107\n",
       "1  00001.png    640     480     364     167     412     212      109\n",
       "2  00002.png    640     480       5     174      49     209      107\n",
       "3  00002.png    640     480     364     167     412     212      109\n",
       "4  00003.png    640     480       5     174      49     209      107"
      ]
     },
     "execution_count": 2,
     "metadata": {},
     "output_type": "execute_result"
    }
   ],
   "source": [
    "df = pd.read_csv('Bosch-BBox-Labels.csv')\n",
    "df.head()  # prints top 5 rows"
   ]
  },
  {
   "cell_type": "markdown",
   "metadata": {},
   "source": [
    "---\n",
    "### 2) Plotting the Label Distribution\n",
    "\n",
    "1. First plot shows the distribution over the full dataset (including 'empty' images).\n",
    "2. Second plot illustrates the true label distribution.\n",
    "3. Additional data about the data set (min, max, exact class distribution)"
   ]
  },
  {
   "cell_type": "code",
   "execution_count": 3,
   "metadata": {
    "scrolled": false
   },
   "outputs": [
    {
     "data": {
      "image/png": "[encoded data removed]",
      "text/plain": [
       "<matplotlib.figure.Figure at 0x7f05d5d06f60>"
      ]
     },
     "metadata": {},
     "output_type": "display_data"
    },
    {
     "data": {
      "image/png": "[encoded data removed]",
      "text/plain": [
       "<matplotlib.figure.Figure at 0x7f05d5c0ddd8>"
      ]
     },
     "metadata": {},
     "output_type": "display_data"
    },
    {
     "name": "stdout",
     "output_type": "stream",
     "text": [
      "  Total Amount: 16134\n",
      "Minimum Amount: 41\n",
      "Maximum Amount: 8669\n",
      " Without empty: 7465\n",
      "\n",
      "    ClassId  Amount\n",
      "0         1     242\n",
      "1         9     466\n",
      "2        12     440\n",
      "3        13     596\n",
      "4        14     381\n",
      "5        41      41\n",
      "6        43    8669\n",
      "7       101     175\n",
      "8       102     311\n",
      "9       103     228\n",
      "10      104     248\n",
      "11      105     924\n",
      "12      106    1224\n",
      "13      107    1077\n",
      "14      108     221\n",
      "15      109     372\n",
      "16      110     141\n",
      "17      111     378\n"
     ]
    }
   ],
   "source": [
    "# 1) Plot the distribution (with background class).\n",
    "grouped_classes = df.groupby('ClassId').count()['Width']  # Group the dataframe by classes.\n",
    "grouped_classes.plot(kind='bar', figsize=(9,4),  title='Amount of Instances per Class', legend=False)\n",
    "plt.show()\n",
    "\n",
    "# 2) Plot without background class.\n",
    "df_without_background = df.drop(df[df['ClassId'] == 43].index)\n",
    "df_without_background_grouped = df_without_background.groupby('ClassId').count()['Width']\n",
    "df_without_background_grouped.plot(kind='bar', figsize=(9,4),  title='Amount of Instances per Class (without Background Class)', legend=False)\n",
    "plt.show()\n",
    "df_without_background_grouped = df_without_background_grouped.reset_index()\n",
    "df_without_background_grouped.columns = ['ClassId', 'Amount']\n",
    "\n",
    "# 3) Print statistics.\n",
    "grouped_classes = grouped_classes.reset_index()  # Makes the index go from 0-17.\n",
    "grouped_classes.columns = ['ClassId', 'Amount']  # Column renaming\n",
    "print(\"  Total Amount: {}\".format(grouped_classes['Amount'].sum()))\n",
    "print(\"Minimum Amount: {}\".format(grouped_classes['Amount'].min()))\n",
    "print(\"Maximum Amount: {}\".format(grouped_classes['Amount'].max()))\n",
    "print(\" Without empty: {}\\n\".format(grouped_classes['Amount'].sum() - grouped_classes['Amount'].max()))\n",
    "print(grouped_classes)"
   ]
  },
  {
   "cell_type": "markdown",
   "metadata": {},
   "source": [
    "---\n",
    "### 3) Mapping between the ClassIDs and the Stree Sign Names"
   ]
  },
  {
   "cell_type": "code",
   "execution_count": 4,
   "metadata": {},
   "outputs": [],
   "source": [
    "# Map ClassId : SignName\n",
    "signs = {1:'spee_limit_30_begin',\n",
    "         9:'no_overtaking_begin',\n",
    "         12:'priority_road',\n",
    "         13:'give_way',\n",
    "         14:'stop',\n",
    "         41:'no_overtaking_end',\n",
    "         43:'?None',\n",
    "         101:'speed_limit_30_end',\n",
    "         102:'pedestrian_crossing',\n",
    "         103:'sharp_turn_left',\n",
    "         104:'even_sharper_turn_left',\n",
    "         105:'shart_turn_right',\n",
    "         106:'even_shart_turn_right',\n",
    "         107:'step_downhill_10',\n",
    "         108:'step_uphill_10',\n",
    "         109:'parking_zone',\n",
    "         110:'expressway_begin',\n",
    "         111:'expressway_end'}\n"
   ]
  },
  {
   "cell_type": "markdown",
   "metadata": {},
   "source": [
    "---\n",
    "### 4) Clean for \"Time-Axis\"\n",
    "\n",
    "Since all images are taken from a video with 30 fps, most of them show the same scene (even the same pixels with little to no difference to the previous images). This is especially obvious if you inspect a series of images belonging to the same street sign. As a consequence those images yield no variety during training (no generalization) and only amplify overfitting.\n",
    "\n",
    "Therefore, we want to get as much **distinct** images as possible. A trivial approach to achieve this, is to drop all images that are too *close in time* to a *base image*. E.g. a 2 second scene showing a *give way* sign, which corresponds to ~60 images. Given the heuristic, we drop x images that are too close to *image y*. x being 15 and y being the first image in this series, we would only keep the images [1, 16, 31, 46]."
   ]
  },
  {
   "cell_type": "code",
   "execution_count": 5,
   "metadata": {},
   "outputs": [
    {
     "name": "stdout",
     "output_type": "stream",
     "text": [
      "Images per class that are being kept:  {1: 17, 101: 12, 102: 22, 103: 15, 104: 17, 105: 62, 106: 81, 107: 69, 12: 30, 13: 40, 14: 25, 109: 23, 108: 15, 9: 31, 110: 11, 41: 3, 111: 27}\n",
      "\n",
      "Images per class that are being droped:  {1: 225, 101: 163, 102: 289, 103: 213, 104: 231, 105: 862, 106: 1143, 107: 1008, 12: 410, 13: 556, 14: 356, 109: 349, 108: 206, 9: 435, 110: 130, 41: 38, 111: 351}\n",
      "\n",
      "Image-Count before: 7465\n",
      "Image-Count after:  500\n"
     ]
    }
   ],
   "source": [
    "# We want to distinguish between images that are to close to one another in time .\n",
    "# e.g. mulitple images from the same 1 second long video snippet.\n",
    "\n",
    "\n",
    "# We want to get the frame time.\n",
    "df_clean = df\n",
    "df_clean['TrackFrame'] = df_clean['Filename']  # Copy the Filename column.\n",
    "df_clean['TrackFrame'] = df_clean['TrackFrame'].str.extract('(\\d{5})', expand=True).astype(int)  # Extract the frame sequence number.\n",
    "\n",
    "classes = df_without_background_grouped['ClassId'].values  # Get all ClassIds (without background)\n",
    "\n",
    "amount_keep = dict((cl, 0) for cl in classes)\n",
    "amount_drop = dict((cl, 0) for cl in classes)\n",
    "\n",
    "index_to_drop = []\n",
    "\n",
    "for cl in classes:\n",
    "    track_frames = df_clean[df_clean['ClassId'] == cl]['TrackFrame'].values  # Get all FrameIDs.\n",
    "    \n",
    "    running_track_frame = 0\n",
    "    keep_amount, drop_amount = 0, 0\n",
    "    \n",
    "    for track_frame in track_frames:\n",
    "        if (track_frame - running_track_frame) > 15:  # entries to keep\n",
    "            running_track_frame = track_frame\n",
    "            keep_amount += 1\n",
    "        else:  # entries to drop\n",
    "            to_drop = df_clean[(df_clean['ClassId'] == cl) & (df_clean['TrackFrame'] == track_frame)]\n",
    "            drop_amount += 1\n",
    "            index_to_drop.append(to_drop.index.values[0])\n",
    "    \n",
    "    amount_keep[cl] = keep_amount\n",
    "    amount_drop[cl] = drop_amount\n",
    "\n",
    "df_clean = df_clean.drop(df_clean.index[sorted(index_to_drop)])\n",
    "df_clean = df_clean.drop(df_clean[df_clean['ClassId'] == 43].index)\n",
    "        \n",
    "print(\"Images per class that are being kept: \", amount_keep)\n",
    "print(\"\\nImages per class that are being droped: \", amount_drop)\n",
    "\n",
    "print(\"\\nImage-Count before: {}\".format(len(df_without_background)))\n",
    "print(\"Image-Count after:  {}\".format(len(df_clean)))"
   ]
  },
  {
   "cell_type": "code",
   "execution_count": 7,
   "metadata": {},
   "outputs": [
    {
     "data": {
      "image/png": "[encoded data removed]",
      "text/plain": [
       "<matplotlib.figure.Figure at 0x7f05d59c87f0>"
      ]
     },
     "metadata": {},
     "output_type": "display_data"
    },
    {
     "name": "stdout",
     "output_type": "stream",
     "text": [
      "ClassId\n",
      "1      17\n",
      "9      31\n",
      "12     30\n",
      "13     40\n",
      "14     25\n",
      "41      3\n",
      "101    12\n",
      "102    22\n",
      "103    15\n",
      "104    17\n",
      "105    62\n",
      "106    81\n",
      "107    69\n",
      "108    15\n",
      "109    23\n",
      "110    11\n",
      "111    27\n",
      "Name: Width, dtype: int64\n"
     ]
    }
   ],
   "source": [
    "df_clean_plot = df_clean.groupby('ClassId').count()['Width']  # Group the dataframe by classes.\n",
    "df_clean_plot.plot(kind='bar', figsize=(9,4),  title='Amount of Instances per Class (after clean-up)', legend=False)\n",
    "plt.show()\n",
    "\n",
    "print(df_clean_plot)"
   ]
  },
  {
   "cell_type": "code",
   "execution_count": null,
   "metadata": {},
   "outputs": [],
   "source": []
  }
 ],
 "metadata": {
  "kernelspec": {
   "display_name": "Python 3",
   "language": "python",
   "name": "python3"
  },
  "language_info": {
   "codemirror_mode": {
    "name": "ipython",
    "version": 3
   },
   "file_extension": ".py",
   "mimetype": "text/x-python",
   "name": "python",
   "nbconvert_exporter": "python",
   "pygments_lexer": "ipython3",
   "version": "3.5.2"
  }
 },
 "nbformat": 4,
 "nbformat_minor": 2
}
