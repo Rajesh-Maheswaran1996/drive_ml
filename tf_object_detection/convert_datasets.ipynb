{
 "cells": [
  {
   "cell_type": "code",
   "execution_count": 9,
   "metadata": {},
   "outputs": [],
   "source": [
    "# export locations of the scripts\n",
    "from export_locations import export_locations"
   ]
  },
  {
   "cell_type": "markdown",
   "metadata": {},
   "source": [
    "# GTSDB"
   ]
  },
  {
   "cell_type": "code",
   "execution_count": 10,
   "metadata": {},
   "outputs": [],
   "source": [
    "import pandas as pd\n",
    "import matplotlib.pyplot as plt"
   ]
  },
  {
   "cell_type": "code",
   "execution_count": 11,
   "metadata": {},
   "outputs": [],
   "source": [
    "import sys\n",
    "sys.path.append(\"../sign_recognition/dict/\") \n",
    "from sign_names_dict import sign_name_GTSRB_full_dict"
   ]
  },
  {
   "cell_type": "code",
   "execution_count": null,
   "metadata": {},
   "outputs": [],
   "source": [
    "df = pd.read_csv('/data/Images/Datasets/GTSDB/gt.csv')\n",
    "df_named = df.copy()\n",
    "df_named['ClassId'].replace(sign_name_GTSRB_full_dict, inplace=True)\n",
    "df_named.head()  # prints top 5 rows"
   ]
  },
  {
   "cell_type": "code",
   "execution_count": null,
   "metadata": {},
   "outputs": [],
   "source": [
    "grouped_classes = df_named.groupby('ClassId').count()['Roi.X1']  # Group the dataframe by classes.\n",
    "grouped_classes.plot(kind='bar', figsize=(9,4),  title='Amount of Instances per Class', legend=False)\n",
    "plt.show()"
   ]
  },
  {
   "cell_type": "code",
   "execution_count": null,
   "metadata": {},
   "outputs": [],
   "source": [
    "df.head()"
   ]
  },
  {
   "cell_type": "code",
   "execution_count": null,
   "metadata": {},
   "outputs": [],
   "source": [
    "from sign_names_dict import gtsrb_to_carolo\n",
    "df.head()\n",
    "df = df[df['ClassId'].isin(gtsrb_to_carolo)]\n",
    "df.head()"
   ]
  },
  {
   "cell_type": "code",
   "execution_count": 16,
   "metadata": {},
   "outputs": [
    {
     "data": {
      "image/png": "[encoded data removed]",
      "text/plain": [
       "<matplotlib.figure.Figure at 0x7f1d6f0fec18>"
      ]
     },
     "metadata": {
      "needs_background": "light"
     },
     "output_type": "display_data"
    }
   ],
   "source": [
    "from sign_names_dict import sign_name_carolo_dict\n",
    "df_named_cleaned = df.copy()\n",
    "df_named_cleaned['ClassId'].replace(sign_name_carolo_dict, inplace=True)\n",
    "grouped_classes = df_named_cleaned.groupby('ClassId').count()['Roi.X1']  # Group the dataframe by classes.\n",
    "grouped_classes.plot(kind='bar', figsize=(9,4),  title='Amount of Instances per Class', legend=False)\n",
    "plt.show()"
   ]
  },
  {
   "cell_type": "code",
   "execution_count": null,
   "metadata": {
    "collapsed": true
   },
   "outputs": [],
   "source": [
    "df.to_csv(export_locations['GTSDB'], sep=',', index=False)"
   ]
  },
  {
   "cell_type": "markdown",
   "metadata": {},
   "source": [
    "# LISA and LISA-TS-Extended\n",
    "\n",
    "Only usable signs are the stop signs.\n",
    "\n",
    "## LISA"
   ]
  },
  {
   "cell_type": "code",
   "execution_count": 29,
   "metadata": {},
   "outputs": [
    {
     "data": {
      "text/html": [
       "<div>\n",
       "<style scoped>\n",
       "    .dataframe tbody tr th:only-of-type {\n",
       "        vertical-align: middle;\n",
       "    }\n",
       "\n",
       "    .dataframe tbody tr th {\n",
       "        vertical-align: top;\n",
       "    }\n",
       "\n",
       "    .dataframe thead th {\n",
       "        text-align: right;\n",
       "    }\n",
       "</style>\n",
       "<table border=\"1\" class=\"dataframe\">\n",
       "  <thead>\n",
       "    <tr style=\"text-align: right;\">\n",
       "      <th></th>\n",
       "      <th>Filename</th>\n",
       "      <th>Annotation tag</th>\n",
       "      <th>Upper left corner X</th>\n",
       "      <th>Upper left corner Y</th>\n",
       "      <th>Lower right corner X</th>\n",
       "      <th>Lower right corner Y</th>\n",
       "      <th>Occluded</th>\n",
       "      <th>On another road</th>\n",
       "      <th>Origin file</th>\n",
       "      <th>Origin frame number</th>\n",
       "      <th>Origin track</th>\n",
       "      <th>Origin track frame number</th>\n",
       "    </tr>\n",
       "  </thead>\n",
       "  <tbody>\n",
       "    <tr>\n",
       "      <th>0</th>\n",
       "      <td>aiua120214-0/frameAnnotations-DataLog02142012_...</td>\n",
       "      <td>stop</td>\n",
       "      <td>862</td>\n",
       "      <td>104</td>\n",
       "      <td>916</td>\n",
       "      <td>158</td>\n",
       "      <td>0</td>\n",
       "      <td>0</td>\n",
       "      <td>aiua120214-0/DataLog02142012_external_camera.avi</td>\n",
       "      <td>2667</td>\n",
       "      <td>stop_1330545910.avi</td>\n",
       "      <td>2</td>\n",
       "    </tr>\n",
       "    <tr>\n",
       "      <th>1</th>\n",
       "      <td>aiua120214-0/frameAnnotations-DataLog02142012_...</td>\n",
       "      <td>stop</td>\n",
       "      <td>922</td>\n",
       "      <td>88</td>\n",
       "      <td>982</td>\n",
       "      <td>148</td>\n",
       "      <td>1</td>\n",
       "      <td>0</td>\n",
       "      <td>aiua120214-0/DataLog02142012_external_camera.avi</td>\n",
       "      <td>2672</td>\n",
       "      <td>stop_1330545910.avi</td>\n",
       "      <td>7</td>\n",
       "    </tr>\n",
       "    <tr>\n",
       "      <th>2</th>\n",
       "      <td>aiua120214-0/frameAnnotations-DataLog02142012_...</td>\n",
       "      <td>stop</td>\n",
       "      <td>376</td>\n",
       "      <td>138</td>\n",
       "      <td>413</td>\n",
       "      <td>175</td>\n",
       "      <td>0</td>\n",
       "      <td>0</td>\n",
       "      <td>aiua120214-0/DataLog02142012_external_camera.avi</td>\n",
       "      <td>3176</td>\n",
       "      <td>stop_1330545935.avi</td>\n",
       "      <td>2</td>\n",
       "    </tr>\n",
       "    <tr>\n",
       "      <th>3</th>\n",
       "      <td>aiua120214-0/frameAnnotations-DataLog02142012_...</td>\n",
       "      <td>stop</td>\n",
       "      <td>709</td>\n",
       "      <td>203</td>\n",
       "      <td>726</td>\n",
       "      <td>227</td>\n",
       "      <td>0</td>\n",
       "      <td>1</td>\n",
       "      <td>aiua120214-0/DataLog02142012_external_camera.avi</td>\n",
       "      <td>3176</td>\n",
       "      <td>stop_1330545935.avi</td>\n",
       "      <td>2</td>\n",
       "    </tr>\n",
       "    <tr>\n",
       "      <th>4</th>\n",
       "      <td>aiua120214-0/frameAnnotations-DataLog02142012_...</td>\n",
       "      <td>stop</td>\n",
       "      <td>412</td>\n",
       "      <td>145</td>\n",
       "      <td>451</td>\n",
       "      <td>185</td>\n",
       "      <td>0</td>\n",
       "      <td>0</td>\n",
       "      <td>aiua120214-0/DataLog02142012_external_camera.avi</td>\n",
       "      <td>3181</td>\n",
       "      <td>stop_1330545935.avi</td>\n",
       "      <td>7</td>\n",
       "    </tr>\n",
       "  </tbody>\n",
       "</table>\n",
       "</div>"
      ],
      "text/plain": [
       "                                            Filename Annotation tag  \\\n",
       "0  aiua120214-0/frameAnnotations-DataLog02142012_...           stop   \n",
       "1  aiua120214-0/frameAnnotations-DataLog02142012_...           stop   \n",
       "2  aiua120214-0/frameAnnotations-DataLog02142012_...           stop   \n",
       "3  aiua120214-0/frameAnnotations-DataLog02142012_...           stop   \n",
       "4  aiua120214-0/frameAnnotations-DataLog02142012_...           stop   \n",
       "\n",
       "   Upper left corner X  Upper left corner Y  Lower right corner X  \\\n",
       "0                  862                  104                   916   \n",
       "1                  922                   88                   982   \n",
       "2                  376                  138                   413   \n",
       "3                  709                  203                   726   \n",
       "4                  412                  145                   451   \n",
       "\n",
       "   Lower right corner Y  Occluded  On another road  \\\n",
       "0                   158         0                0   \n",
       "1                   148         1                0   \n",
       "2                   175         0                0   \n",
       "3                   227         0                1   \n",
       "4                   185         0                0   \n",
       "\n",
       "                                        Origin file  Origin frame number  \\\n",
       "0  aiua120214-0/DataLog02142012_external_camera.avi                 2667   \n",
       "1  aiua120214-0/DataLog02142012_external_camera.avi                 2672   \n",
       "2  aiua120214-0/DataLog02142012_external_camera.avi                 3176   \n",
       "3  aiua120214-0/DataLog02142012_external_camera.avi                 3176   \n",
       "4  aiua120214-0/DataLog02142012_external_camera.avi                 3181   \n",
       "\n",
       "          Origin track  Origin track frame number  \n",
       "0  stop_1330545910.avi                          2  \n",
       "1  stop_1330545910.avi                          7  \n",
       "2  stop_1330545935.avi                          2  \n",
       "3  stop_1330545935.avi                          2  \n",
       "4  stop_1330545935.avi                          7  "
      ]
     },
     "execution_count": 29,
     "metadata": {},
     "output_type": "execute_result"
    }
   ],
   "source": [
    "df = pd.read_csv('/data/Images/Datasets/LISA/TS/LISA_filtered.csv')\n",
    "df.head()  # prints top 5 rows"
   ]
  },
  {
   "cell_type": "code",
   "execution_count": 30,
   "metadata": {},
   "outputs": [
    {
     "data": {
      "text/html": [
       "<div>\n",
       "<style scoped>\n",
       "    .dataframe tbody tr th:only-of-type {\n",
       "        vertical-align: middle;\n",
       "    }\n",
       "\n",
       "    .dataframe tbody tr th {\n",
       "        vertical-align: top;\n",
       "    }\n",
       "\n",
       "    .dataframe thead th {\n",
       "        text-align: right;\n",
       "    }\n",
       "</style>\n",
       "<table border=\"1\" class=\"dataframe\">\n",
       "  <thead>\n",
       "    <tr style=\"text-align: right;\">\n",
       "      <th></th>\n",
       "      <th>Filename</th>\n",
       "      <th>Roi.X1</th>\n",
       "      <th>Roi.Y1</th>\n",
       "      <th>Roi.X2</th>\n",
       "      <th>Roi.Y2</th>\n",
       "      <th>ClassId</th>\n",
       "    </tr>\n",
       "  </thead>\n",
       "  <tbody>\n",
       "    <tr>\n",
       "      <th>0</th>\n",
       "      <td>aiua120214-0/frameAnnotations-DataLog02142012_...</td>\n",
       "      <td>862</td>\n",
       "      <td>104</td>\n",
       "      <td>916</td>\n",
       "      <td>158</td>\n",
       "      <td>14</td>\n",
       "    </tr>\n",
       "    <tr>\n",
       "      <th>1</th>\n",
       "      <td>aiua120214-0/frameAnnotations-DataLog02142012_...</td>\n",
       "      <td>922</td>\n",
       "      <td>88</td>\n",
       "      <td>982</td>\n",
       "      <td>148</td>\n",
       "      <td>14</td>\n",
       "    </tr>\n",
       "    <tr>\n",
       "      <th>2</th>\n",
       "      <td>aiua120214-0/frameAnnotations-DataLog02142012_...</td>\n",
       "      <td>376</td>\n",
       "      <td>138</td>\n",
       "      <td>413</td>\n",
       "      <td>175</td>\n",
       "      <td>14</td>\n",
       "    </tr>\n",
       "    <tr>\n",
       "      <th>3</th>\n",
       "      <td>aiua120214-0/frameAnnotations-DataLog02142012_...</td>\n",
       "      <td>709</td>\n",
       "      <td>203</td>\n",
       "      <td>726</td>\n",
       "      <td>227</td>\n",
       "      <td>14</td>\n",
       "    </tr>\n",
       "    <tr>\n",
       "      <th>4</th>\n",
       "      <td>aiua120214-0/frameAnnotations-DataLog02142012_...</td>\n",
       "      <td>412</td>\n",
       "      <td>145</td>\n",
       "      <td>451</td>\n",
       "      <td>185</td>\n",
       "      <td>14</td>\n",
       "    </tr>\n",
       "  </tbody>\n",
       "</table>\n",
       "</div>"
      ],
      "text/plain": [
       "                                            Filename  Roi.X1  Roi.Y1  Roi.X2  \\\n",
       "0  aiua120214-0/frameAnnotations-DataLog02142012_...     862     104     916   \n",
       "1  aiua120214-0/frameAnnotations-DataLog02142012_...     922      88     982   \n",
       "2  aiua120214-0/frameAnnotations-DataLog02142012_...     376     138     413   \n",
       "3  aiua120214-0/frameAnnotations-DataLog02142012_...     709     203     726   \n",
       "4  aiua120214-0/frameAnnotations-DataLog02142012_...     412     145     451   \n",
       "\n",
       "   Roi.Y2  ClassId  \n",
       "0     158       14  \n",
       "1     148       14  \n",
       "2     175       14  \n",
       "3     227       14  \n",
       "4     185       14  "
      ]
     },
     "execution_count": 30,
     "metadata": {},
     "output_type": "execute_result"
    }
   ],
   "source": [
    "from sign_names_dict import LISA_to_carolo\n",
    "carolo_df = df[['Filename', 'Upper left corner X', 'Upper left corner Y', 'Lower right corner X', 'Lower right corner Y', 'Annotation tag']].copy()\n",
    "carolo_df.rename(\n",
    "  columns={\n",
    "    'Upper left corner X' : 'Roi.X1',\n",
    "    'Upper left corner Y' : 'Roi.Y1',\n",
    "    'Lower right corner X' : 'Roi.X2',\n",
    "    'Lower right corner Y' : 'Roi.Y2',\n",
    "    'Annotation tag' : 'ClassId'\n",
    "  },\n",
    "  inplace=True\n",
    ")\n",
    "carolo_df['ClassId'].replace(LISA_to_carolo, inplace=True)\n",
    "carolo_df.to_csv(export_locations['LISA'], sep=',', index=False)\n",
    "carolo_df.head()"
   ]
  },
  {
   "cell_type": "code",
   "execution_count": null,
   "metadata": {},
   "outputs": [],
   "source": [
    "print('LISA Contains', carolo_df['ClassId'].size, 'stop signs')"
   ]
  },
  {
   "cell_type": "markdown",
   "metadata": {},
   "source": [
    "## LISA-Extended\n",
    "\n",
    "Same deal, just stop signs"
   ]
  },
  {
   "cell_type": "code",
   "execution_count": 25,
   "metadata": {},
   "outputs": [
    {
     "data": {
      "text/html": [
       "<div>\n",
       "<style scoped>\n",
       "    .dataframe tbody tr th:only-of-type {\n",
       "        vertical-align: middle;\n",
       "    }\n",
       "\n",
       "    .dataframe tbody tr th {\n",
       "        vertical-align: top;\n",
       "    }\n",
       "\n",
       "    .dataframe thead th {\n",
       "        text-align: right;\n",
       "    }\n",
       "</style>\n",
       "<table border=\"1\" class=\"dataframe\">\n",
       "  <thead>\n",
       "    <tr style=\"text-align: right;\">\n",
       "      <th></th>\n",
       "      <th>Filename</th>\n",
       "      <th>Roi.X1</th>\n",
       "      <th>Roi.Y1</th>\n",
       "      <th>Roi.X2</th>\n",
       "      <th>Roi.Y2</th>\n",
       "      <th>ClassId</th>\n",
       "    </tr>\n",
       "  </thead>\n",
       "  <tbody>\n",
       "    <tr>\n",
       "      <th>0</th>\n",
       "      <td>2014-04-24_10-59/frameAnnotations-cam1-2.avi_a...</td>\n",
       "      <td>810</td>\n",
       "      <td>436</td>\n",
       "      <td>838</td>\n",
       "      <td>468</td>\n",
       "      <td>14</td>\n",
       "    </tr>\n",
       "    <tr>\n",
       "      <th>1</th>\n",
       "      <td>2014-04-24_10-59/frameAnnotations-cam1-2.avi_a...</td>\n",
       "      <td>830</td>\n",
       "      <td>436</td>\n",
       "      <td>855</td>\n",
       "      <td>462</td>\n",
       "      <td>14</td>\n",
       "    </tr>\n",
       "    <tr>\n",
       "      <th>2</th>\n",
       "      <td>2014-04-24_10-59/frameAnnotations-cam1-2.avi_a...</td>\n",
       "      <td>861</td>\n",
       "      <td>428</td>\n",
       "      <td>896</td>\n",
       "      <td>464</td>\n",
       "      <td>14</td>\n",
       "    </tr>\n",
       "    <tr>\n",
       "      <th>3</th>\n",
       "      <td>2014-04-24_10-59/frameAnnotations-cam1-2.avi_a...</td>\n",
       "      <td>877</td>\n",
       "      <td>428</td>\n",
       "      <td>907</td>\n",
       "      <td>461</td>\n",
       "      <td>14</td>\n",
       "    </tr>\n",
       "    <tr>\n",
       "      <th>4</th>\n",
       "      <td>2014-04-24_10-59/frameAnnotations-cam1-2.avi_a...</td>\n",
       "      <td>943</td>\n",
       "      <td>418</td>\n",
       "      <td>979</td>\n",
       "      <td>457</td>\n",
       "      <td>14</td>\n",
       "    </tr>\n",
       "  </tbody>\n",
       "</table>\n",
       "</div>"
      ],
      "text/plain": [
       "                                            Filename  Roi.X1  Roi.Y1  Roi.X2  \\\n",
       "0  2014-04-24_10-59/frameAnnotations-cam1-2.avi_a...     810     436     838   \n",
       "1  2014-04-24_10-59/frameAnnotations-cam1-2.avi_a...     830     436     855   \n",
       "2  2014-04-24_10-59/frameAnnotations-cam1-2.avi_a...     861     428     896   \n",
       "3  2014-04-24_10-59/frameAnnotations-cam1-2.avi_a...     877     428     907   \n",
       "4  2014-04-24_10-59/frameAnnotations-cam1-2.avi_a...     943     418     979   \n",
       "\n",
       "   Roi.Y2  ClassId  \n",
       "0     468       14  \n",
       "1     462       14  \n",
       "2     464       14  \n",
       "3     461       14  \n",
       "4     457       14  "
      ]
     },
     "execution_count": 25,
     "metadata": {},
     "output_type": "execute_result"
    }
   ],
   "source": [
    "df = pd.read_csv('/data/Images/Datasets/LISA/training/allTrainingAnnotations.csv')\n",
    "df.head()  # prints top 5 rows"
   ]
  },
  {
   "cell_type": "code",
   "execution_count": 31,
   "metadata": {},
   "outputs": [
    {
     "ename": "KeyError",
     "evalue": "'ClassId'",
     "output_type": "error",
     "traceback": [
      "\u001b[0;31m---------------------------------------------------------------------------\u001b[0m",
      "\u001b[0;31mKeyError\u001b[0m                                  Traceback (most recent call last)",
      "\u001b[0;32m/usr/local/lib/python3.5/dist-packages/pandas/core/indexes/base.py\u001b[0m in \u001b[0;36mget_loc\u001b[0;34m(self, key, method, tolerance)\u001b[0m\n\u001b[1;32m   3077\u001b[0m             \u001b[0;32mtry\u001b[0m\u001b[0;34m:\u001b[0m\u001b[0;34m\u001b[0m\u001b[0m\n\u001b[0;32m-> 3078\u001b[0;31m                 \u001b[0;32mreturn\u001b[0m \u001b[0mself\u001b[0m\u001b[0;34m.\u001b[0m\u001b[0m_engine\u001b[0m\u001b[0;34m.\u001b[0m\u001b[0mget_loc\u001b[0m\u001b[0;34m(\u001b[0m\u001b[0mkey\u001b[0m\u001b[0;34m)\u001b[0m\u001b[0;34m\u001b[0m\u001b[0m\n\u001b[0m\u001b[1;32m   3079\u001b[0m             \u001b[0;32mexcept\u001b[0m \u001b[0mKeyError\u001b[0m\u001b[0;34m:\u001b[0m\u001b[0;34m\u001b[0m\u001b[0m\n",
      "\u001b[0;32mpandas/_libs/index.pyx\u001b[0m in \u001b[0;36mpandas._libs.index.IndexEngine.get_loc\u001b[0;34m()\u001b[0m\n",
      "\u001b[0;32mpandas/_libs/index.pyx\u001b[0m in \u001b[0;36mpandas._libs.index.IndexEngine.get_loc\u001b[0;34m()\u001b[0m\n",
      "\u001b[0;32mpandas/_libs/hashtable_class_helper.pxi\u001b[0m in \u001b[0;36mpandas._libs.hashtable.PyObjectHashTable.get_item\u001b[0;34m()\u001b[0m\n",
      "\u001b[0;32mpandas/_libs/hashtable_class_helper.pxi\u001b[0m in \u001b[0;36mpandas._libs.hashtable.PyObjectHashTable.get_item\u001b[0;34m()\u001b[0m\n",
      "\u001b[0;31mKeyError\u001b[0m: 'ClassId'",
      "\nDuring handling of the above exception, another exception occurred:\n",
      "\u001b[0;31mKeyError\u001b[0m                                  Traceback (most recent call last)",
      "\u001b[0;32m<ipython-input-31-e307d816606e>\u001b[0m in \u001b[0;36m<module>\u001b[0;34m()\u001b[0m\n\u001b[1;32m     13\u001b[0m \u001b[0;34m\u001b[0m\u001b[0m\n\u001b[1;32m     14\u001b[0m \u001b[0mcarolo_df\u001b[0m \u001b[0;34m=\u001b[0m \u001b[0mdf\u001b[0m\u001b[0;34m\u001b[0m\u001b[0m\n\u001b[0;32m---> 15\u001b[0;31m \u001b[0mcarolo_df\u001b[0m\u001b[0;34m[\u001b[0m\u001b[0;34m'ClassId'\u001b[0m\u001b[0;34m]\u001b[0m\u001b[0;34m.\u001b[0m\u001b[0mreplace\u001b[0m\u001b[0;34m(\u001b[0m\u001b[0mLISA_to_carolo\u001b[0m\u001b[0;34m,\u001b[0m \u001b[0minplace\u001b[0m\u001b[0;34m=\u001b[0m\u001b[0;32mTrue\u001b[0m\u001b[0;34m)\u001b[0m\u001b[0;34m\u001b[0m\u001b[0m\n\u001b[0m\u001b[1;32m     16\u001b[0m \u001b[0mcarolo_df\u001b[0m\u001b[0;34m.\u001b[0m\u001b[0mto_csv\u001b[0m\u001b[0;34m(\u001b[0m\u001b[0mexport_locations\u001b[0m\u001b[0;34m[\u001b[0m\u001b[0;34m'LISA_EXTENDED'\u001b[0m\u001b[0;34m]\u001b[0m\u001b[0;34m,\u001b[0m \u001b[0msep\u001b[0m\u001b[0;34m=\u001b[0m\u001b[0;34m','\u001b[0m\u001b[0;34m,\u001b[0m \u001b[0mindex\u001b[0m\u001b[0;34m=\u001b[0m\u001b[0;32mFalse\u001b[0m\u001b[0;34m)\u001b[0m\u001b[0;34m\u001b[0m\u001b[0m\n\u001b[1;32m     17\u001b[0m \u001b[0mcarolo_df\u001b[0m\u001b[0;34m.\u001b[0m\u001b[0mhead\u001b[0m\u001b[0;34m(\u001b[0m\u001b[0;34m)\u001b[0m\u001b[0;34m\u001b[0m\u001b[0m\n",
      "\u001b[0;32m/usr/local/lib/python3.5/dist-packages/pandas/core/frame.py\u001b[0m in \u001b[0;36m__getitem__\u001b[0;34m(self, key)\u001b[0m\n\u001b[1;32m   2686\u001b[0m             \u001b[0;32mreturn\u001b[0m \u001b[0mself\u001b[0m\u001b[0;34m.\u001b[0m\u001b[0m_getitem_multilevel\u001b[0m\u001b[0;34m(\u001b[0m\u001b[0mkey\u001b[0m\u001b[0;34m)\u001b[0m\u001b[0;34m\u001b[0m\u001b[0m\n\u001b[1;32m   2687\u001b[0m         \u001b[0;32melse\u001b[0m\u001b[0;34m:\u001b[0m\u001b[0;34m\u001b[0m\u001b[0m\n\u001b[0;32m-> 2688\u001b[0;31m             \u001b[0;32mreturn\u001b[0m \u001b[0mself\u001b[0m\u001b[0;34m.\u001b[0m\u001b[0m_getitem_column\u001b[0m\u001b[0;34m(\u001b[0m\u001b[0mkey\u001b[0m\u001b[0;34m)\u001b[0m\u001b[0;34m\u001b[0m\u001b[0m\n\u001b[0m\u001b[1;32m   2689\u001b[0m \u001b[0;34m\u001b[0m\u001b[0m\n\u001b[1;32m   2690\u001b[0m     \u001b[0;32mdef\u001b[0m \u001b[0m_getitem_column\u001b[0m\u001b[0;34m(\u001b[0m\u001b[0mself\u001b[0m\u001b[0;34m,\u001b[0m \u001b[0mkey\u001b[0m\u001b[0;34m)\u001b[0m\u001b[0;34m:\u001b[0m\u001b[0;34m\u001b[0m\u001b[0m\n",
      "\u001b[0;32m/usr/local/lib/python3.5/dist-packages/pandas/core/frame.py\u001b[0m in \u001b[0;36m_getitem_column\u001b[0;34m(self, key)\u001b[0m\n\u001b[1;32m   2693\u001b[0m         \u001b[0;31m# get column\u001b[0m\u001b[0;34m\u001b[0m\u001b[0;34m\u001b[0m\u001b[0m\n\u001b[1;32m   2694\u001b[0m         \u001b[0;32mif\u001b[0m \u001b[0mself\u001b[0m\u001b[0;34m.\u001b[0m\u001b[0mcolumns\u001b[0m\u001b[0;34m.\u001b[0m\u001b[0mis_unique\u001b[0m\u001b[0;34m:\u001b[0m\u001b[0;34m\u001b[0m\u001b[0m\n\u001b[0;32m-> 2695\u001b[0;31m             \u001b[0;32mreturn\u001b[0m \u001b[0mself\u001b[0m\u001b[0;34m.\u001b[0m\u001b[0m_get_item_cache\u001b[0m\u001b[0;34m(\u001b[0m\u001b[0mkey\u001b[0m\u001b[0;34m)\u001b[0m\u001b[0;34m\u001b[0m\u001b[0m\n\u001b[0m\u001b[1;32m   2696\u001b[0m \u001b[0;34m\u001b[0m\u001b[0m\n\u001b[1;32m   2697\u001b[0m         \u001b[0;31m# duplicate columns & possible reduce dimensionality\u001b[0m\u001b[0;34m\u001b[0m\u001b[0;34m\u001b[0m\u001b[0m\n",
      "\u001b[0;32m/usr/local/lib/python3.5/dist-packages/pandas/core/generic.py\u001b[0m in \u001b[0;36m_get_item_cache\u001b[0;34m(self, item)\u001b[0m\n\u001b[1;32m   2487\u001b[0m         \u001b[0mres\u001b[0m \u001b[0;34m=\u001b[0m \u001b[0mcache\u001b[0m\u001b[0;34m.\u001b[0m\u001b[0mget\u001b[0m\u001b[0;34m(\u001b[0m\u001b[0mitem\u001b[0m\u001b[0;34m)\u001b[0m\u001b[0;34m\u001b[0m\u001b[0m\n\u001b[1;32m   2488\u001b[0m         \u001b[0;32mif\u001b[0m \u001b[0mres\u001b[0m \u001b[0;32mis\u001b[0m \u001b[0;32mNone\u001b[0m\u001b[0;34m:\u001b[0m\u001b[0;34m\u001b[0m\u001b[0m\n\u001b[0;32m-> 2489\u001b[0;31m             \u001b[0mvalues\u001b[0m \u001b[0;34m=\u001b[0m \u001b[0mself\u001b[0m\u001b[0;34m.\u001b[0m\u001b[0m_data\u001b[0m\u001b[0;34m.\u001b[0m\u001b[0mget\u001b[0m\u001b[0;34m(\u001b[0m\u001b[0mitem\u001b[0m\u001b[0;34m)\u001b[0m\u001b[0;34m\u001b[0m\u001b[0m\n\u001b[0m\u001b[1;32m   2490\u001b[0m             \u001b[0mres\u001b[0m \u001b[0;34m=\u001b[0m \u001b[0mself\u001b[0m\u001b[0;34m.\u001b[0m\u001b[0m_box_item_values\u001b[0m\u001b[0;34m(\u001b[0m\u001b[0mitem\u001b[0m\u001b[0;34m,\u001b[0m \u001b[0mvalues\u001b[0m\u001b[0;34m)\u001b[0m\u001b[0;34m\u001b[0m\u001b[0m\n\u001b[1;32m   2491\u001b[0m             \u001b[0mcache\u001b[0m\u001b[0;34m[\u001b[0m\u001b[0mitem\u001b[0m\u001b[0;34m]\u001b[0m \u001b[0;34m=\u001b[0m \u001b[0mres\u001b[0m\u001b[0;34m\u001b[0m\u001b[0m\n",
      "\u001b[0;32m/usr/local/lib/python3.5/dist-packages/pandas/core/internals.py\u001b[0m in \u001b[0;36mget\u001b[0;34m(self, item, fastpath)\u001b[0m\n\u001b[1;32m   4113\u001b[0m \u001b[0;34m\u001b[0m\u001b[0m\n\u001b[1;32m   4114\u001b[0m             \u001b[0;32mif\u001b[0m \u001b[0;32mnot\u001b[0m \u001b[0misna\u001b[0m\u001b[0;34m(\u001b[0m\u001b[0mitem\u001b[0m\u001b[0;34m)\u001b[0m\u001b[0;34m:\u001b[0m\u001b[0;34m\u001b[0m\u001b[0m\n\u001b[0;32m-> 4115\u001b[0;31m                 \u001b[0mloc\u001b[0m \u001b[0;34m=\u001b[0m \u001b[0mself\u001b[0m\u001b[0;34m.\u001b[0m\u001b[0mitems\u001b[0m\u001b[0;34m.\u001b[0m\u001b[0mget_loc\u001b[0m\u001b[0;34m(\u001b[0m\u001b[0mitem\u001b[0m\u001b[0;34m)\u001b[0m\u001b[0;34m\u001b[0m\u001b[0m\n\u001b[0m\u001b[1;32m   4116\u001b[0m             \u001b[0;32melse\u001b[0m\u001b[0;34m:\u001b[0m\u001b[0;34m\u001b[0m\u001b[0m\n\u001b[1;32m   4117\u001b[0m                 \u001b[0mindexer\u001b[0m \u001b[0;34m=\u001b[0m \u001b[0mnp\u001b[0m\u001b[0;34m.\u001b[0m\u001b[0marange\u001b[0m\u001b[0;34m(\u001b[0m\u001b[0mlen\u001b[0m\u001b[0;34m(\u001b[0m\u001b[0mself\u001b[0m\u001b[0;34m.\u001b[0m\u001b[0mitems\u001b[0m\u001b[0;34m)\u001b[0m\u001b[0;34m)\u001b[0m\u001b[0;34m[\u001b[0m\u001b[0misna\u001b[0m\u001b[0;34m(\u001b[0m\u001b[0mself\u001b[0m\u001b[0;34m.\u001b[0m\u001b[0mitems\u001b[0m\u001b[0;34m)\u001b[0m\u001b[0;34m]\u001b[0m\u001b[0;34m\u001b[0m\u001b[0m\n",
      "\u001b[0;32m/usr/local/lib/python3.5/dist-packages/pandas/core/indexes/base.py\u001b[0m in \u001b[0;36mget_loc\u001b[0;34m(self, key, method, tolerance)\u001b[0m\n\u001b[1;32m   3078\u001b[0m                 \u001b[0;32mreturn\u001b[0m \u001b[0mself\u001b[0m\u001b[0;34m.\u001b[0m\u001b[0m_engine\u001b[0m\u001b[0;34m.\u001b[0m\u001b[0mget_loc\u001b[0m\u001b[0;34m(\u001b[0m\u001b[0mkey\u001b[0m\u001b[0;34m)\u001b[0m\u001b[0;34m\u001b[0m\u001b[0m\n\u001b[1;32m   3079\u001b[0m             \u001b[0;32mexcept\u001b[0m \u001b[0mKeyError\u001b[0m\u001b[0;34m:\u001b[0m\u001b[0;34m\u001b[0m\u001b[0m\n\u001b[0;32m-> 3080\u001b[0;31m                 \u001b[0;32mreturn\u001b[0m \u001b[0mself\u001b[0m\u001b[0;34m.\u001b[0m\u001b[0m_engine\u001b[0m\u001b[0;34m.\u001b[0m\u001b[0mget_loc\u001b[0m\u001b[0;34m(\u001b[0m\u001b[0mself\u001b[0m\u001b[0;34m.\u001b[0m\u001b[0m_maybe_cast_indexer\u001b[0m\u001b[0;34m(\u001b[0m\u001b[0mkey\u001b[0m\u001b[0;34m)\u001b[0m\u001b[0;34m)\u001b[0m\u001b[0;34m\u001b[0m\u001b[0m\n\u001b[0m\u001b[1;32m   3081\u001b[0m \u001b[0;34m\u001b[0m\u001b[0m\n\u001b[1;32m   3082\u001b[0m         \u001b[0mindexer\u001b[0m \u001b[0;34m=\u001b[0m \u001b[0mself\u001b[0m\u001b[0;34m.\u001b[0m\u001b[0mget_indexer\u001b[0m\u001b[0;34m(\u001b[0m\u001b[0;34m[\u001b[0m\u001b[0mkey\u001b[0m\u001b[0;34m]\u001b[0m\u001b[0;34m,\u001b[0m \u001b[0mmethod\u001b[0m\u001b[0;34m=\u001b[0m\u001b[0mmethod\u001b[0m\u001b[0;34m,\u001b[0m \u001b[0mtolerance\u001b[0m\u001b[0;34m=\u001b[0m\u001b[0mtolerance\u001b[0m\u001b[0;34m)\u001b[0m\u001b[0;34m\u001b[0m\u001b[0m\n",
      "\u001b[0;32mpandas/_libs/index.pyx\u001b[0m in \u001b[0;36mpandas._libs.index.IndexEngine.get_loc\u001b[0;34m()\u001b[0m\n",
      "\u001b[0;32mpandas/_libs/index.pyx\u001b[0m in \u001b[0;36mpandas._libs.index.IndexEngine.get_loc\u001b[0;34m()\u001b[0m\n",
      "\u001b[0;32mpandas/_libs/hashtable_class_helper.pxi\u001b[0m in \u001b[0;36mpandas._libs.hashtable.PyObjectHashTable.get_item\u001b[0;34m()\u001b[0m\n",
      "\u001b[0;32mpandas/_libs/hashtable_class_helper.pxi\u001b[0m in \u001b[0;36mpandas._libs.hashtable.PyObjectHashTable.get_item\u001b[0;34m()\u001b[0m\n",
      "\u001b[0;31mKeyError\u001b[0m: 'ClassId'"
     ]
    }
   ],
   "source": [
    "#carolo_df = df[['Filename', 'Upper left corner X', 'Upper left corner Y', 'Lower right corner X', 'Lower right corner Y', 'Annotation tag']].copy()\n",
    "#carolo_df.rename(\n",
    "#  columns={\n",
    "#    'Upper left corner X' : 'Roi.X1',\n",
    "#    'Upper left corner Y' : 'Roi.Y1',\n",
    "#    'Lower right corner X' : 'Roi.X2',\n",
    "#    'Lower right corner Y' : 'Roi.Y2',\n",
    "#    'Annotation tag' : 'ClassId'\n",
    "#  },\n",
    "#  inplace=True\n",
    "#)\n",
    "\n",
    "\n",
    "carolo_df = df\n",
    "carolo_df['ClassId'].replace(LISA_to_carolo, inplace=True)\n",
    "carolo_df.to_csv(export_locations['LISA_EXTENDED'], sep=',', index=False)\n",
    "carolo_df.head()"
   ]
  },
  {
   "cell_type": "code",
   "execution_count": null,
   "metadata": {},
   "outputs": [],
   "source": [
    "print('LISA Extended Contains', carolo_df['ClassId'].size, 'stop signs')"
   ]
  },
  {
   "cell_type": "markdown",
   "metadata": {},
   "source": [
    "# BTSD\n",
    "\n",
    "Contains most of our classes except for turn signals and speed zones.\n",
    "\n",
    "## Testing set"
   ]
  },
  {
   "cell_type": "code",
   "execution_count": null,
   "metadata": {
    "collapsed": true
   },
   "outputs": [],
   "source": [
    "df = pd.read_csv('/data/Images/Datasets/BTSDB/BelgiumTSD_annotations/BTSD_testing_GTclear.txt')"
   ]
  },
  {
   "cell_type": "code",
   "execution_count": null,
   "metadata": {},
   "outputs": [],
   "source": [
    "# remove trailing class added by comma and superclass\n",
    "df = df.drop(['SuperclassId', 'Unnamed: 7'], axis=1)\n",
    "df.head()"
   ]
  },
  {
   "cell_type": "code",
   "execution_count": null,
   "metadata": {},
   "outputs": [],
   "source": [
    "from sign_names_dict import BTSD_to_carolo\n",
    "df = df[df['ClassId'].isin(BTSD_to_carolo)]\n",
    "df['ClassId'].replace(BTSD_to_carolo, inplace=True)\n",
    "df_visual = df.copy()\n",
    "df_visual['ClassId'].replace(sign_name_carolo_dict, inplace=True)\n",
    "grouped_classes = df_visual.groupby('ClassId').count()['Roi.X1']  # Group the dataframe by classes.\n",
    "grouped_classes.plot(kind='bar', figsize=(9,4),  title='Amount of Instances per Class', legend=False)\n",
    "plt.show()"
   ]
  },
  {
   "cell_type": "code",
   "execution_count": null,
   "metadata": {
    "collapsed": true
   },
   "outputs": [],
   "source": [
    "df.to_csv(export_locations['BTSD_TESTING'], sep=',', index=False)"
   ]
  },
  {
   "cell_type": "markdown",
   "metadata": {},
   "source": [
    "## Training set"
   ]
  },
  {
   "cell_type": "code",
   "execution_count": null,
   "metadata": {},
   "outputs": [],
   "source": [
    "df = pd.read_csv('/data/Images/Datasets/BTSDB/BelgiumTSD_annotations/BTSD_training_GTclear.txt')\n",
    "df = df.drop(['SuperclassId', 'Unnamed: 7'], axis=1)\n",
    "df.head()"
   ]
  },
  {
   "cell_type": "code",
   "execution_count": null,
   "metadata": {},
   "outputs": [],
   "source": [
    "df = df[df['ClassId'].isin(BTSD_to_carolo)]\n",
    "df['ClassId'].replace(BTSD_to_carolo, inplace=True)\n",
    "df_visual = df.copy()\n",
    "df_visual['ClassId'].replace(sign_name_carolo_dict, inplace=True)\n",
    "grouped_classes = df_visual.groupby('ClassId').count()['Roi.X1']  # Group the dataframe by classes.\n",
    "grouped_classes.plot(kind='bar', figsize=(9,4),  title='Amount of Instances per Class', legend=False)\n",
    "plt.show()"
   ]
  },
  {
   "cell_type": "code",
   "execution_count": null,
   "metadata": {
    "collapsed": true
   },
   "outputs": [],
   "source": [
    "df.to_csv(export_locations['BTSD_TRAINING'], sep=',', index=False)"
   ]
  },
  {
   "cell_type": "markdown",
   "metadata": {},
   "source": [
    "# Swedish Traffic Sign Dataset (STS)\n",
    "\n",
    "Sweden also uses yellow as base, same as US, but some more usable signs overall"
   ]
  },
  {
   "cell_type": "code",
   "execution_count": null,
   "metadata": {
    "collapsed": true
   },
   "outputs": [],
   "source": [
    "# parse the dataset\n",
    "def read_sts_annotation(filepath):\n",
    "    data = []\n",
    "    with open(filepath, 'r') as file:\n",
    "        text = file.read() \n",
    "    lines = text.split('\\n')\n",
    "    for line in lines[0:-2]:\n",
    "        split_line = line.split(':')\n",
    "        filename = str(split_line[0]).lstrip()\n",
    "        if filename == '':\n",
    "            print('ERROR: file incorrect!')\n",
    "            break\n",
    "\n",
    "        if split_line[1] == '':\n",
    "            continue\n",
    "        else:\n",
    "            split_signs = split_line[1].split(';')\n",
    "            for split_sign in split_signs[0:-2]:\n",
    "                sign_info = split_sign.split(',')\n",
    "                \n",
    "                # skip misc signs with no info\n",
    "                if sign_info[0] == 'MISC_SIGNS':\n",
    "                    continue\n",
    "                \n",
    "                sign_name = str(sign_info[-1]).lstrip()\n",
    "                # tl positions are second\n",
    "                x1 = float(sign_info[-4].lstrip())\n",
    "                y1 = float(sign_info[-3].lstrip())\n",
    "                x2 = float(sign_info[-5].lstrip())\n",
    "                y2 = float(sign_info[-6].lstrip())\n",
    "                data.append([filename, x1, y1, x2, y2, sign_name])\n",
    "                \n",
    "    df = pd.DataFrame(data, columns=['Filename','Roi.X1','Roi.Y1','Roi.X2','Roi.Y2','ClassId'])\n",
    "    return df"
   ]
  },
  {
   "cell_type": "code",
   "execution_count": null,
   "metadata": {},
   "outputs": [],
   "source": [
    "df = read_sts_annotation('/data/Images/Datasets/STS/annotations_1.txt')\n",
    "df.head()"
   ]
  },
  {
   "cell_type": "code",
   "execution_count": null,
   "metadata": {},
   "outputs": [],
   "source": [
    "from sign_names_dict import STS_to_carolo\n",
    "df = df[df['ClassId'].isin(STS_to_carolo)]\n",
    "df['ClassId'].replace(STS_to_carolo, inplace=True)\n",
    "df_visual = df.copy()\n",
    "df_visual['ClassId'].replace(sign_name_carolo_dict, inplace=True)\n",
    "grouped_classes = df_visual.groupby('ClassId').count()['Roi.X1']  # Group the dataframe by classes.\n",
    "grouped_classes.plot(kind='bar', figsize=(9,4),  title='Amount of Instances per Class', legend=False)\n",
    "plt.show()"
   ]
  },
  {
   "cell_type": "code",
   "execution_count": null,
   "metadata": {
    "collapsed": true
   },
   "outputs": [],
   "source": [
    "df.to_csv('/data/Images/Datasets/STS/annotations_1_carolo.csv', sep=',', index=False)"
   ]
  },
  {
   "cell_type": "code",
   "execution_count": null,
   "metadata": {},
   "outputs": [],
   "source": [
    "df = read_sts_annotation('/data/Images/Datasets/STS/annotations_2.txt')\n",
    "df.head()"
   ]
  },
  {
   "cell_type": "code",
   "execution_count": null,
   "metadata": {},
   "outputs": [],
   "source": [
    "df = df[df['ClassId'].isin(STS_to_carolo)]\n",
    "df['ClassId'].replace(STS_to_carolo, inplace=True)\n",
    "df_visual = df.copy()\n",
    "df_visual['ClassId'].replace(sign_name_carolo_dict, inplace=True)\n",
    "grouped_classes = df_visual.groupby('ClassId').count()['Roi.X1']  # Group the dataframe by classes.\n",
    "grouped_classes.plot(kind='bar', figsize=(9,4),  title='Amount of Instances per Class', legend=False)\n",
    "plt.show()"
   ]
  },
  {
   "cell_type": "code",
   "execution_count": null,
   "metadata": {
    "collapsed": true
   },
   "outputs": [],
   "source": [
    "df.to_csv(export_locations['STS'], sep=',', index=False)"
   ]
  },
  {
   "cell_type": "markdown",
   "metadata": {},
   "source": [
    "# Dataset of Italian Traffic Signs (DITS)\n",
    "\n",
    "For some reason no annotations are uploaded for the detection subset and detection subset is more like GTSRB (cropped window) even though in their paper it looks fine (and in the test data) and in the paper they promise to \"improve soon\"."
   ]
  },
  {
   "cell_type": "markdown",
   "metadata": {},
   "source": [
    "# Russian Traffic Sign Dataset \n",
    "\n",
    "Merged subclass annotations into single file for each of the three dataset-parts, bash script is in the dataset root."
   ]
  },
  {
   "cell_type": "code",
   "execution_count": 13,
   "metadata": {},
   "outputs": [],
   "source": [
    "from IPython.display import display\n",
    "\n",
    "def convert_rtsb_df(rtsb_csv_path):\n",
    "    df = pd.read_csv(rtsb_csv_path)\n",
    "    df.rename(\n",
    "      columns={\n",
    "        'x_from': 'Roi.X1',\n",
    "        'y_from' : 'Roi.Y1',\n",
    "        'sign_class' : 'ClassId',\n",
    "        'width' : 'Width',\n",
    "        'height' : 'Height',\n",
    "        'filename' : 'Filename',\n",
    "      },\n",
    "      inplace=True\n",
    "    )\n",
    "    df['Roi.X2'] = df['Roi.X1'] + df['Width']\n",
    "    df['Roi.Y2'] = df['Roi.Y1'] + df['Height']\n",
    "    #df = df.drop(columns=['width', 'height'])\n",
    "    df['Width']=1280\n",
    "    df['Height']=720\n",
    "    df = df[['Filename', 'Width', 'Height', 'Roi.X1', 'Roi.Y1', 'Roi.X2', 'Roi.Y2','ClassId']]\n",
    "    display(df.head())\n",
    "    return df"
   ]
  },
  {
   "cell_type": "code",
   "execution_count": 14,
   "metadata": {},
   "outputs": [],
   "source": [
    "def display_dataset_eval(df_in):\n",
    "    df_in = df_in[df_in['ClassId'].isin(rtsd_to_carolo)]\n",
    "    df_in['ClassId'].replace(rtsd_to_carolo, inplace=True)\n",
    "    df_visual = df_in.copy()\n",
    "    df_visual['ClassId'].replace(sign_name_carolo_dict, inplace=True)\n",
    "    grouped_classes = df_visual.groupby('ClassId').count()['Roi.X1']  # Group the dataframe by classes.\n",
    "    grouped_classes.plot(kind='bar', figsize=(9,4),  title='Amount of Instances per Class', legend=False)\n",
    "    plt.show()\n",
    "    return df_in"
   ]
  },
  {
   "cell_type": "code",
   "execution_count": 21,
   "metadata": {},
   "outputs": [
    {
     "name": "stdout",
     "output_type": "stream",
     "text": [
      "/data/Images/Datasets/rtsd-public/detection/rtsd-d2-gt/merged.csv\n"
     ]
    },
    {
     "data": {
      "text/html": [
       "<div>\n",
       "<style scoped>\n",
       "    .dataframe tbody tr th:only-of-type {\n",
       "        vertical-align: middle;\n",
       "    }\n",
       "\n",
       "    .dataframe tbody tr th {\n",
       "        vertical-align: top;\n",
       "    }\n",
       "\n",
       "    .dataframe thead th {\n",
       "        text-align: right;\n",
       "    }\n",
       "</style>\n",
       "<table border=\"1\" class=\"dataframe\">\n",
       "  <thead>\n",
       "    <tr style=\"text-align: right;\">\n",
       "      <th></th>\n",
       "      <th>Filename</th>\n",
       "      <th>Width</th>\n",
       "      <th>Height</th>\n",
       "      <th>Roi.X1</th>\n",
       "      <th>Roi.Y1</th>\n",
       "      <th>Roi.X2</th>\n",
       "      <th>Roi.Y2</th>\n",
       "      <th>ClassId</th>\n",
       "    </tr>\n",
       "  </thead>\n",
       "  <tbody>\n",
       "    <tr>\n",
       "      <th>0</th>\n",
       "      <td>autosave21_01_2013_12_12_45_0.jpg</td>\n",
       "      <td>1280</td>\n",
       "      <td>720</td>\n",
       "      <td>640</td>\n",
       "      <td>340</td>\n",
       "      <td>658</td>\n",
       "      <td>358</td>\n",
       "      <td>1_16</td>\n",
       "    </tr>\n",
       "    <tr>\n",
       "      <th>1</th>\n",
       "      <td>autosave21_01_2013_12_12_45_1.jpg</td>\n",
       "      <td>1280</td>\n",
       "      <td>720</td>\n",
       "      <td>637</td>\n",
       "      <td>340</td>\n",
       "      <td>655</td>\n",
       "      <td>358</td>\n",
       "      <td>1_16</td>\n",
       "    </tr>\n",
       "    <tr>\n",
       "      <th>2</th>\n",
       "      <td>autosave21_01_2013_12_18_39_0.jpg</td>\n",
       "      <td>1280</td>\n",
       "      <td>720</td>\n",
       "      <td>756</td>\n",
       "      <td>315</td>\n",
       "      <td>785</td>\n",
       "      <td>341</td>\n",
       "      <td>1_15</td>\n",
       "    </tr>\n",
       "    <tr>\n",
       "      <th>3</th>\n",
       "      <td>autosave21_01_2013_12_21_03_2.jpg</td>\n",
       "      <td>1280</td>\n",
       "      <td>720</td>\n",
       "      <td>790</td>\n",
       "      <td>358</td>\n",
       "      <td>812</td>\n",
       "      <td>381</td>\n",
       "      <td>1_25</td>\n",
       "    </tr>\n",
       "    <tr>\n",
       "      <th>4</th>\n",
       "      <td>autosave21_01_2013_12_21_04_0.jpg</td>\n",
       "      <td>1280</td>\n",
       "      <td>720</td>\n",
       "      <td>805</td>\n",
       "      <td>348</td>\n",
       "      <td>830</td>\n",
       "      <td>372</td>\n",
       "      <td>1_25</td>\n",
       "    </tr>\n",
       "  </tbody>\n",
       "</table>\n",
       "</div>"
      ],
      "text/plain": [
       "                            Filename  Width  Height  Roi.X1  Roi.Y1  Roi.X2  \\\n",
       "0  autosave21_01_2013_12_12_45_0.jpg   1280     720     640     340     658   \n",
       "1  autosave21_01_2013_12_12_45_1.jpg   1280     720     637     340     655   \n",
       "2  autosave21_01_2013_12_18_39_0.jpg   1280     720     756     315     785   \n",
       "3  autosave21_01_2013_12_21_03_2.jpg   1280     720     790     358     812   \n",
       "4  autosave21_01_2013_12_21_04_0.jpg   1280     720     805     348     830   \n",
       "\n",
       "   Roi.Y2 ClassId  \n",
       "0     358    1_16  \n",
       "1     358    1_16  \n",
       "2     341    1_15  \n",
       "3     381    1_25  \n",
       "4     372    1_25  "
      ]
     },
     "metadata": {},
     "output_type": "display_data"
    },
    {
     "name": "stderr",
     "output_type": "stream",
     "text": [
      "/usr/local/lib/python3.5/dist-packages/pandas/core/generic.py:5890: SettingWithCopyWarning: \n",
      "A value is trying to be set on a copy of a slice from a DataFrame\n",
      "\n",
      "See the caveats in the documentation: http://pandas.pydata.org/pandas-docs/stable/indexing.html#indexing-view-versus-copy\n",
      "  self._update_inplace(new_data)\n"
     ]
    },
    {
     "data": {
      "image/png": "[encoded data removed]",
      "text/plain": [
       "<matplotlib.figure.Figure at 0x7f1d6ef01710>"
      ]
     },
     "metadata": {
      "needs_background": "light"
     },
     "output_type": "display_data"
    }
   ],
   "source": [
    "from sign_names_dict import rtsd_to_carolo\n",
    "\n",
    "rtsb_merged_paths = ['/data/Images/Datasets/rtsd-public/detection/rtsd-d2-gt/merged.csv']#,\n",
    "                     #'/data/Images/Datasets/rtsd-public/detection/rtsd-d2-gt/merged.csv',\n",
    "                     #'/data/Images/Datasets/rtsd-public/detection/rtsd-d3-gt/merged.csv']\n",
    "\n",
    "# since all datasets contain all labels and just the image name lists differ for each subdataset, we display only once\n",
    "\n",
    "for rtsb_merged_path in rtsb_merged_paths:\n",
    "    print(rtsb_merged_path)\n",
    "    df = convert_rtsb_df(rtsb_merged_paths[0])\n",
    "    df = display_dataset_eval(df)"
   ]
  },
  {
   "cell_type": "code",
   "execution_count": 22,
   "metadata": {},
   "outputs": [],
   "source": [
    "df.to_csv('/data/Images/Datasets/rtsd-public/detection/rtsd-d2-frames/Rus1.csv', sep=',', index=False)"
   ]
  },
  {
   "cell_type": "code",
   "execution_count": null,
   "metadata": {
    "collapsed": true
   },
   "outputs": [],
   "source": [
    "df.to_csv(export_locations['RTSD'], sep=',', index=False)"
   ]
  },
  {
   "cell_type": "code",
   "execution_count": null,
   "metadata": {
    "collapsed": true
   },
   "outputs": [],
   "source": []
  }
 ],
 "metadata": {
  "kernelspec": {
   "display_name": "Python 3",
   "language": "python",
   "name": "python3"
  },
  "language_info": {
   "codemirror_mode": {
    "name": "ipython",
    "version": 3
   },
   "file_extension": ".py",
   "mimetype": "text/x-python",
   "name": "python",
   "nbconvert_exporter": "python",
   "pygments_lexer": "ipython3",
   "version": "3.5.2"
  }
 },
 "nbformat": 4,
 "nbformat_minor": 2
}
