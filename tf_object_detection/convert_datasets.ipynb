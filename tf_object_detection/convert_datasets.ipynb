{
 "cells": [
  {
   "cell_type": "code",
   "execution_count": null,
   "metadata": {
    "collapsed": true
   },
   "outputs": [],
   "source": [
    "# export locations of the scripts\n",
    "from export_locations import export_locations"
   ]
  },
  {
   "cell_type": "markdown",
   "metadata": {},
   "source": [
    "# GTSDB"
   ]
  },
  {
   "cell_type": "code",
   "execution_count": null,
   "metadata": {
    "collapsed": true
   },
   "outputs": [],
   "source": [
    "import pandas as pd\n",
    "import matplotlib.pyplot as plt"
   ]
  },
  {
   "cell_type": "code",
   "execution_count": null,
   "metadata": {
    "collapsed": true
   },
   "outputs": [],
   "source": [
    "import sys\n",
    "sys.path.append(\"../sign_recognition/dict/\") \n",
    "from sign_names_dict import sign_name_GTSRB_full_dict"
   ]
  },
  {
   "cell_type": "code",
   "execution_count": null,
   "metadata": {},
   "outputs": [],
   "source": [
    "df = pd.read_csv('/data/Images/Datasets/GTSDB/gt.csv')\n",
    "df_named = df.copy()\n",
    "df_named['ClassId'].replace(sign_name_GTSRB_full_dict, inplace=True)\n",
    "df_named.head()  # prints top 5 rows"
   ]
  },
  {
   "cell_type": "code",
   "execution_count": null,
   "metadata": {},
   "outputs": [],
   "source": [
    "grouped_classes = df_named.groupby('ClassId').count()['Roi.X1']  # Group the dataframe by classes.\n",
    "grouped_classes.plot(kind='bar', figsize=(9,4),  title='Amount of Instances per Class', legend=False)\n",
    "plt.show()"
   ]
  },
  {
   "cell_type": "code",
   "execution_count": null,
   "metadata": {},
   "outputs": [],
   "source": [
    "df.head()"
   ]
  },
  {
   "cell_type": "code",
   "execution_count": null,
   "metadata": {},
   "outputs": [],
   "source": [
    "from sign_names_dict import gtsrb_to_carolo\n",
    "df.head()\n",
    "df = df[df['ClassId'].isin(gtsrb_to_carolo)]\n",
    "df.head()"
   ]
  },
  {
   "cell_type": "code",
   "execution_count": null,
   "metadata": {},
   "outputs": [],
   "source": [
    "from sign_names_dict import sign_name_carolo_dict\n",
    "df_named_cleaned = df.copy()\n",
    "df_named_cleaned['ClassId'].replace(sign_name_carolo_dict, inplace=True)\n",
    "grouped_classes = df_named_cleaned.groupby('ClassId').count()['Roi.X1']  # Group the dataframe by classes.\n",
    "grouped_classes.plot(kind='bar', figsize=(9,4),  title='Amount of Instances per Class', legend=False)\n",
    "plt.show()"
   ]
  },
  {
   "cell_type": "code",
   "execution_count": null,
   "metadata": {
    "collapsed": true
   },
   "outputs": [],
   "source": [
    "df.to_csv(export_locations['GTSDB'], sep=',', index=False)"
   ]
  },
  {
   "cell_type": "markdown",
   "metadata": {},
   "source": [
    "# LISA and LISA-TS-Extended\n",
    "\n",
    "Only usable signs are the stop signs.\n",
    "\n",
    "## LISA"
   ]
  },
  {
   "cell_type": "code",
   "execution_count": null,
   "metadata": {},
   "outputs": [],
   "source": [
    "df = pd.read_csv('/data/Images/Datasets/LISA/TS/LISA_filtered.csv')\n",
    "df.head()  # prints top 5 rows"
   ]
  },
  {
   "cell_type": "code",
   "execution_count": null,
   "metadata": {},
   "outputs": [],
   "source": [
    "from sign_names_dict import LISA_to_carolo\n",
    "carolo_df = df[['Filename', 'Upper left corner X', 'Upper left corner Y', 'Lower right corner X', 'Lower right corner Y', 'Annotation tag']].copy()\n",
    "carolo_df.rename(\n",
    "  columns={\n",
    "    'Upper left corner X' : 'Roi.X1',\n",
    "    'Upper left corner Y' : 'Roi.Y1',\n",
    "    'Lower right corner X' : 'Roi.X2',\n",
    "    'Lower right corner Y' : 'Roi.Y2',\n",
    "    'Annotation tag' : 'ClassId'\n",
    "  },\n",
    "  inplace=True\n",
    ")\n",
    "carolo_df['ClassId'].replace(LISA_to_carolo, inplace=True)\n",
    "carolo_df.to_csv(export_locations['LISA'], sep=',', index=False)\n",
    "carolo_df.head()"
   ]
  },
  {
   "cell_type": "code",
   "execution_count": null,
   "metadata": {},
   "outputs": [],
   "source": [
    "print('LISA Contains', carolo_df['ClassId'].size, 'stop signs')"
   ]
  },
  {
   "cell_type": "markdown",
   "metadata": {},
   "source": [
    "## LISA-Extended\n",
    "\n",
    "Same deal, just stop signs"
   ]
  },
  {
   "cell_type": "code",
   "execution_count": null,
   "metadata": {},
   "outputs": [],
   "source": [
    "df = pd.read_csv('/data/Images/Datasets/LISA/training/allTrainingAnnotations.csv')\n",
    "df.head()  # prints top 5 rows"
   ]
  },
  {
   "cell_type": "code",
   "execution_count": null,
   "metadata": {},
   "outputs": [],
   "source": [
    "carolo_df = df[['Filename', 'Upper left corner X', 'Upper left corner Y', 'Lower right corner X', 'Lower right corner Y', 'Annotation tag']].copy()\n",
    "carolo_df.rename(\n",
    "  columns={\n",
    "    'Upper left corner X' : 'Roi.X1',\n",
    "    'Upper left corner Y' : 'Roi.Y1',\n",
    "    'Lower right corner X' : 'Roi.X2',\n",
    "    'Lower right corner Y' : 'Roi.Y2',\n",
    "    'Annotation tag' : 'ClassId'\n",
    "  },\n",
    "  inplace=True\n",
    ")\n",
    "carolo_df['ClassId'].replace(LISA_to_carolo, inplace=True)\n",
    "carolo_df.to_csv(export_locations['LISA_EXTENDED'], sep=',', index=False)\n",
    "carolo_df.head()"
   ]
  },
  {
   "cell_type": "code",
   "execution_count": null,
   "metadata": {},
   "outputs": [],
   "source": [
    "print('LISA Extended Contains', carolo_df['ClassId'].size, 'stop signs')"
   ]
  },
  {
   "cell_type": "markdown",
   "metadata": {},
   "source": [
    "# BTSD\n",
    "\n",
    "Contains most of our classes except for turn signals and speed zones.\n",
    "\n",
    "## Testing set"
   ]
  },
  {
   "cell_type": "code",
   "execution_count": null,
   "metadata": {
    "collapsed": true
   },
   "outputs": [],
   "source": [
    "df = pd.read_csv('/data/Images/Datasets/BTSDB/BelgiumTSD_annotations/BTSD_testing_GTclear.txt')"
   ]
  },
  {
   "cell_type": "code",
   "execution_count": null,
   "metadata": {},
   "outputs": [],
   "source": [
    "# remove trailing class added by comma and superclass\n",
    "df = df.drop(['SuperclassId', 'Unnamed: 7'], axis=1)\n",
    "df.head()"
   ]
  },
  {
   "cell_type": "code",
   "execution_count": null,
   "metadata": {},
   "outputs": [],
   "source": [
    "from sign_names_dict import BTSD_to_carolo\n",
    "df = df[df['ClassId'].isin(BTSD_to_carolo)]\n",
    "df['ClassId'].replace(BTSD_to_carolo, inplace=True)\n",
    "df_visual = df.copy()\n",
    "df_visual['ClassId'].replace(sign_name_carolo_dict, inplace=True)\n",
    "grouped_classes = df_visual.groupby('ClassId').count()['Roi.X1']  # Group the dataframe by classes.\n",
    "grouped_classes.plot(kind='bar', figsize=(9,4),  title='Amount of Instances per Class', legend=False)\n",
    "plt.show()"
   ]
  },
  {
   "cell_type": "code",
   "execution_count": null,
   "metadata": {
    "collapsed": true
   },
   "outputs": [],
   "source": [
    "df.to_csv(export_locations['BTSD_TESTING'], sep=',', index=False)"
   ]
  },
  {
   "cell_type": "markdown",
   "metadata": {},
   "source": [
    "## Training set"
   ]
  },
  {
   "cell_type": "code",
   "execution_count": null,
   "metadata": {},
   "outputs": [],
   "source": [
    "df = pd.read_csv('/data/Images/Datasets/BTSDB/BelgiumTSD_annotations/BTSD_training_GTclear.txt')\n",
    "df = df.drop(['SuperclassId', 'Unnamed: 7'], axis=1)\n",
    "df.head()"
   ]
  },
  {
   "cell_type": "code",
   "execution_count": null,
   "metadata": {},
   "outputs": [],
   "source": [
    "df = df[df['ClassId'].isin(BTSD_to_carolo)]\n",
    "df['ClassId'].replace(BTSD_to_carolo, inplace=True)\n",
    "df_visual = df.copy()\n",
    "df_visual['ClassId'].replace(sign_name_carolo_dict, inplace=True)\n",
    "grouped_classes = df_visual.groupby('ClassId').count()['Roi.X1']  # Group the dataframe by classes.\n",
    "grouped_classes.plot(kind='bar', figsize=(9,4),  title='Amount of Instances per Class', legend=False)\n",
    "plt.show()"
   ]
  },
  {
   "cell_type": "code",
   "execution_count": null,
   "metadata": {
    "collapsed": true
   },
   "outputs": [],
   "source": [
    "df.to_csv(export_locations['BTSD_TRAINING'], sep=',', index=False)"
   ]
  },
  {
   "cell_type": "markdown",
   "metadata": {},
   "source": [
    "# Swedish Traffic Sign Dataset (STS)\n",
    "\n",
    "Sweden also uses yellow as base, same as US, but some more usable signs overall"
   ]
  },
  {
   "cell_type": "code",
   "execution_count": null,
   "metadata": {
    "collapsed": true
   },
   "outputs": [],
   "source": [
    "# parse the dataset\n",
    "def read_sts_annotation(filepath):\n",
    "    data = []\n",
    "    with open(filepath, 'r') as file:\n",
    "        text = file.read() \n",
    "    lines = text.split('\\n')\n",
    "    for line in lines[0:-2]:\n",
    "        split_line = line.split(':')\n",
    "        filename = str(split_line[0]).lstrip()\n",
    "        if filename == '':\n",
    "            print('ERROR: file incorrect!')\n",
    "            break\n",
    "\n",
    "        if split_line[1] == '':\n",
    "            continue\n",
    "        else:\n",
    "            split_signs = split_line[1].split(';')\n",
    "            for split_sign in split_signs[0:-2]:\n",
    "                sign_info = split_sign.split(',')\n",
    "                \n",
    "                # skip misc signs with no info\n",
    "                if sign_info[0] == 'MISC_SIGNS':\n",
    "                    continue\n",
    "                \n",
    "                sign_name = str(sign_info[-1]).lstrip()\n",
    "                # tl positions are second\n",
    "                x1 = float(sign_info[-4].lstrip())\n",
    "                y1 = float(sign_info[-3].lstrip())\n",
    "                x2 = float(sign_info[-5].lstrip())\n",
    "                y2 = float(sign_info[-6].lstrip())\n",
    "                data.append([filename, x1, y1, x2, y2, sign_name])\n",
    "                \n",
    "    df = pd.DataFrame(data, columns=['Filename','Roi.X1','Roi.Y1','Roi.X2','Roi.Y2','ClassId'])\n",
    "    return df"
   ]
  },
  {
   "cell_type": "code",
   "execution_count": null,
   "metadata": {},
   "outputs": [],
   "source": [
    "df = read_sts_annotation('/data/Images/Datasets/STS/annotations_1.txt')\n",
    "df.head()"
   ]
  },
  {
   "cell_type": "code",
   "execution_count": null,
   "metadata": {},
   "outputs": [],
   "source": [
    "from sign_names_dict import STS_to_carolo\n",
    "df = df[df['ClassId'].isin(STS_to_carolo)]\n",
    "df['ClassId'].replace(STS_to_carolo, inplace=True)\n",
    "df_visual = df.copy()\n",
    "df_visual['ClassId'].replace(sign_name_carolo_dict, inplace=True)\n",
    "grouped_classes = df_visual.groupby('ClassId').count()['Roi.X1']  # Group the dataframe by classes.\n",
    "grouped_classes.plot(kind='bar', figsize=(9,4),  title='Amount of Instances per Class', legend=False)\n",
    "plt.show()"
   ]
  },
  {
   "cell_type": "code",
   "execution_count": null,
   "metadata": {
    "collapsed": true
   },
   "outputs": [],
   "source": [
    "df.to_csv('/data/Images/Datasets/STS/annotations_1_carolo.csv', sep=',', index=False)"
   ]
  },
  {
   "cell_type": "code",
   "execution_count": null,
   "metadata": {},
   "outputs": [],
   "source": [
    "df = read_sts_annotation('/data/Images/Datasets/STS/annotations_2.txt')\n",
    "df.head()"
   ]
  },
  {
   "cell_type": "code",
   "execution_count": null,
   "metadata": {},
   "outputs": [],
   "source": [
    "df = df[df['ClassId'].isin(STS_to_carolo)]\n",
    "df['ClassId'].replace(STS_to_carolo, inplace=True)\n",
    "df_visual = df.copy()\n",
    "df_visual['ClassId'].replace(sign_name_carolo_dict, inplace=True)\n",
    "grouped_classes = df_visual.groupby('ClassId').count()['Roi.X1']  # Group the dataframe by classes.\n",
    "grouped_classes.plot(kind='bar', figsize=(9,4),  title='Amount of Instances per Class', legend=False)\n",
    "plt.show()"
   ]
  },
  {
   "cell_type": "code",
   "execution_count": null,
   "metadata": {
    "collapsed": true
   },
   "outputs": [],
   "source": [
    "df.to_csv(export_locations['STS'], sep=',', index=False)"
   ]
  },
  {
   "cell_type": "markdown",
   "metadata": {},
   "source": [
    "# Dataset of Italian Traffic Signs (DITS)\n",
    "\n",
    "For some reason no annotations are uploaded for the detection subset and detection subset is more like GTSRB (cropped window) even though in their paper it looks fine (and in the test data) and in the paper they promise to \"improve soon\"."
   ]
  },
  {
   "cell_type": "markdown",
   "metadata": {},
   "source": [
    "# Russian Traffic Sign Dataset \n",
    "\n",
    "Merged subclass annotations into single file for each of the three dataset-parts, bash script is in the dataset root."
   ]
  },
  {
   "cell_type": "code",
   "execution_count": null,
   "metadata": {
    "collapsed": true
   },
   "outputs": [],
   "source": [
    "from IPython.display import display\n",
    "\n",
    "def convert_rtsb_df(rtsb_csv_path):\n",
    "    df = pd.read_csv(rtsb_csv_path)\n",
    "    df.rename(\n",
    "      columns={\n",
    "        'x_from': 'Roi.X1',\n",
    "        'y_from' : 'Roi.Y1',\n",
    "        'sign_class' : 'ClassId',\n",
    "          'width': 'Width'\n",
    "          'height': 'Height'\n",
    "        'filename': \n",
    "      },\n",
    "      inplace=True\n",
    "    )\n",
    "    df['Roi.X2'] = df['Roi.X1'] + df['Width']\n",
    "    df['Roi.Y2'] = df['Roi.Y1'] + df['Height']\n",
    "    #df = df.drop(columns=['width', 'height'])\n",
    "    df['Width']=\n",
    "    df['Height']=\n",
    "    df = df[['filename', 'Width', 'Height', 'Roi.X1', 'Roi.Y1', 'Roi.X2', 'Roi.Y2','ClassId']]\n",
    "    display(df.head())\n",
    "    return df"
   ]
  },
  {
   "cell_type": "code",
   "execution_count": null,
   "metadata": {
    "collapsed": true
   },
   "outputs": [],
   "source": [
    "def display_dataset_eval(df_in):\n",
    "    df_in = df_in[df_in['ClassId'].isin(rtsd_to_carolo)]\n",
    "    df_in['ClassId'].replace(rtsd_to_carolo, inplace=True)\n",
    "    df_visual = df_in.copy()\n",
    "    df_visual['ClassId'].replace(sign_name_carolo_dict, inplace=True)\n",
    "    grouped_classes = df_visual.groupby('ClassId').count()['Roi.X1']  # Group the dataframe by classes.\n",
    "    grouped_classes.plot(kind='bar', figsize=(9,4),  title='Amount of Instances per Class', legend=False)\n",
    "    plt.show()\n",
    "    return df_in"
   ]
  },
  {
   "cell_type": "code",
   "execution_count": null,
   "metadata": {},
   "outputs": [],
   "source": [
    "from sign_names_dict import rtsd_to_carolo\n",
    "\n",
    "rtsb_merged_paths = ['/data/Images/Datasets/rtsd-public/detection/rtsd-d1-gt/merged.csv']#,\n",
    "                     #'/data/Images/Datasets/rtsd-public/detection/rtsd-d2-gt/merged.csv',\n",
    "                     #'/data/Images/Datasets/rtsd-public/detection/rtsd-d3-gt/merged.csv']\n",
    "\n",
    "# since all datasets contain all labels and just the image name lists differ for each subdataset, we display only once\n",
    "\n",
    "for rtsb_merged_path in rtsb_merged_paths:\n",
    "    print(rtsb_merged_path)\n",
    "    df = convert_rtsb_df(rtsb_merged_paths[0])\n",
    "    df = display_dataset_eval(df)"
   ]
  },
  {
   "cell_type": "code",
   "execution_count": null,
   "metadata": {
    "collapsed": true
   },
   "outputs": [],
   "source": [
    "df.to_csv('/data/Images/Datasets/rtsd-public/detection/rtsd-d1-gt'"
   ]
  },
  {
   "cell_type": "code",
   "execution_count": null,
   "metadata": {
    "collapsed": true
   },
   "outputs": [],
   "source": [
    "df.to_csv(export_locations['RTSD'], sep=',', index=False)"
   ]
  },
  {
   "cell_type": "code",
   "execution_count": null,
   "metadata": {
    "collapsed": true
   },
   "outputs": [],
   "source": []
  }
 ],
 "metadata": {
  "kernelspec": {
   "display_name": "Python 3",
   "language": "python",
   "name": "python3"
  },
  "language_info": {
   "codemirror_mode": {
    "name": "ipython",
    "version": 3
   },
   "file_extension": ".py",
   "mimetype": "text/x-python",
   "name": "python",
   "nbconvert_exporter": "python",
   "pygments_lexer": "ipython3",
   "version": "3.7.3"
  }
 },
 "nbformat": 4,
 "nbformat_minor": 2
}
