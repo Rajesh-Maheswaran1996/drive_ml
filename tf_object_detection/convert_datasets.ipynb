{
 "cells": [
  {
   "cell_type": "markdown",
   "metadata": {},
   "source": [
    "# GTSRB"
   ]
  },
  {
   "cell_type": "code",
   "execution_count": null,
   "metadata": {},
   "outputs": [],
   "source": [
    "import pandas as pd\n",
    "import matplotlib.pyplot as plt"
   ]
  },
  {
   "cell_type": "code",
   "execution_count": null,
   "metadata": {},
   "outputs": [],
   "source": [
    "import sys\n",
    "sys.path.append(\"../sign_recognition/dict/\") \n",
    "from sign_names_dict import sign_name_GTSRB_full_dict"
   ]
  },
  {
   "cell_type": "code",
   "execution_count": null,
   "metadata": {},
   "outputs": [],
   "source": [
    "df = pd.read_csv('/data/Images/Datasets/GTSDB/gt.csv')\n",
    "df_named = df.copy()\n",
    "df_named['ClassId'].replace(sign_name_GTSRB_full_dict, inplace=True)\n",
    "df_named.head()  # prints top 5 rows"
   ]
  },
  {
   "cell_type": "code",
   "execution_count": null,
   "metadata": {},
   "outputs": [],
   "source": [
    "grouped_classes = df_named.groupby('ClassId').count()['Roi.X1']  # Group the dataframe by classes.\n",
    "grouped_classes.plot(kind='bar', figsize=(9,4),  title='Amount of Instances per Class', legend=False)\n",
    "plt.show()"
   ]
  },
  {
   "cell_type": "code",
   "execution_count": null,
   "metadata": {},
   "outputs": [],
   "source": [
    "df.head()"
   ]
  },
  {
   "cell_type": "code",
   "execution_count": null,
   "metadata": {},
   "outputs": [],
   "source": [
    "from sign_names_dict import gtsrb_to_carolo\n",
    "df.head()\n",
    "df = df[df['ClassId'].isin(gtsrb_to_carolo)]\n",
    "df.head()"
   ]
  },
  {
   "cell_type": "code",
   "execution_count": null,
   "metadata": {},
   "outputs": [],
   "source": [
    "from sign_names_dict import sign_name_carolo_dict\n",
    "df_named_cleaned = df.copy()\n",
    "df_named_cleaned['ClassId'].replace(sign_name_carolo_dict, inplace=True)\n",
    "grouped_classes = df_named_cleaned.groupby('ClassId').count()['Roi.X1']  # Group the dataframe by classes.\n",
    "grouped_classes.plot(kind='bar', figsize=(9,4),  title='Amount of Instances per Class', legend=False)\n",
    "plt.show()"
   ]
  },
  {
   "cell_type": "code",
   "execution_count": null,
   "metadata": {},
   "outputs": [],
   "source": [
    "df.to_csv('/data/Images/Datasets/GTSDB/GTSDB.csv', sep=',', index=False)"
   ]
  },
  {
   "cell_type": "markdown",
   "metadata": {},
   "source": [
    "# LISA and LISA-TS-Extended\n",
    "\n",
    "Only usable signs are the stop signs.\n",
    "\n",
    "## LISA"
   ]
  },
  {
   "cell_type": "code",
   "execution_count": null,
   "metadata": {},
   "outputs": [],
   "source": [
    "df = pd.read_csv('/data/Images/Datasets/LISA/TS/LISA_filtered.csv')\n",
    "df.head()  # prints top 5 rows"
   ]
  },
  {
   "cell_type": "code",
   "execution_count": null,
   "metadata": {},
   "outputs": [],
   "source": [
    "from sign_names_dict import LISA_to_carolo\n",
    "carolo_df = df[['Filename', 'Upper left corner X', 'Upper left corner Y', 'Lower right corner X', 'Lower right corner Y', 'Annotation tag']].copy()\n",
    "carolo_df.rename(\n",
    "  columns={\n",
    "    'Upper left corner X' : 'Roi.X1',\n",
    "    'Upper left corner Y' : 'Roi.Y1',\n",
    "    'Lower right corner X' : 'Roi.X2',\n",
    "    'Lower right corner Y' : 'Roi.Y2',\n",
    "    'Annotation tag' : 'ClassId'\n",
    "  },\n",
    "  inplace=True\n",
    ")\n",
    "carolo_df['ClassId'].replace(LISA_to_carolo, inplace=True)\n",
    "carolo_df.to_csv('/data/Images/Datasets/LISA/TS/LISA_filtered_carolo.csv', sep=',', index=False)\n",
    "carolo_df.head()"
   ]
  },
  {
   "cell_type": "code",
   "execution_count": null,
   "metadata": {},
   "outputs": [],
   "source": [
    "print('LISA Contains', carolo_df['ClassId'].size, 'stop signs')"
   ]
  },
  {
   "cell_type": "markdown",
   "metadata": {},
   "source": [
    "## LISA-Extended\n",
    "\n",
    "Same deal, just stop signs"
   ]
  },
  {
   "cell_type": "code",
   "execution_count": null,
   "metadata": {},
   "outputs": [],
   "source": [
    "df = pd.read_csv('/data/Images/Datasets/LISA/training/LISA_extended_filtered.csv')\n",
    "df.head()  # prints top 5 rows"
   ]
  },
  {
   "cell_type": "code",
   "execution_count": null,
   "metadata": {},
   "outputs": [],
   "source": [
    "carolo_df = df[['Filename', 'Upper left corner X', 'Upper left corner Y', 'Lower right corner X', 'Lower right corner Y', 'Annotation tag']].copy()\n",
    "carolo_df.rename(\n",
    "  columns={\n",
    "    'Upper left corner X' : 'Roi.X1',\n",
    "    'Upper left corner Y' : 'Roi.Y1',\n",
    "    'Lower right corner X' : 'Roi.X2',\n",
    "    'Lower right corner Y' : 'Roi.Y2',\n",
    "    'Annotation tag' : 'ClassId'\n",
    "  },\n",
    "  inplace=True\n",
    ")\n",
    "carolo_df['ClassId'].replace(LISA_to_carolo, inplace=True)\n",
    "carolo_df.to_csv('/data/Images/Datasets/LISA/TS/LISA_filtered_carolo.csv', sep=',', index=False)\n",
    "carolo_df.head()"
   ]
  },
  {
   "cell_type": "code",
   "execution_count": null,
   "metadata": {},
   "outputs": [],
   "source": [
    "print('LISA Extended Contains', carolo_df['ClassId'].size, 'stop signs')"
   ]
  },
  {
   "cell_type": "code",
   "execution_count": null,
   "metadata": {},
   "outputs": [],
   "source": []
  }
 ],
 "metadata": {
  "kernelspec": {
   "display_name": "Python 3",
   "language": "python",
   "name": "python3"
  },
  "language_info": {
   "codemirror_mode": {
    "name": "ipython",
    "version": 3
   },
   "file_extension": ".py",
   "mimetype": "text/x-python",
   "name": "python",
   "nbconvert_exporter": "python",
   "pygments_lexer": "ipython3",
   "version": "3.5.2"
  }
 },
 "nbformat": 4,
 "nbformat_minor": 2
}
