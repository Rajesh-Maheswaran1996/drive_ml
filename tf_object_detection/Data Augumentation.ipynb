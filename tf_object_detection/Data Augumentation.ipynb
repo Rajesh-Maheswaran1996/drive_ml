{
 "cells": [
  {
   "cell_type": "code",
   "execution_count": 16,
   "metadata": {},
   "outputs": [],
   "source": [
    "import cv2\n",
    "import numpy as np\n",
    "import pandas as pd\n",
    "import matplotlib as mlp\n",
    "import pickle\n",
    "import os\n",
    "from matplotlib import pyplot as plt\n",
    "from shutil import copyfile"
   ]
  },
  {
   "cell_type": "code",
   "execution_count": 27,
   "metadata": {},
   "outputs": [],
   "source": [
    "datafiles=[]\n",
    "basepath='/data/Images/'\n",
    "#datafiles.append(basepath+'test_environment')\n",
    "datafiles.append(basepath+'signs001_manually_labeled')\n",
    "datafiles.append(basepath+'signs003_manually_labeled')\n",
    "datafiles.append(basepath+'signs004_manually_labeled')\n",
    "datafiles.append(basepath+'signs006_bosch_manually_labeled')\n",
    "#datafiles.append(basepath+'2019-01-09-13-00-05')\n",
    "#datafiles.append(basepath+'2019-01-09-13-01-41')\n",
    "#datafiles.append(basepath+'2019-01-09-13-05-43')\n",
    "#datafiles.append(basepath+'2019-01-09-13-24-37')\n",
    "#datafiles.append(basepath+'2019-01-09-13-55-01')\n",
    "#datafiles.append(basepath+'2019-01-20-15-59-41')\n",
    "#datafiles.append(basepath+'bosch_2018_16_36')\n",
    "#datafiles.append(basepath+'bosch_2018_17_08')\n",
    "#datafiles.append(basepath+'bosch_2018_17_24')\n",
    "#datafiles.append(basepath+'bosch_2018_17_54')\n",
    "zerobase=['bosch_2018_16_36','bosch_2018_17_54','bosch_2018_17_24','bosch_2018_17_08','2019-01-09-13-00-05','2019-01-09-13-01-41','2019-01-09-13-05-43','2019-01-09-13-24-37','2019-01-09-13-55-01']\n",
    "jpglist=['2019-01-20-15-59-41','bosch_2018_17_54','bosch_2018_17_24','bosch_2018_17_08','2019-01-09-13-00-05','2019-01-09-13-01-41','2019-01-09-13-05-43','2019-01-09-13-24-37','2019-01-09-13-55-01']"
   ]
  },
  {
   "cell_type": "code",
   "execution_count": 28,
   "metadata": {},
   "outputs": [
    {
     "name": "stdout",
     "output_type": "stream",
     "text": [
      "/data/Images/signs001_manually_labeled\n",
      "/data/Images/signs001_manually_labeled_blur\n",
      "/data/Images/signs003_manually_labeled\n",
      "/data/Images/signs003_manually_labeled_blur\n",
      "did\n",
      "signs003_ground_truth.csv\n",
      "/data/Images/signs004_manually_labeled\n",
      "/data/Images/signs004_manually_labeled_blur\n",
      "did\n",
      "signs004_ground_truth.csv\n",
      "/data/Images/signs006_bosch_manually_labeled\n",
      "/data/Images/signs006_bosch_manually_labeled_blur\n",
      "did\n",
      "signs006_ground_truth.csv\n"
     ]
    }
   ],
   "source": [
    "rewrite=False\n",
    "#zero_class=sign_name_carolo_trans.get(43)\n",
    "labelcounter=np.zeros((32,))\n",
    "for folder in datafiles:\n",
    "    print(folder)\n",
    "    folder_blur=folder+'_blur'\n",
    "    print(folder_blur)\n",
    "    if not os.path.exists(folder_blur):\n",
    "        os.makedirs(folder_blur)\n",
    "        print('did')\n",
    "        for filename in os.listdir(folder):   \n",
    "            if filename.endswith('.csv'):\n",
    "                print(filename)\n",
    "                copyfile(folder+'/'+filename, folder_blur+'/'+filename)\n",
    "            elif filename.endswith('.png'):\n",
    "                #print(filename)\n",
    "                img = cv2.imread(os.path.join(folder , filename))\n",
    "                img_blur=motionBlur(img)\n",
    "                cv2.imwrite(os.path.join(folder_blur , filename), img_blur)\n",
    "    if rewrite==True:\n",
    "        for filename in os.listdir(folder):   \n",
    "            if filename.endswith('.csv'):\n",
    "                print(filename)\n",
    "                copyfile(folder+'/'+filename, folder_blur+'/'+filename)\n",
    "            elif filename.endswith('.png'):\n",
    "                #print(filename)\n",
    "                img = cv2.imread(os.path.join(folder , filename))\n",
    "                img_blur=motionBlur(img)\n",
    "                cv2.imwrite(os.path.join(folder_blur , filename), img_blur)\n",
    "\n",
    "            \n"
   ]
  },
  {
   "cell_type": "code",
   "execution_count": null,
   "metadata": {},
   "outputs": [],
   "source": [
    "img = cv2.imread('/data/Images/signs003_manually_labeled/00001.png')\n",
    "cv2.imshow('Original', img)\n",
    "\n",
    "size = 8\n",
    "\n",
    "# generating the kernel\n",
    "kernel_motion_blur = np.zeros((size, size))\n",
    "kernel_motion_blur[int((size-1)/2), :] = np.ones(size)\n",
    "kernel_motion_blur = kernel_motion_blur / size\n",
    "\n",
    "# applying the kernel to the input image\n",
    "output = cv2.filter2D(img, -1, kernel_motion_blur)\n",
    "\n",
    "cv2.imshow('Motion Blur', output)\n",
    "cv2.waitKey(0)"
   ]
  },
  {
   "cell_type": "code",
   "execution_count": 21,
   "metadata": {},
   "outputs": [],
   "source": [
    "def motionBlur(img):\n",
    "    size = 5\n",
    "\n",
    "    # generating the kernel\n",
    "    kernel_motion_blur = np.zeros((size, size))\n",
    "    kernel_motion_blur[int((size-1)/2), :] = np.ones(size)\n",
    "    kernel_motion_blur = kernel_motion_blur / size\n",
    "\n",
    "    # applying the kernel to the input image\n",
    "    output = cv2.filter2D(img, -1, kernel_motion_blur)\n",
    "    return output"
   ]
  },
  {
   "cell_type": "code",
   "execution_count": null,
   "metadata": {},
   "outputs": [],
   "source": []
  }
 ],
 "metadata": {
  "kernelspec": {
   "display_name": "Python 3",
   "language": "python",
   "name": "python3"
  },
  "language_info": {
   "codemirror_mode": {
    "name": "ipython",
    "version": 3
   },
   "file_extension": ".py",
   "mimetype": "text/x-python",
   "name": "python",
   "nbconvert_exporter": "python",
   "pygments_lexer": "ipython3",
   "version": "3.5.2"
  }
 },
 "nbformat": 4,
 "nbformat_minor": 2
}
