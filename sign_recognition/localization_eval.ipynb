{
 "cells": [
  {
   "cell_type": "code",
   "execution_count": null,
   "metadata": {},
   "outputs": [],
   "source": [
    "import os\n",
    "import sys\n",
    "module_path = os.path.abspath(os.path.join('..'))\n",
    "if module_path not in sys.path:\n",
    "    sys.path.append(module_path)\n",
    "    \n",
    "from keras import models\n",

    "from keras.models import load_model\n",
    "from utilities.gtsrb_loader.get_folderpath import get_folderpath\n",
    "from utilities.gtsrb_loader.load_data import load_data\n",

    "\n",
    "import numpy as np\n",
    "import pandas as pd\n",
    "\n",
    "import matplotlib.pyplot as plt\n",
    "import matplotlib.patches as patches\n",
    "\n",
    "# This is a bit of magic to make matplotlib figures appear inline in the notebook\n",
    "# rather than in a new window.\n",
    "%matplotlib inline\n",
    "plt.rcParams['figure.figsize'] = (10.0, 8.0) # set default size of plots\n",
    "plt.rcParams['image.interpolation'] = 'nearest'\n",
    "plt.rcParams['image.cmap'] = 'gray'\n",
    "\n",
    "# Some more magic so that the notebook will reload external python modules;\n",
    "# see http://stackoverflow.com/questions/1907993/autoreload-of-modules-in-ipython\n",
    "%load_ext autoreload\n",
    "%autoreload 2"
   ]
  },
  {
   "cell_type": "code",
   "execution_count": null,
   "metadata": {},
   "outputs": [],
   "source": [

    "model = models.load_model('/data_on_server/Nets/trained/localization/2017-07-12_localization.h5')"

   ]
  },
  {
   "cell_type": "code",
   "execution_count": null,
   "metadata": {},
   "outputs": [],
   "source": [
    "#path = get_folderpath(original_images=False, subset='test')\n",

    "path=\"/data_on_server/Images/GTSRB_64x64_PiP/Final_Training\""

   ]
  },
  {
   "cell_type": "code",
   "execution_count": null,
   "metadata": {},
   "outputs": [],
   "source": [

    "X_train, y_train, box = load_data(path)"

   ]
  },
  {
   "cell_type": "code",
   "execution_count": null,
   "metadata": {},
   "outputs": [],
   "source": [

    "pics=np.array(X_train[1:1000], dtype=np.float32)/255\n",
    "bboxes_list = np.array(box[1:1000], dtype=int)"

   ]
  },
  {
   "cell_type": "code",
   "execution_count": null,
   "metadata": {},
   "outputs": [],
   "source": [

    "predictions = model.predict(np.array(pics), verbose=1)*64"

   ]
  },
  {
   "cell_type": "code",
   "execution_count": null,
   "metadata": {},
   "outputs": [],
   "source": [
    "x, y = bboxes_list[:,0], bboxes_list[:,1]\n",
    "width = bboxes_list[:,2] - bboxes_list[:,0]\n",
    "heigth = bboxes_list[:,3] - bboxes_list[:,1] "
   ]
  },
  {
   "cell_type": "code",
   "execution_count": null,
   "metadata": {},
   "outputs": [],
   "source": [
    "x_pred, y_pred = predictions[:,0], predictions[:,1]\n",
    "width_pred = predictions[:,2] - predictions[:,0]\n",
    "heigth_pred = predictions[:,3] - predictions[:,1]"
   ]
  },
  {
   "cell_type": "code",
   "execution_count": null,
   "metadata": {},
   "outputs": [],
   "source": [

    "for i, image in enumerate(pics[1:30]):\n",

    "    ax = plt.subplot(5, 6, i +1)\n",
    "    plt.imshow(image)\n",
    "    plt.axis('off')\n",
    "    # correct bounding boxes in yellow\n",
    "    rect = patches.Rectangle((x[i], y[i]), width[i], heigth[i], linewidth=1, edgecolor='y', facecolor='none')\n",
    "    ax.add_patch(rect)\n",
    "    # predicted bounding boxes in red\n",
    "    rect = patches.Rectangle((x_pred[i], y_pred[i]), width_pred[i], heigth_pred[i], linewidth=1, edgecolor='r', facecolor='none')\n",
    "    ax.add_patch(rect)\n",
    "plt.show()"
   ]
  },
  {
   "cell_type": "code",
   "execution_count": null,
   "metadata": {},
   "outputs": [],
   "source": [
    "error = np.linalg.norm(predictions - bboxes_list, axis=1).reshape((30, 1))\n",
    "pd.DataFrame(np.concatenate((predictions, bboxes_list, error), axis=1),\n",
    "             columns=['x1', 'y1', 'x2', 'y2', 'x1 pred', 'y1 pred', 'x2 pred', 'y2 pred', 'l2 error'])"
   ]
  },
  {
   "cell_type": "code",
   "execution_count": null,
   "metadata": {},
   "outputs": [],
   "source": [

    "image1 = plt.imread(os.path.join('utilities/image_split', '4713small.jpg'), format='jpeg')\n",
    "image2 = plt.imread(os.path.join('utilities/image_split', '1057small.jpg'), format='jpeg')\n",
    "pic_list2=[image1, image2]\n",
    "predictions2 = np.rint(model.predict(np.array(pic_list2, dtype=np.float32)/255, verbose=1)*64).astype(int)\n",

    "x_pred2, y_pred2 = predictions2[:,0], predictions2[:,1]\n",
    "width_pred2 = predictions2[:,2] - predictions2[:,0]\n",
    "heigth_pred2 = predictions2[:,3] - predictions2[:,1]"
   ]
  },
  {
   "cell_type": "code",
   "execution_count": null,
   "metadata": {},
   "outputs": [],
   "source": [
    "for i, image in enumerate(pic_list2):\n",
    "    ax = plt.subplot(5, 6, i +1)\n",
    "    plt.imshow(image)\n",
    "    plt.axis('off')\n",
    "    # correct bounding boxes in yellow\n",
    "    # predicted bounding boxes in red\n",
    "    rect = patches.Rectangle((x_pred2[i], y_pred2[i]), width_pred2[i], heigth_pred2[i], linewidth=1, edgecolor='r', facecolor='none')\n",
    "    ax.add_patch(rect)\n",
    "plt.show()"
   ]
  },
  {
   "cell_type": "code",
   "execution_count": null,
   "metadata": {},
   "outputs": [],
   "source": [
    "pd.DataFrame(predictions2,columns=['x1 pred', 'y1 pred', 'x2 pred', 'y2 pred'])"
   ]
  },
  {
   "cell_type": "code",
   "execution_count": null,
   "metadata": {},
   "outputs": [],
   "source": [
    "predictions2\n"
   ]
  },
  {
   "cell_type": "code",
   "execution_count": null,
   "metadata": {},
   "outputs": [],
   "source": []
  },
  {
   "cell_type": "code",
   "execution_count": null,
   "metadata": {},
   "outputs": [],
   "source": []
  }
 ],
 "metadata": {
  "anaconda-cloud": {},
  "kernelspec": {
   "display_name": "Python 3",
   "language": "python",
   "name": "python3"
  },
  "language_info": {
   "codemirror_mode": {
    "name": "ipython",
    "version": 3
   },
   "file_extension": ".py",
   "mimetype": "text/x-python",
   "name": "python",
   "nbconvert_exporter": "python",
   "pygments_lexer": "ipython3",
   "version": "3.5.2"
  }
 },
 "nbformat": 4,
 "nbformat_minor": 1
}
