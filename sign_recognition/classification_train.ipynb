{
 "cells": [
  {
   "cell_type": "markdown",
   "metadata": {},
   "source": [
    "# Previous Work"
   ]
  },
  {
   "cell_type": "markdown",
   "metadata": {},
   "source": [
    "The previous net saved in _'01-07-17_convnet.h5'_ , gets a 97% accuracy rate on the test dataset (!) of GTSRB. However, when it must predict on images that don't belong to the GTSRB dataset, it sees traffic signs where there are none, and with very high (~100%) confidence. This is a problem because during a race, the car won't see any traffic signs most of the time."
   ]
  },
  {
   "cell_type": "markdown",
   "metadata": {},
   "source": [
    "The approach to fix this, is to add a _background_ class, also called _Zero_ class, as the 43th class to the dataset."
   ]
  },
  {
   "cell_type": "code",
   "execution_count": null,
   "metadata": {},
   "outputs": [],
   "source": [
    "#Load Picture data functions + Load Numpy and Plot library\n",
    "from utilities.gtsrb_loader.load_data import load_data\n",
    "from utilities.gtsrb_loader.get_folderpath import get_folderpath\n",
    "import matplotlib.pyplot as plt\n",
    "import random\n",
    "from datetime import date\n",
    "import os\n",
    "from keras.models import load_model\n",
    "import numpy as np"
   ]
  },
  {
   "cell_type": "code",
   "execution_count": null,
   "metadata": {},
   "outputs": [],
   "source": [
    "#Resizing images to 64 x 64\n",
    "from skimage.transform import resize\n",
    "X_train_zero = np.array([resize(pic, (64, 64), mode='edge') for pic in X_train_zero])"
   ]
  },
  {
   "cell_type": "markdown",
   "metadata": {},
   "source": [
    "# Training Set Selection"
   ]
  },
  {
   "cell_type": "markdown",
   "metadata": {},
   "source": [
    "For this second net, we want to distinguish between _background_ and _traffic sign_ reliably. Thats why I dont balance number of training images per class yet. Any traffic sign does the job. Since our zero class is only in gray color, we will transfor the GTSRB data to grayscale"
   ]
  },
  {
   "cell_type": "markdown",
   "metadata": {},
   "source": [
    "# IF area: \n",
    "## Choose Either Black and White or Color"
   ]
  },
  {
   "cell_type": "markdown",
   "metadata": {},
   "source": [
    "# Black and White Zero class"
   ]
  },
  {
   "cell_type": "code",
   "execution_count": null,
   "metadata": {},
   "outputs": [],
   "source": [
    "#Generate Black and white pictures (First just for class 29 to test)\n",
    "from skimage import color\n",
    "x = color.rgb2gray(X_train[0])\n",
    "print (y_train[0])\n",
    "print (\"Matrix x: (Anzahl Zeilen, Anzahl Spalten)\", x.shape)"
   ]
  },
  {
   "cell_type": "code",
   "execution_count": null,
   "metadata": {
    "scrolled": true
   },
   "outputs": [],
   "source": [
    "#Show generated grey picture X_train[0]\n",
    "plt.subplot(1, 2, 1)\n",
    "plt.imshow(X_train[0])\n",
    "plt.subplot(1, 2, 2)\n",
    "plt.imshow(x, cmap='gray')\n",
    "plt.show()"
   ]
  },
  {
   "cell_type": "code",
   "execution_count": null,
   "metadata": {},
   "outputs": [],
   "source": [
    "#Generate Black and white pictures for all classes\n",
    "X_train_gray = np.array([color.rgb2gray(pic) for pic in X_train])"
   ]
  },
  {
   "cell_type": "code",
   "execution_count": null,
   "metadata": {},
   "outputs": [],
   "source": [
    "print (X_train_zero.shape, X_train_gray.shape) #Q: What is the purpose of this line?"
   ]
  },
  {
   "cell_type": "code",
   "execution_count": null,
   "metadata": {},
   "outputs": [],
   "source": [
    "#Pictures get edited in Preprocessing to generate a bigger amount of data\n",
    "\n",
    "from keras.preprocessing.image import ImageDataGenerator\n",
    "datagen = ImageDataGenerator(  #Adjust datagenerator\n",
    "    featurewise_center=True, #Set input mean to 0 over the dataset, feature-wise \n",
    "    #Q: What does this line mean?\n",
    "    featurewise_std_normalization=True, #Divide inputs by std of the dataset, feature-wise. \n",
    "    #Q: What does this line mean?\n",
    "    rotation_range=20, #Pictures get rotated (max. 20°)\n",
    "    width_shift_range=0.2, #Pictures get shifted horizontally (max. by the factor 0.2)\n",
    "    height_shift_range=0.2, #Pictures get shifted vertically (max. by the factor 0.2)\n",
    "    horizontal_flip=True) #Pictures get mirrored horizontally \n",
    "    #Q: Is this executed with all signs?"
   ]
  },
  {
   "cell_type": "code",
   "execution_count": null,
   "metadata": {},
   "outputs": [],
   "source": [
    "X_train_zero = X_train_zero.reshape(len(X_train_zero), 64, 64, 1) # grayscale wrapper for the datagen object \n",
    "print (X_train_zero.shape)"
   ]
  },
  {
   "cell_type": "code",
   "execution_count": null,
   "metadata": {},
   "outputs": [],
   "source": [
    "datagen.fit(X_train_zero) #Compute the internal data stats related to the \n",
    "#data-dependent transformations, based on an array of sample data.\n",
    "#Only required if featurewise_center or featurewise_std_normalization"
   ]
  },
  {
   "cell_type": "code",
   "execution_count": null,
   "metadata": {},
   "outputs": [],
   "source": [
    "X_train_gray.max(), X_train_gray.min() #Frage: Was macht diese Funktion?"
   ]
  },
  {
   "cell_type": "markdown",
   "metadata": {},
   "source": [
    "# Color zero class\n",
    "since we have a colorfull zeroclass we do not need to transform the pictures to grey\n"
   ]
  },
  {
   "cell_type": "code",
   "execution_count": null,
   "metadata": {},
   "outputs": [],
   "source": [
    "#Load colorful signs\n",
    "#path = get_folderpath(subset='train', original_images=False)\n",
    "path=\"/data_on_server/Images/GTSRB_64x64/Final_Training\"\n",
    "X_train, y_train= load_data(path)\n"
   ]
  },
  {
   "cell_type": "code",
   "execution_count": null,
   "metadata": {},
   "outputs": [],
   "source": [
    "#Load colorful zero classes\n",
    "#path_zero = \"Y:\\\\Zero_Class_color\\\\00043\"\n",
    "path_zero = \"//data_on_server//Images//Zero_Class_color\"\n",
    "X_train_zero, y_train_zero = load_data(path_zero)"
   ]
  },
  {
   "cell_type": "code",
   "execution_count": null,
   "metadata": {},
   "outputs": [],
   "source": [
    "#The whole dataset consists of the zeroclasses as well as the normal signs\n",
    "X_trainC=X_train+X_train_zero\n",
    "Y_trainC=y_train+y_train_zero"
   ]
  },
  {
   "cell_type": "code",
   "execution_count": null,
   "metadata": {},
   "outputs": [],
   "source": [
    "shuff=list(zip(X_trainC,Y_trainC))\n",
    "random.shuffle(shuff)\n",
    "X_trainC, Y_trainC=zip(*shuff)"
   ]
  },
  {
   "cell_type": "code",
   "execution_count": null,
   "metadata": {},
   "outputs": [],
   "source": [
    "#List the trainingimages in a numpy array\n",
    "sign=np.array(Y_trainC)\n",
    "unique_classes = len(np.unique(sign))\n",
    "y_trainN = np.eye(unique_classes)[np.array(sign, dtype=int)]\n",
    "X_trainN = np.array(X_trainC, dtype=np.float32) / 255"
   ]
  },
  {
   "cell_type": "code",
   "execution_count": null,
   "metadata": {},
   "outputs": [],
   "source": [
    "del X_train, X_train_zero, X_trainC\n",
    "del y_train, y_train_zero, Y_trainC\n",
    "del shuff"
   ]
  },
  {
   "cell_type": "code",
   "execution_count": null,
   "metadata": {},
   "outputs": [],
   "source": [
    "#Load Testdata:\n",
    "path=\"/data_on_server/Images/GTSRB_64x64/Final_Test\"\n",
    "X_test, Y_test = load_data(path)"
   ]
  },
  {
   "cell_type": "code",
   "execution_count": null,
   "metadata": {},
   "outputs": [],
   "source": [
    "#List the testimages in a numpy array\n",
    "sign_test=np.array(Y_test)\n",
    "unique_classes_test = len(np.unique(sign_test))+1\n",
    "Y_testN = np.eye(unique_classes_test)[np.array(sign_test, dtype=int)]\n",
    "X_testN = np.array(X_test, dtype=np.float32) / 255"
   ]
  },
  {
   "cell_type": "code",
   "execution_count": null,
   "metadata": {},
   "outputs": [],
   "source": [
    "#Identify all Trainingimages which have not the specified format\n",
    "for n in X_trainN:\n",
    "    if(n.shape != (64,64,3)):\n",
    "        print(n.shape)"
   ]
  },
  {
   "cell_type": "code",
   "execution_count": null,
   "metadata": {},
   "outputs": [],
   "source": [
    "#Number of training images\n",
    "print (np.array(y_trainN).shape)\n",
    "print (X_trainN.shape)"
   ]
  },
  {
   "cell_type": "code",
   "execution_count": null,
   "metadata": {},
   "outputs": [],
   "source": [
    "#grayscale wrapper for the datagen object #Q: What should be done here?\n",
    "X_train = X_trainN.reshape(len(X_train), 64, 64, 3)\n",
    "X_train.shape"
   ]
  },
  {
   "cell_type": "markdown",
   "metadata": {},
   "source": [
    "# Load Network:\n",
    "From Keras docs, VGG-like Convnet.\n",
    "\n",
    "First Block (Convolutional Block)"
   ]
  },
  {
   "cell_type": "code",
   "execution_count": null,
   "metadata": {},
   "outputs": [],
   "source": [
    "#Other Callbacks: #Q: Where are they used?\n",
    "from keras.callbacks import Callback\n",
    "class TestCallback(Callback):\n",
    "    def __init__(self, test_data):\n",
    "        self.test_data = test_data\n",
    "\n",
    "    def on_epoch_end(self, epoch, logs={}):\n",
    "        x, y = self.test_data\n",
    "        loss, acc = self.model.evaluate(x, y, verbose=0)\n",
    "        print('\\nTesting loss: {}, acc: {}\\n'.format(loss, acc))\n",
    "\n",
    "#Q: What is this/ Is this training function used?\n",
    "model.fit(X_trainN, y_trainN, batch_size=32, epochs=50, validation_data=(X_testN, Y_testN), shuffle=True, callbacks=[TestCallback((X_testN, Y_testN))])"
   ]
  },
  {
   "cell_type": "markdown",
   "metadata": {},
   "source": [
    "load model:"
   ]
  },
  {
   "cell_type": "code",
   "execution_count": null,
   "metadata": {},
   "outputs": [],
   "source": [
    "model = load_model('/data_on_server/Nets/untrained/2017-11-19_convnet24_UN.h5')"
   ]
  },
  {
   "cell_type": "markdown",
   "metadata": {},
   "source": [
    "for 3D-Conv Layer at start:"
   ]
  },
  {
   "cell_type": "code",
   "execution_count": null,
   "metadata": {},
   "outputs": [],
   "source": [
    "length=len(X_trainN)\n",
    "np.reshape(X_trainN,(length,1,64,64,3))\n",
    "np.reshape(X_trainN,(length,1,64,64,3))\n"
   ]
  },
  {
   "cell_type": "markdown",
   "metadata": {},
   "source": [
    "## Train Model"
   ]
  },
  {
   "cell_type": "code",
   "execution_count": null,
   "metadata": {},
   "outputs": [],
   "source": [
    "#Tensorboard\n",
    "from keras.callbacks import TensorBoard\n",
    "basefolder='/data_on_server/Nets/trained/'\n",
    "netname=date.today().__str__() + '_Test'\n",
    "logfolder=basefolder+netname\n",
    "if not os.path.exists(logfolder):\n",
    "    os.makedirs(logfolder)\n",
    "tensorboard = TensorBoard(log_dir=logfolder, #Path of directory where to save the log files to be parsed by TensorBoard.\n",
    "                          histogram_freq=1, #frequency (in epochs) at which to compute activation and weight histograms\n",
    "                                            #If set to 0, histograms won't be computed.\n",
    "                          write_graph=True, #Visualize the graph in TensorBoard.\n",
    "                          write_images=False) #Write model weights to visualize as image in TensorBoard."
   ]
  },
  {
   "cell_type": "code",
   "execution_count": null,
   "metadata": {
    "scrolled": true
   },
   "outputs": [],
   "source": [
    "#Train model with tensorborad\n",
    "h=model.fit(X_trainN, y_trainN, batch_size=32, epochs=50, validation_split=0.25, verbose=1, shuffle=True, callbacks=[tensorboard])"
   ]
  },
  {
   "cell_type": "code",
   "execution_count": null,
   "metadata": {},
   "outputs": [],
   "source": [
    "#Save model\n",
    "model.save(basefolder+netname+'.h5')\n",
    "\n"
   ]
  }
 ],
 "metadata": {
  "anaconda-cloud": {},
  "kernelspec": {
   "display_name": "Python 3",
   "language": "python",
   "name": "python3"
  },
  "language_info": {
   "codemirror_mode": {
    "name": "ipython",
    "version": 3
   },
   "file_extension": ".py",
   "mimetype": "text/x-python",
   "name": "python",
   "nbconvert_exporter": "python",
   "pygments_lexer": "ipython3",
   "version": "3.5.2"
  }
 },
 "nbformat": 4,
 "nbformat_minor": 1
}
