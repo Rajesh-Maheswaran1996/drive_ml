{
 "cells": [
  {
   "cell_type": "markdown",
   "metadata": {},
   "source": [
    "# Previous Work"
   ]
  },
  {
   "cell_type": "markdown",
   "metadata": {},
   "source": [
    "The previous net saved in _'01-07-17_convnet.h5'_ , gets a 97% accuracy rate on the test dataset (!) of GTSRB. However, when it must predict on images that don't belong to the GTSRB dataset, it sees traffic signs where there are none, and with very high (~100%) confidence. This is a problem because during a race, the car won't see any traffic signs most of the time."
   ]
  },
  {
   "cell_type": "markdown",
   "metadata": {},
   "source": [
    "The approach to fix this, is to add a _background_ class, also called _Zero_ class, as the 43th class to the dataset."
   ]
  },
  {
   "cell_type": "code",
   "execution_count": 57,
   "metadata": {},
   "outputs": [],
   "source": [
    "#Load Picture data functions + Load Numpy and Plot library\n",
    "from utilities.gtsrb_loader.load_data import load_data\n",
    "from utilities.gtsrb_loader.get_folderpath import get_folderpath\n",
    "import matplotlib.pyplot as plt\n",
    "import numpy as np"
   ]
  },
  {
   "cell_type": "code",
   "execution_count": 58,
   "metadata": {},
   "outputs": [
    {
     "name": "stdout",
     "output_type": "stream",
     "text": [
      "GTSRB test dataset is in place, you're fine.\n",
      "/data_on_server/Images/GTSRB/Final_Training/Images\n"
     ]
    }
   ],
   "source": [
    "# Load Trainingsdata (could take 1 or 2 minutes to load data) / X --> images, y --> labels\n",
    "path = get_folderpath(subset='train', original_images=True)\n",
    "X_train, y_train = load_data(path)"
   ]
  },
  {
   "cell_type": "code",
   "execution_count": 59,
   "metadata": {},
   "outputs": [
    {
     "name": "stdout",
     "output_type": "stream",
     "text": [
      "[]\n"
     ]
    }
   ],
   "source": [
    "#Load zero class (Pictures with no traffic signs on them)\n",
    "path_zero = \"C:\\\\Users\\\\tomas\\\\Desktop\\\\GTSRB\\\\Zero_Class\\\\ 00043\"\n",
    "X_train_zero, y_train_zero = load_data(path_zero)\n",
    "print (X_train_zero) #Frage: X_train_zero ist leer?"
   ]
  },
  {
   "cell_type": "code",
   "execution_count": 60,
   "metadata": {},
   "outputs": [],
   "source": [
    "#Resizing images to 64 x 64\n",
    "from skimage.transform import resize\n",
    "X_train_zero = np.array([resize(pic, (64, 64), mode='edge') for pic in X_train_zero])"
   ]
  },
  {
   "cell_type": "markdown",
   "metadata": {},
   "source": [
    "# Training Set Selection"
   ]
  },
  {
   "cell_type": "markdown",
   "metadata": {},
   "source": [
    "For this second net, we want to distinguish between _background_ and _traffic sign_ reliably. Thats why I dont balance number of training images per class yet. Any traffic sign does the job. Since our zero class is only in gray color, we will transfor the GTSRB data to grayscale"
   ]
  },
  {
   "cell_type": "markdown",
   "metadata": {},
   "source": [
    "# Black and White Zero class"
   ]
  },
  {
   "cell_type": "code",
   "execution_count": 61,
   "metadata": {},
   "outputs": [
    {
     "name": "stdout",
     "output_type": "stream",
     "text": [
      "29\n",
      "Matrix x: (Anzahl Zeilen, Anzahl Spalten) (36, 27)\n"
     ]
    }
   ],
   "source": [
    "#Generate Black and white pictures (First just for class 29 to test)\n",
    "from skimage import color\n",
    "x = color.rgb2gray(X_train[0])\n",
    "print (y_train[0])\n",
    "print (\"Matrix x: (Anzahl Zeilen, Anzahl Spalten)\", x.shape)"
   ]
  },
  {
   "cell_type": "code",
   "execution_count": 62,
   "metadata": {
    "scrolled": true
   },
   "outputs": [
    {
     "data": {
      "image/png": "[encoded data removed]",
      "text/plain": [
       "<matplotlib.figure.Figure at 0x7f8088d96f28>"
      ]
     },
     "metadata": {},
     "output_type": "display_data"
    }
   ],
   "source": [
    "#Show generated grey picture X_train[0]\n",
    "plt.subplot(1, 2, 1)\n",
    "plt.imshow(X_train[0])\n",
    "plt.subplot(1, 2, 2)\n",
    "plt.imshow(x, cmap='gray')\n",
    "plt.show()"
   ]
  },
  {
   "cell_type": "code",
   "execution_count": 63,
   "metadata": {},
   "outputs": [],
   "source": [
    "#Generate Black and white pictures for all classes\n",
    "X_train_gray = np.array([color.rgb2gray(pic) for pic in X_train])"
   ]
  },
  {
   "cell_type": "code",
   "execution_count": 64,
   "metadata": {},
   "outputs": [
    {
     "name": "stdout",
     "output_type": "stream",
     "text": [
      "(0,) (39209,)\n"
     ]
    }
   ],
   "source": [
    "print (X_train_zero.shape, X_train_gray.shape) #Q: What is the purpose of this line?"
   ]
  },
  {
   "cell_type": "code",
   "execution_count": 65,
   "metadata": {},
   "outputs": [],
   "source": [
    "#Pictures get edited in Preprocessing to generate a bigger amount of data\n",
    "\n",
    "from keras.preprocessing.image import ImageDataGenerator\n",
    "datagen = ImageDataGenerator(  #Adjust datagenerator\n",
    "    featurewise_center=True, #Set input mean to 0 over the dataset, feature-wise \n",
    "    #Q: What does this line mean?\n",
    "    featurewise_std_normalization=True, #Divide inputs by std of the dataset, feature-wise. \n",
    "    #Q: What does this line mean?\n",
    "    rotation_range=20, #Pictures get rotated (max. 20°)\n",
    "    width_shift_range=0.2, #Pictures get shifted horizontally (max. by the factor 0.2)\n",
    "    height_shift_range=0.2, #Pictures get shifted vertically (max. by the factor 0.2)\n",
    "    horizontal_flip=True) #Pictures get mirrored horizontally \n",
    "    #Q: Is this executed with all signs?"
   ]
  },
  {
   "cell_type": "code",
   "execution_count": 66,
   "metadata": {},
   "outputs": [
    {
     "data": {
      "text/plain": [
       "(0, 64, 64, 1)"
      ]
     },
     "execution_count": 66,
     "metadata": {},
     "output_type": "execute_result"
    }
   ],
   "source": [
    "X_train_zero = X_train_zero.reshape(len(X_train_zero), 64, 64, 1) # grayscale wrapper for the datagen object \n",
    "X_train_zero.shape"
   ]
  },
  {
   "cell_type": "code",
   "execution_count": 67,
   "metadata": {},
   "outputs": [
    {
     "name": "stderr",
     "output_type": "stream",
     "text": [
      "/usr/local/lib/python3.5/dist-packages/numpy/core/fromnumeric.py:2909: RuntimeWarning: Mean of empty slice.\n",
      "  out=out, **kwargs)\n",
      "/usr/local/lib/python3.5/dist-packages/numpy/core/_methods.py:73: RuntimeWarning: invalid value encountered in true_divide\n",
      "  ret, rcount, out=ret, casting='unsafe', subok=False)\n",
      "/usr/local/lib/python3.5/dist-packages/numpy/core/_methods.py:135: RuntimeWarning: Degrees of freedom <= 0 for slice\n",
      "  keepdims=keepdims)\n",
      "/usr/local/lib/python3.5/dist-packages/numpy/core/_methods.py:105: RuntimeWarning: invalid value encountered in true_divide\n",
      "  arrmean, rcount, out=arrmean, casting='unsafe', subok=False)\n",
      "/usr/local/lib/python3.5/dist-packages/numpy/core/_methods.py:125: RuntimeWarning: invalid value encountered in true_divide\n",
      "  ret, rcount, out=ret, casting='unsafe', subok=False)\n"
     ]
    }
   ],
   "source": [
    "datagen.fit(X_train_zero) #Compute the internal data stats related to the \n",
    "#data-dependent transformations, based on an array of sample data.\n",
    "#Only required if featurewise_center or featurewise_std_normalization"
   ]
  },
  {
   "cell_type": "code",
   "execution_count": 68,
   "metadata": {},
   "outputs": [
    {
     "ename": "ValueError",
     "evalue": "operands could not be broadcast together with shapes (36,27) (34,31) ",
     "output_type": "error",
     "traceback": [
      "\u001b[0;31m---------------------------------------------------------------------------\u001b[0m",
      "\u001b[0;31mValueError\u001b[0m                                Traceback (most recent call last)",
      "\u001b[0;32m<ipython-input-68-77fe68180f08>\u001b[0m in \u001b[0;36m<module>\u001b[0;34m()\u001b[0m\n\u001b[0;32m----> 1\u001b[0;31m \u001b[0mX_train_gray\u001b[0m\u001b[0;34m.\u001b[0m\u001b[0mmax\u001b[0m\u001b[0;34m(\u001b[0m\u001b[0;34m)\u001b[0m\u001b[0;34m,\u001b[0m \u001b[0mX_train_gray\u001b[0m\u001b[0;34m.\u001b[0m\u001b[0mmin\u001b[0m\u001b[0;34m(\u001b[0m\u001b[0;34m)\u001b[0m \u001b[0;31m#Frage: Was macht diese Funktion\u001b[0m\u001b[0;34m\u001b[0m\u001b[0m\n\u001b[0m",
      "\u001b[0;32m/usr/local/lib/python3.5/dist-packages/numpy/core/_methods.py\u001b[0m in \u001b[0;36m_amax\u001b[0;34m(a, axis, out, keepdims)\u001b[0m\n\u001b[1;32m     24\u001b[0m \u001b[0;31m# small reductions\u001b[0m\u001b[0;34m\u001b[0m\u001b[0;34m\u001b[0m\u001b[0m\n\u001b[1;32m     25\u001b[0m \u001b[0;32mdef\u001b[0m \u001b[0m_amax\u001b[0m\u001b[0;34m(\u001b[0m\u001b[0ma\u001b[0m\u001b[0;34m,\u001b[0m \u001b[0maxis\u001b[0m\u001b[0;34m=\u001b[0m\u001b[0;32mNone\u001b[0m\u001b[0;34m,\u001b[0m \u001b[0mout\u001b[0m\u001b[0;34m=\u001b[0m\u001b[0;32mNone\u001b[0m\u001b[0;34m,\u001b[0m \u001b[0mkeepdims\u001b[0m\u001b[0;34m=\u001b[0m\u001b[0;32mFalse\u001b[0m\u001b[0;34m)\u001b[0m\u001b[0;34m:\u001b[0m\u001b[0;34m\u001b[0m\u001b[0m\n\u001b[0;32m---> 26\u001b[0;31m     \u001b[0;32mreturn\u001b[0m \u001b[0mumr_maximum\u001b[0m\u001b[0;34m(\u001b[0m\u001b[0ma\u001b[0m\u001b[0;34m,\u001b[0m \u001b[0maxis\u001b[0m\u001b[0;34m,\u001b[0m \u001b[0;32mNone\u001b[0m\u001b[0;34m,\u001b[0m \u001b[0mout\u001b[0m\u001b[0;34m,\u001b[0m \u001b[0mkeepdims\u001b[0m\u001b[0;34m)\u001b[0m\u001b[0;34m\u001b[0m\u001b[0m\n\u001b[0m\u001b[1;32m     27\u001b[0m \u001b[0;34m\u001b[0m\u001b[0m\n\u001b[1;32m     28\u001b[0m \u001b[0;32mdef\u001b[0m \u001b[0m_amin\u001b[0m\u001b[0;34m(\u001b[0m\u001b[0ma\u001b[0m\u001b[0;34m,\u001b[0m \u001b[0maxis\u001b[0m\u001b[0;34m=\u001b[0m\u001b[0;32mNone\u001b[0m\u001b[0;34m,\u001b[0m \u001b[0mout\u001b[0m\u001b[0;34m=\u001b[0m\u001b[0;32mNone\u001b[0m\u001b[0;34m,\u001b[0m \u001b[0mkeepdims\u001b[0m\u001b[0;34m=\u001b[0m\u001b[0;32mFalse\u001b[0m\u001b[0;34m)\u001b[0m\u001b[0;34m:\u001b[0m\u001b[0;34m\u001b[0m\u001b[0m\n",
      "\u001b[0;31mValueError\u001b[0m: operands could not be broadcast together with shapes (36,27) (34,31) "
     ]
    }
   ],
   "source": [
    "X_train_gray.max(), X_train_gray.min() #Frage: Was macht diese Funktion"
   ]
  },
  {
   "cell_type": "markdown",
   "metadata": {},
   "source": [
    "# Color zero class\n",
    "since we have a colorfull zeroclass we do not need to transform the pictures to grey\n"
   ]
  },
  {
   "cell_type": "code",
   "execution_count": 69,
   "metadata": {},
   "outputs": [],
   "source": [
    "#Load colorful signs\n",
    "#path = get_folderpath(subset='train', original_images=False)\n",
    "path=\"/data_on_server/Images/GTSRB_64x64/Final_Training\"\n",
    "X_train, y_train = load_data(path)\n"
   ]
  },
  {
   "cell_type": "code",
   "execution_count": 70,
   "metadata": {},
   "outputs": [],
   "source": [
    "#Load colorful zero classes\n",
    "#path_zero = \"Y:\\\\Zero_Class_color\\\\00043\"\n",
    "path_zero = \"//data_on_server//Images//Zero_Class_color\"\n",
    "X_train_zero, y_train_zero = load_data(path_zero)"
   ]
  },
  {
   "cell_type": "code",
   "execution_count": 71,
   "metadata": {},
   "outputs": [],
   "source": [
    "#The whole dataset consists of the zeroclasses as well as the normal signs\n",
    "X_trainC=X_train+X_train_zero\n",
    "Y_trainC=y_train+y_train_zero"
   ]
  },
  {
   "cell_type": "code",
   "execution_count": 72,
   "metadata": {},
   "outputs": [],
   "source": [
    "#List the trainingimages in a numpy array\n",
    "sign=np.array(Y_trainC)\n",
    "unique_classes = len(np.unique(sign))\n",
    "y_trainN = np.eye(unique_classes)[np.array(sign, dtype=int)]\n",
    "X_trainN = np.array(X_trainC, dtype=np.float32) / 255"
   ]
  },
  {
   "cell_type": "code",
   "execution_count": 73,
   "metadata": {},
   "outputs": [],
   "source": [
    "#Load Testdata:\n",
    "path=\"/data_on_server/Images/GTSRB_64x64/Final_Test\"\n",
    "X_test, Y_test = load_data(path)"
   ]
  },
  {
   "cell_type": "code",
   "execution_count": 74,
   "metadata": {},
   "outputs": [],
   "source": [
    "#List the testimages in a numpy array\n",
    "sign_test=np.array(Y_test)\n",
    "unique_classes_test = len(np.unique(sign_test))+1\n",
    "Y_testN = np.eye(unique_classes_test)[np.array(sign_test, dtype=int)]\n",
    "X_testN = np.array(X_test, dtype=np.float32) / 255"
   ]
  },
  {
   "cell_type": "code",
   "execution_count": 75,
   "metadata": {},
   "outputs": [],
   "source": [
    "#Identify all Trainingimages which have not the specified format\n",
    "for n in X_trainN:\n",
    "    if(n.shape != (64,64,3)):\n",
    "        print(n.shape)"
   ]
  },
  {
   "cell_type": "code",
   "execution_count": 76,
   "metadata": {},
   "outputs": [
    {
     "name": "stdout",
     "output_type": "stream",
     "text": [
      "(52437, 44)\n",
      "(52437, 64, 64, 3)\n"
     ]
    }
   ],
   "source": [
    "#Number of training images\n",
    "print (np.array(y_trainN).shape)\n",
    "print (X_trainN.shape)"
   ]
  },
  {
   "cell_type": "code",
   "execution_count": 77,
   "metadata": {},
   "outputs": [
    {
     "ename": "ValueError",
     "evalue": "cannot reshape array of size 644345856 into shape (48778,64,64,3)",
     "output_type": "error",
     "traceback": [
      "\u001b[0;31m---------------------------------------------------------------------------\u001b[0m",
      "\u001b[0;31mValueError\u001b[0m                                Traceback (most recent call last)",
      "\u001b[0;32m<ipython-input-77-e0a929a45d01>\u001b[0m in \u001b[0;36m<module>\u001b[0;34m()\u001b[0m\n\u001b[1;32m      1\u001b[0m \u001b[0;31m#grayscale wrapper for the datagen object\u001b[0m\u001b[0;34m\u001b[0m\u001b[0;34m\u001b[0m\u001b[0m\n\u001b[0;32m----> 2\u001b[0;31m \u001b[0mX_train\u001b[0m \u001b[0;34m=\u001b[0m \u001b[0mX_trainN\u001b[0m\u001b[0;34m.\u001b[0m\u001b[0mreshape\u001b[0m\u001b[0;34m(\u001b[0m\u001b[0mlen\u001b[0m\u001b[0;34m(\u001b[0m\u001b[0mX_train\u001b[0m\u001b[0;34m)\u001b[0m\u001b[0;34m,\u001b[0m \u001b[0;36m64\u001b[0m\u001b[0;34m,\u001b[0m \u001b[0;36m64\u001b[0m\u001b[0;34m,\u001b[0m \u001b[0;36m3\u001b[0m\u001b[0;34m)\u001b[0m\u001b[0;34m\u001b[0m\u001b[0m\n\u001b[0m\u001b[1;32m      3\u001b[0m \u001b[0mX_train\u001b[0m\u001b[0;34m.\u001b[0m\u001b[0mshape\u001b[0m\u001b[0;34m\u001b[0m\u001b[0m\n",
      "\u001b[0;31mValueError\u001b[0m: cannot reshape array of size 644345856 into shape (48778,64,64,3)"
     ]
    }
   ],
   "source": [
    "#grayscale wrapper for the datagen object #Q: What should be done here?\n",
    "X_train = X_trainN.reshape(len(X_train), 64, 64, 3)\n",
    "X_train.shape"
   ]
  },
  {
   "cell_type": "markdown",
   "metadata": {},
   "source": [
    "# CHECKPOINT WIP"
   ]
  },
  {
   "cell_type": "code",
   "execution_count": null,
   "metadata": {},
   "outputs": [],
   "source": [
    "# normalize X_train\n",
    "X_train = np.array(X_train, dtype=np.float32) / 255\n",
    "# X_train_zero"
   ]
  },
  {
   "cell_type": "code",
   "execution_count": null,
   "metadata": {},
   "outputs": [],
   "source": [
    "# one-hot encode the labels\n",
    "boundBox=np.array(y_train)[:,0:4]\n",
    "sign=np.array(y_train)[:,4]\n",
    "unique_classes = len(np.unique(sign))\n",
    "y_trainN = np.eye(unique_classes)[np.array(sign, dtype=int)]\n",
    "y_trainF=np.concatenate([y_trainN,boundBox], axis=1)"
   ]
  },
  {
   "cell_type": "code",
   "execution_count": null,
   "metadata": {},
   "outputs": [],
   "source": [
    "y_trainF\n",
    "\n"
   ]
  },
  {
   "cell_type": "markdown",
   "metadata": {},
   "source": [
    "## Define Network:\n",
    "From Keras docs, VGG-like Convnet.\n",
    "\n",
    "First Block (Convolutional Block)"
   ]
  },
  {
   "cell_type": "code",
   "execution_count": 78,
   "metadata": {},
   "outputs": [],
   "source": [
    "#Import Keras Model libraries\n",
    "from keras.models import Sequential\n",
    "from keras.layers import Dense, Dropout, Flatten, Conv2D, MaxPooling2D"
   ]
  },
  {
   "cell_type": "code",
   "execution_count": 79,
   "metadata": {},
   "outputs": [],
   "source": [
    "#Generate Sequential model\n",
    "model = Sequential()"
   ]
  },
  {
   "cell_type": "code",
   "execution_count": 80,
   "metadata": {},
   "outputs": [],
   "source": [
    "#Add 2D convolution layer\n",
    "model.add(Conv2D(input_shape=(64, 64, 3), # Specifying the input shape\n",
    "                 filters=32, #Number of filters\n",
    "                 kernel_size=(3, 3), #Filtersize (3x3 filter)\n",
    "                 activation='relu')) #Activation function is Rectifier"
   ]
  },
  {
   "cell_type": "code",
   "execution_count": 81,
   "metadata": {},
   "outputs": [],
   "source": [
    "#Add 2D convolution layer\n",
    "model.add(Conv2D(filters=32,\n",
    "                 kernel_size=(3, 3),\n",
    "                 activation='relu'))"
   ]
  },
  {
   "cell_type": "code",
   "execution_count": 82,
   "metadata": {},
   "outputs": [],
   "source": [
    "#Add MaxPooling layer\n",
    "model.add(MaxPooling2D(pool_size=(2, 2))) #poolsize 2x2"
   ]
  },
  {
   "cell_type": "code",
   "execution_count": 83,
   "metadata": {},
   "outputs": [],
   "source": [
    "#Applies Dropout to the input. Dropout consists in randomly setting a fraction rate (here 0.25) of input units to 0\n",
    "# at each update during training time, which helps prevent overfitting.\n",
    "model.add(Dropout(0.25))"
   ]
  },
  {
   "cell_type": "markdown",
   "metadata": {},
   "source": [
    "Second Block (Convolutional Block)"
   ]
  },
  {
   "cell_type": "code",
   "execution_count": 84,
   "metadata": {},
   "outputs": [],
   "source": [
    "#Add 2D convolution layer\n",
    "model.add(Conv2D(filters=64, #Number of filters\n",
    "                 kernel_size=(3, 3), #Filtersize (3x3 filter)\n",
    "                 activation='relu')) #Activation function is Rectifier"
   ]
  },
  {
   "cell_type": "code",
   "execution_count": 85,
   "metadata": {},
   "outputs": [],
   "source": [
    "#Add 2D convolution layer\n",
    "model.add(Conv2D(filters=64, #Number of filters\n",
    "                 kernel_size=(3, 3), #Filtersize (3x3 filter)\n",
    "                 activation='relu')) #Activation function is Rectifier"
   ]
  },
  {
   "cell_type": "code",
   "execution_count": 86,
   "metadata": {},
   "outputs": [],
   "source": [
    "#Add MaxPooling layer\n",
    "model.add(MaxPooling2D(pool_size=(2, 2))) #poolsize 2x2"
   ]
  },
  {
   "cell_type": "code",
   "execution_count": 87,
   "metadata": {},
   "outputs": [],
   "source": [
    "#Applies Dropout to the input. Dropout consists in randomly setting a fraction rate (here 0.25) of input units to 0\n",
    "# at each update during training time, which helps prevent overfitting.\n",
    "model.add(Dropout(0.25))"
   ]
  },
  {
   "cell_type": "markdown",
   "metadata": {},
   "source": [
    "Third Block (Fully Connected Layers)"
   ]
  },
  {
   "cell_type": "code",
   "execution_count": 88,
   "metadata": {},
   "outputs": [],
   "source": [
    "#Flatten the input --> From 2D-Array to 1D-Array\n",
    "model.add(Flatten())"
   ]
  },
  {
   "cell_type": "code",
   "execution_count": 89,
   "metadata": {},
   "outputs": [],
   "source": [
    "#Add fullyconnected layers\n",
    "model.add(Dense(200, activation='relu')) #Add layer with 200 neurons with rectifier activation function\n",
    "model.add(Dropout(0.5)) #Applies Dropout to the input --> fraction rate is here 0.5\n",
    "model.add(Dense(44, activation='softmax')) #Add layer with 44 neurons with softmax activation function"
   ]
  },
  {
   "cell_type": "markdown",
   "metadata": {},
   "source": [
    "Define critical parameters for network (SGD-optimizer, tensorboard)"
   ]
  },
  {
   "cell_type": "code",
   "execution_count": null,
   "metadata": {},
   "outputs": [],
   "source": [
    "#Stochastic gradient descent optimizer.\n",
    "#Includes support for momentum, learning rate decay, and Nesterov momentum.\n",
    "from keras.optimizers import SGD\n",
    "sgd = SGD(lr=0.01, #Learningrate = 0.01, \n",
    "          decay=1e-6, #decay (Factor to decrease the learningrate over time),\n",
    "          momentum=0.9, #momentum (former gradient descents are considered to increase the speed of convergence)= 0.9\n",
    "          nesterov=True) #Nesterov momentum is used (method to reduce the probability to not find minima because of high momentum)"
   ]
  },
  {
   "cell_type": "code",
   "execution_count": 99,
   "metadata": {},
   "outputs": [],
   "source": [
    "model.compile(loss='categorical_crossentropy', #As lossfunction y_true and y_pred are compared in every category\n",
    "              optimizer=sgd, #Stochastic gradient descent optimizers are used\n",
    "              metrics=['accuracy']) #List of metrics to be evaluated by the model during training and testing --> Here: accuracy."
   ]
  },
  {
   "cell_type": "code",
   "execution_count": 100,
   "metadata": {},
   "outputs": [],
   "source": [
    "#Tensorboard\n",
    "from keras.callbacks import TensorBoard\n",
    "\n",
    "tensorboard = TensorBoard(log_dir='./logs', #Path of directory where to save the log files to be parsed by TensorBoard.\n",
    "                          histogram_freq=0, #frequency (in epochs) at which to compute activation and weight histograms\n",
    "                                            #If set to 0, histograms won't be computed.\n",
    "                          write_graph=True, #Visualize the graph in TensorBoard.\n",
    "                          write_images=False) #Write model weights to visualize as image in TensorBoard."
   ]
  },
  {
   "cell_type": "code",
   "execution_count": null,
   "metadata": {},
   "outputs": [],
   "source": [
    "#Other Callbacks: #Q: Where are they used?\n",
    "from keras.callbacks import Callback\n",
    "class TestCallback(Callback):\n",
    "    def __init__(self, test_data):\n",
    "        self.test_data = test_data\n",
    "\n",
    "    def on_epoch_end(self, epoch, logs={}):\n",
    "        x, y = self.test_data\n",
    "        loss, acc = self.model.evaluate(x, y, verbose=0)\n",
    "        print('\\nTesting loss: {}, acc: {}\\n'.format(loss, acc))\n",
    "\n",
    "#Q: What is this/ Is this training function used?\n",
    "model.fit(X_trainN, y_trainN, batch_size=32, epochs=50, validation_data=(X_testN, Y_testN), shuffle=True, callbacks=[TestCallback((X_testN, Y_testN))])"
   ]
  },
  {
   "cell_type": "markdown",
   "metadata": {},
   "source": [
    "## Train Model"
   ]
  },
  {
   "cell_type": "code",
   "execution_count": null,
   "metadata": {
    "scrolled": true
   },
   "outputs": [
    {
     "name": "stdout",
     "output_type": "stream",
     "text": [
      "Train on 52437 samples, validate on 12630 samples\n",
      "Epoch 1/50\n",
      "52437/52437 [==============================] - 304s - loss: 1.1202 - acc: 0.6715 - val_loss: 0.3015 - val_acc: 0.9137\n",
      "Epoch 2/50\n",
      "52437/52437 [==============================] - 304s - loss: 0.2011 - acc: 0.9393 - val_loss: 0.2061 - val_acc: 0.9428\n",
      "Epoch 3/50\n",
      "52437/52437 [==============================] - 304s - loss: 0.1113 - acc: 0.9662 - val_loss: 0.1372 - val_acc: 0.9638\n",
      "Epoch 4/50\n",
      "52437/52437 [==============================] - 304s - loss: 0.0793 - acc: 0.9760 - val_loss: 0.1240 - val_acc: 0.9689\n",
      "Epoch 5/50\n",
      "52437/52437 [==============================] - 303s - loss: 0.0584 - acc: 0.9820 - val_loss: 0.1496 - val_acc: 0.9644\n",
      "Epoch 6/50\n",
      "52437/52437 [==============================] - 304s - loss: 0.0503 - acc: 0.9845 - val_loss: 0.1107 - val_acc: 0.9713\n",
      "Epoch 7/50\n",
      "22752/52437 [============>.................] - ETA: 161s - loss: 0.0426 - acc: 0.9871"
     ]
    }
   ],
   "source": [
    "#Train model with tensorborad\n",
    "model.fit(X_trainN, y_trainN, batch_size=32, epochs=50, validation_data=(X_testN, Y_testN), shuffle=True, callbacks=[tensorboard])"
   ]
  },
  {
   "cell_type": "code",
   "execution_count": null,
   "metadata": {},
   "outputs": [],
   "source": [
    "#Define model with TestCallback\n",
    "#Q: Will this be done?"
   ]
  },
  {
   "cell_type": "code",
   "execution_count": null,
   "metadata": {
    "scrolled": true
   },
   "outputs": [],
   "source": [
    "#Training without tensorboard\n",
    "model.fit(X_trainN, y_trainN, batch_size=32, verbose=2 ,epochs=20)\n",
    "#Q: What is the benefit of training with and without tensorboard"
   ]
  },
  {
   "cell_type": "code",
   "execution_count": null,
   "metadata": {},
   "outputs": [],
   "source": [
    "#Save model\n",
    "model.save('16-10-17_convnet_Zero_color_E50.h5')"
   ]
  }
 ],
 "metadata": {
  "anaconda-cloud": {},
  "kernelspec": {
   "display_name": "Python 3",
   "language": "python",
   "name": "python3"
  },
  "language_info": {
   "codemirror_mode": {
    "name": "ipython",
    "version": 3
   },
   "file_extension": ".py",
   "mimetype": "text/x-python",
   "name": "python",
   "nbconvert_exporter": "python",
   "pygments_lexer": "ipython3",
   "version": "3.5.2"
  }
 },
 "nbformat": 4,
 "nbformat_minor": 1
}
