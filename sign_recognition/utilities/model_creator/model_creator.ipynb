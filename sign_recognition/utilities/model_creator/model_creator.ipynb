{
 "cells": [
  {
   "cell_type": "markdown",
   "metadata": {},
   "source": [
    "## Define Network:\n",
    "From Keras docs, VGG-like Convnet.\n",
    "\n",
    "First Block (Convolutional Block)"
   ]
  },
  {
   "cell_type": "code",
   "execution_count": null,
   "metadata": {},
   "outputs": [],
   "source": [
    "#Import Keras Model libraries\n",
    "from keras.models import Sequential\n",
    "from keras.layers import Dense, Dropout, Flatten, Conv2D, MaxPooling2D, Conv3D, SeparableConv2D\n",
    "from keras import regularizers\n",
    "from keras.utils import plot_model\n",
    "from datetime import date\n",
    "import os"
   ]
  },
  {
   "cell_type": "markdown",
   "metadata": {},
   "source": [
    "## FirstModel\n"
   ]
  },
  {
   "cell_type": "code",
   "execution_count": null,
   "metadata": {},
   "outputs": [],
   "source": [
    "#Generate Sequential model\n",
    "model = Sequential()"
   ]
  },
  {
   "cell_type": "code",
   "execution_count": null,
   "metadata": {},
   "outputs": [],
   "source": [
    "#Add 2D convolution layer\n",
    "model.add(SeparableConv2D(input_shape=(64, 64, 3), # Specifying the input shape\n",
    "                 filters=32, #Number of filters\n",
    "                 kernel_size=(3, 3), #Filtersize (3x3 filter)\n",
    "                 activation='relu')) #Activation function is Rectifier"
   ]
  },
  {
   "cell_type": "code",
   "execution_count": null,
   "metadata": {},
   "outputs": [],
   "source": [
    "#Add 2D convolution layer\n",
    "model.add(Conv2D(filters=32,\n",
    "                 kernel_size=(3, 3),\n",
    "                 activation='relu'))"
   ]
  },
  {
   "cell_type": "code",
   "execution_count": null,
   "metadata": {},
   "outputs": [],
   "source": [
    "#Add MaxPooling layer\n",
    "model.add(MaxPooling2D(pool_size=(2, 2))) #poolsize 2x2"
   ]
  },
  {
   "cell_type": "code",
   "execution_count": null,
   "metadata": {},
   "outputs": [],
   "source": [
    "#Applies Dropout to the input. Dropout consists in randomly setting a fraction rate (here 0.25) of input units to 0\n",
    "# at each update during training time, which helps prevent overfitting.\n",
    "model.add(Dropout(0.25))"
   ]
  },
  {
   "cell_type": "markdown",
   "metadata": {},
   "source": [
    "Second Block (Convolutional Block)"
   ]
  },
  {
   "cell_type": "code",
   "execution_count": null,
   "metadata": {},
   "outputs": [],
   "source": [
    "#Add 2D convolution layer\n",
    "model.add(Conv2D(filters=64, #Number of filters\n",
    "                 kernel_size=(3, 3), #Filtersize (3x3 filter)\n",
    "                 activation='relu')) #Activation function is Rectifier"
   ]
  },
  {
   "cell_type": "code",
   "execution_count": null,
   "metadata": {},
   "outputs": [],
   "source": [
    "#Add 2D convolution layer\n",
    "model.add(Conv2D(filters=64, #Number of filters\n",
    "                 kernel_size=(3, 3), #Filtersize (3x3 filter)\n",
    "                 activation='relu')) #Activation function is Rectifier"
   ]
  },
  {
   "cell_type": "code",
   "execution_count": null,
   "metadata": {},
   "outputs": [],
   "source": [
    "#Add MaxPooling layer\n",
    "model.add(MaxPooling2D(pool_size=(2, 2))) #poolsize 2x2"
   ]
  },
  {
   "cell_type": "code",
   "execution_count": null,
   "metadata": {},
   "outputs": [],
   "source": [
    "#Applies Dropout to the input. Dropout consists in randomly setting a fraction rate (here 0.25) of input units to 0\n",
    "# at each update during training time, which helps prevent overfitting.\n",
    "model.add(Dropout(0.25))"
   ]
  },
  {
   "cell_type": "markdown",
   "metadata": {},
   "source": [
    "Third Block (Fully Connected Layers)"
   ]
  },
  {
   "cell_type": "code",
   "execution_count": null,
   "metadata": {},
   "outputs": [],
   "source": [
    "#Flatten the input --> From 2D-Array to 1D-Array\n",
    "model.add(Flatten())"
   ]
  },
  {
   "cell_type": "code",
   "execution_count": null,
   "metadata": {},
   "outputs": [],
   "source": [
    "#Add fullyconnected layers\n",
    "model.add(Dense(200, activation='relu')) #Add layer with 200 neurons with rectifier activation function\n",
    "model.add(Dropout(0.5)) #Applies Dropout to the input --> fraction rate is here 0.5\n",
    "model.add(Dense(44, activation='softmax')) #Add layer with 44 neurons with softmax activation function"
   ]
  },
  {
   "cell_type": "markdown",
   "metadata": {},
   "source": [
    "Define critical parameters for network (SGD-optimizer, tensorboard)"
   ]
  },
  {
   "cell_type": "code",
   "execution_count": null,
   "metadata": {},
   "outputs": [],
   "source": [
    "#Stochastic gradient descent optimizer.\n",
    "#Includes support for momentum, learning rate decay, and Nesterov momentum.\n",
    "from keras.optimizers import SGD\n",
    "sgd = SGD(lr=0.01, #Learningrate = 0.01, \n",
    "          decay=1e-5, #decay (Factor to decrease the learningrate over time),\n",
    "          momentum=0.9, #momentum (former gradient descents are considered to increase the speed of convergence)= 0.9\n",
    "          nesterov=True) #Nesterov momentum is used (method to reduce the probability to not find minima because of high momentum)"
   ]
  },
  {
   "cell_type": "code",
   "execution_count": null,
   "metadata": {},
   "outputs": [],
   "source": [
    "model.compile(loss='categorical_crossentropy', #As lossfunction y_true and y_pred are compared in every category\n",
    "              optimizer=sgd, #Stochastic gradient descent optimizers are used\n",
    "              metrics=['accuracy']) #List of metrics to be evaluated by the model during training and testing --> Here: accuracy."
   ]
  },
  {
   "cell_type": "code",
   "execution_count": null,
   "metadata": {},
   "outputs": [],
   "source": [
    "#Save model\n",
    "model_name='convnet_Zero_color'\n",
    "model_file_name=os.path.join('/data/Nets/untrained/', date.today().__str__() + '_' + model_name)\n",
    "model.save(model_file_name+'.h5')\n",
    "plot_model(model, to_file=model_file_name+'.png', show_shapes=True)"
   ]
  },
  {
   "cell_type": "markdown",
   "metadata": {},
   "source": [
    "## Secound Model"
   ]
  },
  {
   "cell_type": "code",
   "execution_count": null,
   "metadata": {},
   "outputs": [],
   "source": [
    "#Generate Sequential model\n",
    "model = Sequential()\n",
    "#Add 2D convolution layer\n",
    "model.add(Conv2D(input_shape=(64, 64, 3), # Specifying the input shape\n",
    "                 filters=32, #Number of filters\n",
    "                 kernel_size=(5, 5), #Filtersize (3x3 filter)\n",
    "                 kernel_regularizer=regularizers.l2(0.0001),\n",
    "                 activation='relu')) #Activation function is Rectifier\n",
    "#Add 2D convolution layer\n",
    "#model.add(Conv2D(filters=64,\n",
    "#                 kernel_size=(7, 7),\n",
    "#                 kernel_regularizer=regularizers.l2(0.01),\n",
    "#                 activation='relu'))\n",
    "#Add MaxPooling layer\n",
    "model.add(MaxPooling2D(pool_size=(2, 2))) #poolsize 2x2\n",
    "#Applies Dropout to the input. Dropout consists in randomly setting a fraction rate (here 0.25) of input units to 0\n",
    "# at each update during training time, which helps prevent overfitting.\n",
    "model.add(Dropout(0.2))\n",
    "\n"
   ]
  },
  {
   "cell_type": "markdown",
   "metadata": {},
   "source": [
    "Secound Block"
   ]
  },
  {
   "cell_type": "code",
   "execution_count": null,
   "metadata": {},
   "outputs": [],
   "source": [
    "\n",
    "#Add 2D convolution layer\n",
    "model.add(Conv2D(filters=64, #Number of filters\n",
    "                 kernel_size=(7, 7), #Filtersize (3x3 filter)\n",
    "                 kernel_regularizer=regularizers.l2(0.0001),\n",
    "                 activation='relu')) #Activation function is Rectifier\n",
    "model.add(Dropout(0.2))\n",
    "#Add 2D convolution layer\n",
    "model.add(MaxPooling2D(pool_size=(2, 2)))\n",
    "model.add(Conv2D(filters=128, #Number of filters\n",
    "                 kernel_size=(5, 5), #Filtersize (3x3 filter)\n",
    "                 kernel_regularizer=regularizers.l2(0.0001),\n",
    "                 activation='relu')) #Activation function is Rectifier\n",
    "#Add MaxPooling layer\n",
    "model.add(MaxPooling2D(pool_size=(2, 2))) #poolsize 2x2\n",
    "#Applies Dropout to the input. Dropout consists in randomly setting a fraction rate (here 0.25) of input units to 0\n",
    "# at each update during training time, which helps prevent overfitting.\n",
    "model.add(Dropout(0.3))"
   ]
  },
  {
   "cell_type": "markdown",
   "metadata": {},
   "source": [
    "Third Block"
   ]
  },
  {
   "cell_type": "code",
   "execution_count": null,
   "metadata": {},
   "outputs": [],
   "source": [
    "#Flatten the input --> From 2D-Array to 1D-Array\n",
    "model.add(Flatten())\n",
    "#Add fullyconnected layers\n",
    "model.add(Dense(1024, activation='relu')) #Add layer with 200 neurons with rectifier activation function\n",
    "model.add(Dense(132, activation='relu')) #Add layer with 200 neurons with rectifier activation function\n",
    "model.add(Dropout(0.5)) #Applies Dropout to the input --> fraction rate is here 0.5\n",
    "model.add(Dense(44, activation='softmax',kernel_regularizer=regularizers.l2(0.0001))) #Add layer with 44 neurons with softmax activation function"
   ]
  },
  {
   "cell_type": "code",
   "execution_count": null,
   "metadata": {},
   "outputs": [],
   "source": [
    "#Stochastic gradient descent optimizer.\n",
    "#Includes support for momentum, learning rate decay, and Nesterov momentum.\n",
    "from keras.optimizers import SGD\n",
    "sgd = SGD(lr=0.001, #Learningrate = 0.01, \n",
    "          decay=1e-6, #decay (Factor to decrease the learningrate over time),\n",
    "          momentum=0.9, #momentum (former gradient descents are considered to increase the speed of convergence)= 0.9\n",
    "          nesterov=True) #Nesterov momentum is used (method to reduce the probability to not find minima because of high momentum)"
   ]
  },
  {
   "cell_type": "code",
   "execution_count": null,
   "metadata": {},
   "outputs": [],
   "source": [
    "from keras.optimizers import Adam\n",
    "adam = Adam(lr=0.001, beta_1=0.9, beta_2=0.999, epsilon=1e-08, decay=0.0)#Nesterov momentum is used (method to reduce the probability to not find minima because of high momentum)"
   ]
  },
  {
   "cell_type": "code",
   "execution_count": null,
   "metadata": {},
   "outputs": [],
   "source": [
    "model.compile(loss='categorical_crossentropy', #As lossfunction y_true and y_pred are compared in every category\n",
    "              optimizer=adam, #Stochastic gradient descent optimizers are used\n",
    "              metrics=['accuracy']) #List of metrics to be evaluated by the model during training and testing --> Here: accuracy."
   ]
  },
  {
   "cell_type": "code",
   "execution_count": null,
   "metadata": {},
   "outputs": [],
   "source": [
    "#Save model\n",
    "\n",
    "model_name='convnet24_UN'\n",
    "model_file_name=os.path.join('/data/Nets/untrained/', date.today().__str__() + '_' + model_name)\n",
    "model.save(model_file_name+'.h5')\n",
    "plot_model(model, to_file=model_file_name+'.png', show_shapes=True)"
   ]
  },
  {
   "cell_type": "markdown",
   "metadata": {},
   "source": [
    "# Model 3 - classification\n"
   ]
  },
  {
   "cell_type": "code",
   "execution_count": null,
   "metadata": {},
   "outputs": [],
   "source": [
    "#Generate Sequential model\n",
    "model = Sequential()\n",
    "#Add 2D convolution layer\n",
    "model.add(Conv2D(input_shape=(64, 64, 3), # Specifying the input shape\n",
    "                 filters=32, #Number of filters\n",
    "                 kernel_size=(5, 5), #Filtersize (3x3 filter)\n",
    "                 kernel_regularizer=regularizers.l2(0.0001),\n",
    "                 activation='relu')) #Activation function is Rectifier\n",
    "#Add 2D convolution layer\n",
    "#model.add(Conv2D(filters=64,\n",
    "#                 kernel_size=(7, 7),\n",
    "#                 kernel_regularizer=regularizers.l2(0.01),\n",
    "#                 activation='relu'))\n",
    "#Add MaxPooling layer\n",
    "model.add(MaxPooling2D(pool_size=(2, 2))) #poolsize 2x2\n",
    "#Applies Dropout to the input. Dropout consists in randomly setting a fraction rate (here 0.25) of input units to 0\n",
    "# at each update during training time, which helps prevent overfitting.\n",
    "model.add(Dropout(0.2))\n"
   ]
  },
  {
   "cell_type": "code",
   "execution_count": null,
   "metadata": {},
   "outputs": [],
   "source": [
    "\n",
    "#Add 2D convolution layer\n",
    "model.add(Conv2D(filters=64, #Number of filters\n",
    "                 kernel_size=(7, 7), #Filtersize (3x3 filter)\n",
    "                 kernel_regularizer=regularizers.l2(0.0001),\n",
    "                 activation='relu')) #Activation function is Rectifier\n",
    "model.add(Dropout(0.2))\n",
    "#Add 2D convolution layer\n",
    "model.add(MaxPooling2D(pool_size=(2, 2)))\n",
    "model.add(Conv2D(filters=128, #Number of filters\n",
    "                 kernel_size=(5, 5), #Filtersize (3x3 filter)\n",
    "                 kernel_regularizer=regularizers.l2(0.0001),\n",
    "                 activation='relu')) #Activation function is Rectifier\n",
    "#Add MaxPooling layer\n",
    "model.add(MaxPooling2D(pool_size=(2, 2))) #poolsize 2x2\n",
    "#Applies Dropout to the input. Dropout consists in randomly setting a fraction rate (here 0.25) of input units to 0\n",
    "# at each update during training time, which helps prevent overfitting.\n",
    "model.add(Dropout(0.3))"
   ]
  },
  {
   "cell_type": "code",
   "execution_count": null,
   "metadata": {},
   "outputs": [],
   "source": [
    "#Flatten the input --> From 2D-Array to 1D-Array\n",
    "model.add(Flatten())\n",
    "#Add fullyconnected layers\n",
    "model.add(Dense(1024, activation='relu')) #Add layer with 200 neurons with rectifier activation function\n",
    "model.add(Dense(132, activation='relu')) #Add layer with 200 neurons with rectifier activation function\n",
    "model.add(Dropout(0.5)) #Applies Dropout to the input --> fraction rate is here 0.5\n",
    "model.add(Dense(4, activation='sigmoid',kernel_regularizer=regularizers.l2(0.0001))) #Add layer with 44 neurons with softmax activation function"
   ]
  },
  {
   "cell_type": "code",
   "execution_count": null,
   "metadata": {},
   "outputs": [],
   "source": [
    "#Stochastic gradient descent optimizer.\n",
    "#Includes support for momentum, learning rate decay, and Nesterov momentum.\n",
    "from keras.optimizers import SGD\n",
    "sgd = SGD(lr=0.001, #Learningrate = 0.01, \n",
    "          decay=1e-6, #decay (Factor to decrease the learningrate over time),\n",
    "          momentum=0.9, #momentum (former gradient descents are considered to increase the speed of convergence)= 0.9\n",
    "          nesterov=True) #Nesterov momentum is used (method to reduce the probability to not find minima because of high momentum)"
   ]
  },
  {
   "cell_type": "code",
   "execution_count": null,
   "metadata": {},
   "outputs": [],
   "source": [
    "from keras.optimizers import Adam\n",
    "adam = Adam(lr=0.001, beta_1=0.9, beta_2=0.999, epsilon=1e-08, decay=1e-7)#Nesterov momentum is used (method to reduce the probability to not find minima because of high momentum)"
   ]
  },
  {
   "cell_type": "code",
   "execution_count": null,
   "metadata": {},
   "outputs": [],
   "source": [
    "model.compile(loss='categorical_crossentropy', #As lossfunction y_true and y_pred are compared in every category\n",
    "              optimizer=adam, #Stochastic gradient descent optimizers are used\n",
    "              metrics=['accuracy']) #List of metrics to be evaluated by the model during training and testing --> Here: accuracy."
   ]
  },
  {
   "cell_type": "code",
   "execution_count": null,
   "metadata": {},
   "outputs": [],
   "source": [
    "#Save model\n",
    "model_name='convnetLoc_un'\n",
    "model_file_name=os.path.join('/data/Nets/untrained/', date.today().__str__() + '_' + model_name)\n",
    "model.save(model_file_name+'.h5')\n",
    "plot_model(model, to_file=model_file_name+'.png', show_shapes=True)"
   ]
  },
  {
   "cell_type": "code",
   "execution_count": null,
   "metadata": {},
   "outputs": [],
   "source": []
  }
 ],
 "metadata": {
  "kernelspec": {
   "display_name": "Python 3",
   "language": "python",
   "name": "python3"
  },
  "language_info": {
   "codemirror_mode": {
    "name": "ipython",
    "version": 3
   },
   "file_extension": ".py",
   "mimetype": "text/x-python",
   "name": "python",
   "nbconvert_exporter": "python",
   "pygments_lexer": "ipython3",
   "version": "3.5.2"
  }
 },
 "nbformat": 4,
 "nbformat_minor": 2
}
