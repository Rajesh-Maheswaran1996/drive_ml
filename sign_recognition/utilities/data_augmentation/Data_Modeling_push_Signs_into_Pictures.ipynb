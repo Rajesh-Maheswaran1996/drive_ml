{
 "cells": [
  {
   "cell_type": "markdown",
   "metadata": {},
   "source": [
    "Put signs in the camera views"
   ]
  },
  {
   "cell_type": "code",
   "execution_count": null,
   "metadata": {
    "collapsed": true
   },
   "outputs": [],
   "source": [
    "from gtsrb_loader.get_folderpath import get_folderpath\n",
    "from gtsrb_loader.load_data import load_data\n",
    "\n",
    "from skimage import data\n",
    "from skimage.transform import resize\n",
    "import numpy as np\n",
    "import pandas as pd\n",
    "import os\n",
    "import fnmatch\n",
    "import random\n",
    "from PIL import Image\n",
    "# from cs231n\n",
    "import matplotlib.pyplot as plt\n",
    "import matplotlib.patches as patches\n",
    "\n",
    "from __future__ import print_function\n",
    "\n",
    "# This is a bit of magic to make matplotlib figures appear inline in the notebook\n",
    "# rather than in a new window.\n",
    "%matplotlib inline\n",
    "plt.rcParams['figure.figsize'] = (10.0, 8.0) # set default size of plots\n",
    "plt.rcParams['image.interpolation'] = 'nearest'\n",
    "plt.rcParams['image.cmap'] = 'gray'\n",
    "\n",
    "# Some more magic so that the notebook will reload external python modules;\n",
    "# see http://stackoverflow.com/questions/1907993/autoreload-of-modules-in-ipython\n",
    "%load_ext autoreload\n",
    "%autoreload 2"
   ]
  },
  {
   "cell_type": "code",
   "execution_count": null,
   "metadata": {
    "collapsed": true
   },
   "outputs": [],
   "source": [
    "#Settings\n",
    "#Cloudbuchstabe\n",
    "cloud='Y:\\\\Zero_Class_color\\\\00043'\n",
    "cloud_dest='Y:\\\\Images'"
   ]
  },
  {
   "cell_type": "code",
   "execution_count": null,
   "metadata": {
    "collapsed": true
   },
   "outputs": [],
   "source": [
    "# sourepictures\n",
    "dir_list =[]\n",
    "csv_filelist = []\n",
    "path = get_folderpath(subset='train', original_images=False)\n",
    "ppm_filelist = []\n",
    "\n",
    "for root, dirs, files in os.walk(path):\n",
    "    dir_list += [os.path.join(root, directory)for directory in dirs if directory not in dir_list ]\n",
    "    csv_filelist += [os.path.join(root, file) for file in files if fnmatch.fnmatch(file, '*.csv')]\n",
    "    ppm_filelist += [os.path.join(root, file) for file in files if fnmatch.fnmatch(file, '*.ppm')]\n"
   ]
  },
  {
   "cell_type": "code",
   "execution_count": null,
   "metadata": {
    "collapsed": true
   },
   "outputs": [],
   "source": [
    "dirs_dest=[]\n",
    "for dirs in dir_list:\n",
    "    dirs_dest += [dirs.split('Images\\\\')[1]]\n",
    "dirs_dest"
   ]
  },
  {
   "cell_type": "code",
   "execution_count": null,
   "metadata": {
    "collapsed": true
   },
   "outputs": [],
   "source": [
    "# destination, die Fahrsteckenbilder ohne Schilder\n",
    "dest_list=[]\n",
    "#pathdest = #phoenix 0Klasse\n",
    "for root, dirs, files in os.walk(cloud):\n",
    "    dest_list += [os.path.join(root, file) for file in files if fnmatch.fnmatch(file, '*.ppm')]"
   ]
  },
  {
   "cell_type": "code",
   "execution_count": null,
   "metadata": {
    "collapsed": true
   },
   "outputs": [],
   "source": [
    "pic_array_list=[]\n",
    "for dirs_master in dir_list:\n",
    "    #pic_array_list.append([pic for pic in ppm_filelist if fnmatch.fnmatch(pic, dirs)])\n",
    "    #for pic in ppm_filelist:\n",
    "     #   if fnmatch.fnmatch(pic, dirs):\n",
    "      #      print('true')\n",
    "    ppm_filelist2 = []\n",
    "    for root, dirs, files in os.walk(dirs_master):\n",
    "        ppm_filelist2 += [os.path.join(root, file) for file in files if fnmatch.fnmatch(file, '*.ppm')]\n",
    "    pic_array_list.append(ppm_filelist2)"
   ]
  },
  {
   "cell_type": "code",
   "execution_count": null,
   "metadata": {
    "collapsed": true
   },
   "outputs": [],
   "source": [
    "#destination picutres\n",
    "os.path.split(ppm_filelist[1])[1]"
   ]
  },
  {
   "cell_type": "code",
   "execution_count": null,
   "metadata": {
    "collapsed": true
   },
   "outputs": [],
   "source": [
    "def transform_csv(df: pd.DataFrame) -> pd.DataFrame:\n",
    "    columns=['Width', 'Height', 'Roi.X1', 'Roi.Y1', 'Roi.X2', 'Roi.Y2', 'ClassId']\n",
    "    matrix = df.as_matrix(columns=columns)\n",
    "    matrix.shape\n",
    "    matrix2 = np.zeros(matrix.shape)\n",
    "    for i, row in enumerate(matrix):\n",
    "        matrix2[i] =[row[0],row[1],row[0]-row[2],row[3],row[0]-row[4],row[5], row[6]]\n",
    "    matrix2 = matrix2.astype(int)\n",
    "    df2 = pd.DataFrame(matrix2, columns=columns)\n",
    "    df2['Filename'] = df['Filename']\n",
    "    df2 = df2[['Filename'] + columns]\n",
    "    return df2"
   ]
  },
  {
   "cell_type": "code",
   "execution_count": null,
   "metadata": {
    "collapsed": true
   },
   "outputs": [],
   "source": [
    "pixels = 16\n",
    "n_dest=3600\n",
    "new_path = path.split('\\GTSRB_64x64')[1]\n",
    "new_path=cloud_dest+'\\GTSRB_64x64_PiP'+new_path\n",
    "random.seed()\n",
    "columns=['Width', 'Height', 'Roi.X1', 'Roi.Y1', 'Roi.X2', 'Roi.Y2', 'ClassId']\n",
    "idx_dest=0\n",
    "    #for idx, dirpath in enumerate(dir_list):\n",
    "     #   filepath=csv_filelist[idx]\n",
    "      #  if not fnmatch.fnmatch(filepath, '*GT-final_test.test.csv'): # because this csv has no classes\n",
    "       #     df = pd.read_csv(filepath, sep=';')\n",
    "        #files ist das Array aller Bilder im Ordnert index\n",
    "        #Für alle Ordner\n",
    "for idx, pic_array in enumerate(pic_array_list):\n",
    "    #für alles Bilder im Ordner\n",
    "    if idx !=32:\n",
    "        continue\n",
    "    filepath=csv_filelist[idx]\n",
    "    if not fnmatch.fnmatch(filepath, '*GT-final_test.test.csv'): # because this csv has no classes\n",
    "        df = pd.read_csv(filepath, sep=';')   \n",
    "    matrix = df.as_matrix(columns=columns)\n",
    "    for idx_obj,pics in enumerate(pic_array):\n",
    "        dest=np.asarray(plt.imread(dest_list[idx_dest]))\n",
    "        pic = plt.imread(pics)\n",
    "        resized = resize(pic, (pixels, pixels), mode='edge')\n",
    "        X1=int(df.iloc[idx_obj]['Roi.X1']/4) #Abrunden\n",
    "        X2=int(df.iloc[idx_obj]['Roi.X2']/4) + (df.iloc[idx_obj]['Roi.X2'] % 4 > 0) #Aufrunden\n",
    "        Y1=int(df.iloc[idx_obj]['Roi.Y1']/4) #Abrunden\n",
    "        Y2=int(df.iloc[idx_obj]['Roi.Y2']/4) + (df.iloc[idx_obj]['Roi.Y2'] % 4 > 0) #Aufrunden\n",
    "        distX=X2-X1\n",
    "        distY=Y2-Y1\n",
    "        np.asarray\n",
    "        im = np.uint8(resized * 255)\n",
    "        inputpointX = random.randint(24,48) #Zielort im Zielbild\n",
    "        inputpointY = random.randint(24,48) #Zielort im Zielbild\n",
    "        matrix[idx_obj] =[64,64,inputpointX,inputpointY,inputpointX+distX,inputpointY+distY, df.iloc[idx_obj]['ClassId']]\n",
    "        cropped = im[X1:X2, Y1:Y2]\n",
    "        dest[inputpointX:inputpointX+distX,inputpointY:inputpointY+distY]=cropped\n",
    "        im_new=Image.fromarray(dest)\n",
    "        idx_dest=(idx_dest+1)%n_dest\n",
    "        if not os.path.exists(new_path+'\\\\'+dirs_dest[idx]):\n",
    "            os.makedirs(new_path+'\\\\'+dirs_dest[idx]) \n",
    "        im_new.save(new_path+'\\\\'+dirs_dest[idx]+'\\\\'+os.path.split(pics)[1])\n",
    "    df2 = pd.DataFrame(matrix, columns=columns)\n",
    "    df2['Filename'] = df['Filename']\n",
    "    df2 = df2[['Filename'] + columns]\n",
    "    n='GT-'+dirs_dest[idx]+'.csv'\n",
    "    df2.to_csv(new_path+'\\\\'+dirs_dest[idx]+'\\\\'+n, sep=';', index=False)\n"
   ]
  },
  {
   "cell_type": "code",
   "execution_count": null,
   "metadata": {
    "collapsed": true
   },
   "outputs": [],
   "source": [
    "path = get_folderpath(subset='test', original_images=False)\n",
    "\n",
    "    "
   ]
  },
  {
   "cell_type": "code",
   "execution_count": null,
   "metadata": {
    "collapsed": true
   },
   "outputs": [],
   "source": [
    "#dir_list\n",
    "\n",
    "        #if not fnmatch.fnmatch(csv_filelist[1], '*GT-final_test.test.csv'): # because this csv has no classes\n",
    "pd.read_csv(csv_filelist[1], sep=';')"
   ]
  },
  {
   "cell_type": "code",
   "execution_count": null,
   "metadata": {
    "collapsed": true
   },
   "outputs": [],
   "source": [
    "path = get_folderpath(subset='train', original_images=False)\n",
    "ppm_filelist = []\n",
    "csv_filelist = []\n",
    "for root, dirs, files in os.walk(path):\n",
    "    ppm_filelist += [os.path.join(root, file) for file in files if fnmatch.fnmatch(file, '*.ppm')]\n",
    "    csv_filelist += [os.path.join(root, file) for file in files if fnmatch.fnmatch(file, '*.csv')]"
   ]
  },
  {
   "cell_type": "code",
   "execution_count": null,
   "metadata": {
    "collapsed": true
   },
   "outputs": [],
   "source": [
    "pic_array_list[0]"
   ]
  },
  {
   "cell_type": "code",
   "execution_count": null,
   "metadata": {
    "collapsed": true
   },
   "outputs": [],
   "source": [
    "for idx, dirpath in enumerate(dir_list):\n",
    "    for idx2, root in enumerate(os.walk(dirpath)):\n",
    "        print(root)\n",
    "        print('\\n')"
   ]
  },
  {
   "cell_type": "code",
   "execution_count": null,
   "metadata": {
    "collapsed": true
   },
   "outputs": [],
   "source": [
    "    for filepath in csv_filelist:\n",
    "        if not fnmatch.fnmatch(filepath, '*GT-final_test.test.csv'): # because this csv has no classes\n",
    "            df = pd.read_csv(filepath, sep=';')\n",
    "            #df2 = _transform_csv(df)"
   ]
  },
  {
   "cell_type": "code",
   "execution_count": null,
   "metadata": {
    "collapsed": true
   },
   "outputs": [],
   "source": [
    "#pd.read_csv(csv_filelist[1], sep=';')\n",
    "#root.size\n",
    "#for lists in pic_array_list:\n",
    "#  print(type(lists))\n",
    "df\n",
    "\n",
    "df.iloc[0]['Roi.X1']\n",
    "df.iloc[0]['Roi.X2']\n",
    "df.iloc[0]['Roi.Y1']\n",
    "df.iloc[0]['Roi.Y2']"
   ]
  },
  {
   "cell_type": "code",
   "execution_count": null,
   "metadata": {
    "collapsed": true
   },
   "outputs": [],
   "source": []
  }
 ],
 "metadata": {
  "kernelspec": {
   "display_name": "Python 3",
   "language": "python",
   "name": "python3"
  },
  "language_info": {
   "codemirror_mode": {
    "name": "ipython",
    "version": 3
   },
   "file_extension": ".py",
   "mimetype": "text/x-python",
   "name": "python",
   "nbconvert_exporter": "python",
   "pygments_lexer": "ipython3",
   "version": "3.5.2"
  }
 },
 "nbformat": 4,
 "nbformat_minor": 2
}
