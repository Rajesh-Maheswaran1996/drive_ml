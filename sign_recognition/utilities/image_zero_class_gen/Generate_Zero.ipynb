{
 "cells": [
  {
   "cell_type": "code",
   "execution_count": null,
   "metadata": {
    "collapsed": true
   },
   "outputs": [],
   "source": [
    "from skimage import data\n",
    "from skimage.transform import resize\n",
    "from PIL import Image\n",
    "\n",
    "import numpy as np\n",
    "import pandas as pd\n",
    "\n",
    "import sys\n",
    "import os\n",
    "import fnmatch\n",
    "from shutil import copyfile\n",
    "from random import randint"
   ]
  },
  {
   "cell_type": "code",
   "execution_count": null,
   "metadata": {},
   "outputs": [],
   "source": [
    "ppm_filelist = []\n",
    "absolute_path=\"Z:\\\\Autonomous Drive - Testdaten\"\n",
    "print(absolute_path)\n",
    "for root, dirs, files in os.walk(absolute_path):\n",
    "    ppm_filelist += [os.path.join(root, file) for file in files if fnmatch.fnmatch(file, '*.ppm')]"
   ]
  },
  {
   "cell_type": "code",
   "execution_count": null,
   "metadata": {},
   "outputs": [],
   "source": [
    "size=len(ppm_filelist)\n",
    "testSize=250\n",
    "trainingSize=2500\n",
    "print(size)"
   ]
  },
  {
   "cell_type": "code",
   "execution_count": null,
   "metadata": {},
   "outputs": [],
   "source": [
    "#Trainingsdaten\n",
    "zeroclass_path=\"Y:\\\\Zero_Class\\\\00043\\\\\"\n",
    "i=0\n",
    "for i in range(2500):\n",
    "    index=randint(0, size-1)\n",
    "    z= \"%s%d.ppm\"%(zeroclass_path,i)\n",
    "    copyfile(ppm_filelist[index], z)\n",
    "    i=i+1"
   ]
  },
  {
   "cell_type": "code",
   "execution_count": null,
   "metadata": {},
   "outputs": [],
   "source": [
    "#Testdaten\n",
    "zeroclass_path=\"Y:\\\\Zero_Class_Test\\\\00043\\\\\"\n",
    "i=0\n",
    "for i in range(250):\n",
    "    index=randint(0, size-1)\n",
    "    z= \"%s%d.ppm\"%(zeroclass_path,i)\n",
    "    copyfile(ppm_filelist[index], z)\n",
    "    i=i+1"
   ]
  }
 ],
 "metadata": {
  "kernelspec": {
   "display_name": "Python 3",
   "language": "python",
   "name": "python3"
  },
  "language_info": {
   "codemirror_mode": {
    "name": "ipython",
    "version": 3
   },
   "file_extension": ".py",
   "mimetype": "text/x-python",
   "name": "python",
   "nbconvert_exporter": "python",
   "pygments_lexer": "ipython3",
   "version": "3.5.2"
  }
 },
 "nbformat": 4,
 "nbformat_minor": 2
}
