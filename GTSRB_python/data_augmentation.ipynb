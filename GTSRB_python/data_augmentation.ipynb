{
 "cells": [
  {
   "cell_type": "markdown",
   "metadata": {},
   "source": [
    "From explore.ipynb we can find the images that we can augment by rotating, flipping or mirroring.\n",
    "## TODO"
   ]
  },
  {
   "cell_type": "markdown",
   "metadata": {},
   "source": [
    "Ideas:\n",
    "\n",
    "- Balance data by augmentation (Create more new pictures for underrepresented signs)\n",
    "- Assign different signs to different augmentation methods --> What is possible for which method?\n",
    "\n",
    "Signs:\n",
    "\n",
    "- 1) Speed Limit Zone beginning (30) --> Ordner: 00001\n",
    "- 2) Speed Limit Zone end (30) --> Ordner: KEINE DATEN bis jetzt\n",
    "- 3) Crosswalk --> Ordner: KEINE DATEN bis jetzt\n",
    "- 4) Barred area --> Ordner: KEINE DATEN bis jetzt\n",
    "- 5) Expressway beginning --> Ordner: KEINE DATEN bis jetzt\n",
    "- 6) Expressway end --> Ordner: KEINE DATEN bis jetzt\n",
    "- 7) Intersections STOP --> Ordner: 00014\n",
    "- 8) Intersections \"Vorfahrt gewähren\" --> Ordner: 00013\n",
    "- 9) Intersections \"Vorfahrtsstraße\"  --> Ordner: 00012\n",
    "- 10) Turn Left  --> Ordner: 00034\n",
    "- 11) Turn Right --> Do we need the counterparts here?  --> Ordner: 00033\n",
    "- 12) No-passing zone beginning --> Ordner: 00009\n",
    "- 13) No-passing zone end  --> Ordner: 00041\n",
    "- 14) Sharp turn left small --> Ordner: KEINE DATEN bis jetzt\n",
    "- 15) Sharp turn left large --> Ordner: KEINE DATEN bis jetzt\n",
    "- 16) Sharp turn right small --> Do we need the counterparts here? --> Ordner: KEINE DATEN bis jetzt\n",
    "- 17) Sharp turn right large --> Do we need the counterparts here? --> Ordner: KEINE DATEN bis jetzt\n",
    "- 18) Steep hill uphill grade --> Ordner: KEINE DATEN bis jetzt\n",
    "- 19) Steep hill downhill grade --> Ordner: KEINE DATEN bis jetzt\n",
    "\n",
    "Methods to augment data + for which signs applicable:\n",
    "\n",
    "-Flipping (horizontal/vertical)\n",
    "    \n",
    "    --> check possible invariances (e.g turn left signs) \n",
    "        and signs which can then be detected as other signs\n",
    "        \n",
    "    Horizontal:\n",
    "    9)\n",
    "    \n",
    "    Vertical:\n",
    "    5), 8), 9), 10) gets 11), 11) gets 10), 16) gets 17), 17) gets 16)\n",
    "    \n",
    "    Horizontal + Vertical:\n",
    "    9)\n",
    "\n",
    "-Rotating\n",
    "\n",
    "\n",
    "\n",
    "\n",
    "## TODO"
   ]
  },
  {
   "cell_type": "code",
   "execution_count": 31,
   "metadata": {
    "collapsed": true
   },
   "outputs": [],
   "source": [
    "fippable_horizontally = [1, 5]"
   ]
  },
  {
   "cell_type": "code",
   "execution_count": 32,
   "metadata": {},
   "outputs": [
    {
     "name": "stdout",
     "output_type": "stream",
     "text": [
      "Speed Limit Zone beginning (30) --> ../Machine_Learning_TUM_Phoenix/GTSRB_32x32/Final_Training/Images/00001\n",
      "Speed Limit Zone end (30) --> -\n",
      "Crosswalk --> -\n",
      "Barred area --> -\n",
      "Expressway beginning --> -\n",
      "Expressway end --> -\n",
      "Intersections STOP --> ../Machine_Learning_TUM_Phoenix/GTSRB_32x32/Final_Training/Images/00014\n",
      "Intersections \"Vorfahrt gewähren\" --> ../Machine_Learning_TUM_Phoenix/GTSRB_32x32/Final_Training/Images/00013\n",
      "Intersections \"Vorfahrtsstraße\" --> ../Machine_Learning_TUM_Phoenix/GTSRB_32x32/Final_Training/Images/00012\n",
      "Turn Left --> ../Machine_Learning_TUM_Phoenix/GTSRB_32x32/Final_Training/Images/00034\n",
      "Turn Right --> ../Machine_Learning_TUM_Phoenix/GTSRB_32x32/Final_Training/Images/00033\n",
      "No-passing zone beginning --> ../Machine_Learning_TUM_Phoenix/GTSRB_32x32/Final_Training/Images/00009\n",
      "No-passing zone end --> ../Machine_Learning_TUM_Phoenix/GTSRB_32x32/Final_Training/Images/00041\n",
      "Sharp turn left small --> -\n",
      "Sharp turn left large --> -\n",
      "Sharp turn right small --> -\n",
      "Sharp turn right large --> -\n",
      "Steep hill uphill grade --> -\n",
      "Steep hill downhill grade --> -\n"
     ]
    }
   ],
   "source": [
    "#Dict list for signs ('name': 'folderdirectory')\n",
    "dict1 = {'Speed Limit Zone beginning (30)': '../Machine_Learning_TUM_Phoenix/GTSRB_32x32/Final_Training/Images/00001', 'Speed Limit Zone end (30)': '-', 'Crosswalk': '-', 'Barred area': '-', 'Expressway beginning': '-', 'Expressway end': '-', 'Intersections STOP': '../Machine_Learning_TUM_Phoenix/GTSRB_32x32/Final_Training/Images/00014', 'Intersections \"Vorfahrt gewähren\"': '../Machine_Learning_TUM_Phoenix/GTSRB_32x32/Final_Training/Images/00013', 'Intersections \"Vorfahrtsstraße\"': '../Machine_Learning_TUM_Phoenix/GTSRB_32x32/Final_Training/Images/00012', 'Turn Left': '../Machine_Learning_TUM_Phoenix/GTSRB_32x32/Final_Training/Images/00034', 'Turn Right': '../Machine_Learning_TUM_Phoenix/GTSRB_32x32/Final_Training/Images/00033', 'No-passing zone beginning': '../Machine_Learning_TUM_Phoenix/GTSRB_32x32/Final_Training/Images/00009', 'No-passing zone end': '../Machine_Learning_TUM_Phoenix/GTSRB_32x32/Final_Training/Images/00041', 'Sharp turn left small': '-', 'Sharp turn left large': '-', 'Sharp turn right small': '-', 'Sharp turn right large': '-', 'Steep hill uphill grade': '-', 'Steep hill downhill grade': '-'}\n",
    "\n",
    "#Print all sign types + link to the folders\n",
    "for el in dict1:\n",
    "    print (el, \"-->\", dict1[el], )"
   ]
  }
 ],
 "metadata": {
  "anaconda-cloud": {},
  "kernelspec": {
   "display_name": "Python 3",
   "language": "python",
   "name": "python3"
  },
  "language_info": {
   "codemirror_mode": {
    "name": "ipython",
    "version": 3
   },
   "file_extension": ".py",
   "mimetype": "text/x-python",
   "name": "python",
   "nbconvert_exporter": "python",
   "pygments_lexer": "ipython3",
   "version": "3.6.1"
  }
 },
 "nbformat": 4,
 "nbformat_minor": 1
}
