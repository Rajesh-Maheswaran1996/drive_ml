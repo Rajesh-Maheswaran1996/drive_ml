{
 "cells": [
  {
   "cell_type": "markdown",
   "metadata": {},
   "source": [
    "From explore.ipynb we can find the images that we can augment by rotating, flipping or mirroring.\n",
    "## TODO"
   ]
  },
  {
   "cell_type": "markdown",
   "metadata": {},
   "source": [
    "Ideas:\n",
    "\n",
    "- Balance data by augmentation (Create more new pictures for underrepresented signs)\n",
    "- Assign different signs to different augmentation methods --> What is possible for which method?\n",
    "\n",
    "Signs:\n",
    "\n",
    "- 1) Speed Limit Zone beginning\n",
    "- 2) Speed Limit Zone end\n",
    "- 3) Crosswalk\n",
    "- 4) Barred area\n",
    "- 5) Expressway beginning\n",
    "- 6) Expressway end\n",
    "- 7) Intersections STOP\n",
    "- 8) Intersections \"Vorfahrt gewähren\"\n",
    "- 9) Intersections \"Vorfahrtsstraße\"\n",
    "- 10) Turn Left \n",
    "- 11) Turn Right --> Do we need the counterparts here?\n",
    "- 12) No-passing zone beginning\n",
    "- 13) No-passing zone end\n",
    "- 14) Sharp turn left small\n",
    "- 15) Sharp turn left large\n",
    "- 16) Sharp turn right small --> Do we need the counterparts here?\n",
    "- 17) Sharp turn right large --> Do we need the counterparts here?\n",
    "- 18) Steep hill uphill grade\n",
    "- 19) Steep hill downhill grade\n",
    "\n",
    "Methods to augment data + for which signs applicable:\n",
    "\n",
    "-Flipping (horizontal/vertical)\n",
    "    --> check possible invariances (e.g turn left signs) \n",
    "        and signs which can then be detected as other signs\n",
    "\n",
    "-Rotating\n",
    "\n",
    "## TODO"
   ]
  },
  {
   "cell_type": "code",
   "execution_count": 1,
   "metadata": {
    "collapsed": true
   },
   "outputs": [],
   "source": [
    "fippable_horizontally = [1, 5]"
   ]
  }
 ],
 "metadata": {
  "anaconda-cloud": {},
  "kernelspec": {
   "display_name": "Python 3",
   "language": "python",
   "name": "python3"
  },
  "language_info": {
   "codemirror_mode": {
    "name": "ipython",
    "version": 3
   },
   "file_extension": ".py",
   "mimetype": "text/x-python",
   "name": "python",
   "nbconvert_exporter": "python",
   "pygments_lexer": "ipython3",
   "version": "3.6.1"
  }
 },
 "nbformat": 4,
 "nbformat_minor": 1
}
