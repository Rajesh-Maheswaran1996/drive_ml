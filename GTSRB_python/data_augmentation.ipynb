{
 "cells": [
  {
   "cell_type": "markdown",
   "metadata": {},
   "source": [
    "From explore.ipynb we can find the images that we can augment by rotating, flipping or mirroring.\n",
    "## TODO"
   ]
  },
  {
   "cell_type": "markdown",
   "metadata": {},
   "source": [
    "Ideas:\n",
    "\n",
    "- Balance data by augmentation (Create more new pictures for underrepresented signs)\n",
    "- Assign different signs to different augmentation methods --> What is possible for which method?\n",
    "\n",
    "Signs:\n",
    "Fill in all possible signs\n",
    "\n",
    "Methods to augment data + for which signs applicable:\n",
    "\n",
    "-Flipping (horizontal/vertical)\n",
    "    --> check possible invariances (e.g turn left signs) \n",
    "        and signs which can then be detected as other signs\n",
    "\n",
    "-Rotating\n",
    "\n",
    "## TODO"
   ]
  },
  {
   "cell_type": "code",
   "execution_count": 1,
   "metadata": {},
   "outputs": [],
   "source": [
    "fippable_horizontally = [1, 5]"
   ]
  }
 ],
 "metadata": {
  "anaconda-cloud": {},
  "kernelspec": {
   "display_name": "Python 3",
   "language": "python",
   "name": "python3"
  },
  "language_info": {
   "codemirror_mode": {
    "name": "ipython",
    "version": 3
   },
   "file_extension": ".py",
   "mimetype": "text/x-python",
   "name": "python",
   "nbconvert_exporter": "python",
   "pygments_lexer": "ipython3",
   "version": "3.6.1"
  }
 },
 "nbformat": 4,
 "nbformat_minor": 1
}
