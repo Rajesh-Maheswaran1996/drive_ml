{
 "cells": [
  {
   "cell_type": "markdown",
   "metadata": {},
   "source": [
    "From explore.ipynb we can find the images that we can augment by rotating, flipping or mirroring.\n",
    "## TODO"
   ]
  },
  {
   "cell_type": "markdown",
   "metadata": {},
   "source": [
    "Ideas:\n",
    "\n",
    "- Balance data by augmentation (Create more new pictures for underrepresented signs)\n",
    "- Assign different signs to different augmentation methods --> What is possible for which method?\n",
    "\n",
    "Signs:\n",
    "\n",
    "- 1) Speed Limit Zone beginning (30) --> Ordner: 00001\n",
    "- 2) Speed Limit Zone end (30) --> Ordner: KEINE DATEN bis jetzt\n",
    "- 3) Crosswalk --> Ordner: KEINE DATEN bis jetzt\n",
    "- 4) Barred area --> Ordner: KEINE DATEN bis jetzt\n",
    "- 5) Expressway beginning --> Ordner: KEINE DATEN bis jetzt\n",
    "- 6) Expressway end --> Ordner: KEINE DATEN bis jetzt\n",
    "- 7) Intersections STOP --> Ordner: 00014\n",
    "- 8) Intersections \"Vorfahrt gewähren\" --> Ordner: 00013\n",
    "- 9) Intersections \"Vorfahrtsstraße\"  --> Ordner: 00012\n",
    "- 10) Turn Left  --> Ordner: 00034\n",
    "- 11) Turn Right --> Do we need the counterparts here?  --> Ordner: 00033\n",
    "- 12) No-passing zone beginning --> Ordner: 00009\n",
    "- 13) No-passing zone end  --> Ordner: 00041\n",
    "- 14) Sharp turn left small --> Ordner: KEINE DATEN bis jetzt\n",
    "- 15) Sharp turn left large --> Ordner: KEINE DATEN bis jetzt\n",
    "- 16) Sharp turn right small --> Do we need the counterparts here? --> Ordner: KEINE DATEN bis jetzt\n",
    "- 17) Sharp turn right large --> Do we need the counterparts here? --> Ordner: KEINE DATEN bis jetzt\n",
    "- 18) Steep hill uphill grade --> Ordner: KEINE DATEN bis jetzt\n",
    "- 19) Steep hill downhill grade --> Ordner: KEINE DATEN bis jetzt\n",
    "\n",
    "Methods to augment data + for which signs applicable:\n",
    "\n",
    "-Flipping (horizontal/vertical)\n",
    "    \n",
    "    --> check possible invariances (e.g turn left signs) \n",
    "        and signs which can then be detected as other signs\n",
    "        \n",
    "    Horizontal:\n",
    "    9)\n",
    "    \n",
    "    Vertical:\n",
    "    5), 8), 9), 10) gets 11), 11) gets 10), 16) gets 17), 17) gets 16)\n",
    "    \n",
    "    Horizontal + Vertical:\n",
    "    9)\n",
    "\n",
    "-Rotating\n",
    "\n",
    "\n",
    "\n",
    "\n",
    "## TODO"
   ]
  },
  {
   "cell_type": "code",
   "execution_count": null,
   "metadata": {
    "collapsed": true
   },
   "outputs": [],
   "source": [
    "fippable_horizontally = [1, 5]"
   ]
  },
  {
   "cell_type": "code",
   "execution_count": null,
   "metadata": {},
   "outputs": [],
   "source": [
    "#Dict list for signs ('name': 'folderdirectory')\n",
    "dict1 = {'Speed Limit Zone beginning (30)': '/00001', 'Speed Limit Zone end (30)': '-', 'Crosswalk': '-', 'Barred area': '-', 'Expressway beginning': '-', 'Expressway end': '-', 'Intersections STOP': '/00014', 'Intersections \"Vorfahrt gewähren\"': '/00013', 'Intersections \"Vorfahrtsstraße\"': '/00012', 'Turn Left': '/00034', 'Turn Right': '/00033', 'No-passing zone beginning': '/00009', 'No-passing zone end': '/00041', 'Sharp turn left small': '-', 'Sharp turn left large': '-', 'Sharp turn right small': '-', 'Sharp turn right large': '-', 'Steep hill uphill grade': '-', 'Steep hill downhill grade': '-'}\n",
    "\n",
    "#Print all sign types + link to the folders\n",
    "for el in dict1:\n",
    "    print (el, \"-->\", dict1[el], )"
   ]
  },
  {
   "cell_type": "code",
   "execution_count": null,
   "metadata": {},
   "outputs": [],
   "source": [
    "#Count images per cell\n",
    "from gtsrb_loader.get_folderpath import get_folderpath\n",
    "import os, os.path\n",
    "import matplotlib.pyplot as plt\n",
    "import matplotlib.ticker as ticker\n",
    "\n",
    "path=get_folderpath('train');\n",
    "\n",
    "number_list = [0] #element 0 is 0\n",
    "sign_list = ['a']\n",
    "\n",
    "i = 0\n",
    "for k in iter(dict1.keys()):\n",
    "    if dict1[k] == '-':\n",
    "        number_files = 0\n",
    "    else:\n",
    "        changed_path=path+dict1[k]\n",
    "        list = os.listdir(changed_path) # dir is your directory path\n",
    "        number_files = len(list)\n",
    "    number_list.append(number_files)\n",
    "    sign_list.append(k)\n",
    "\n",
    "#Histogram\n",
    "plt.bar(range(len(number_list)), number_list)\n",
    "plt.xticks(range(1, len(number_list)))\n",
    "plt.title(\"Number of Files per folder\")\n",
    "plt.xlabel(\"Signs\")\n",
    "plt.ylabel(\"Number of Files\")\n",
    "plt.show()\n",
    "\n",
    "#Legende\n",
    "for i in range(1, len(number_list)):\n",
    "    print (str(i) + \": \" + sign_list[i] + \" --> \" + str(number_list[i]))"
   ]
  },
  {
   "cell_type": "code",
   "execution_count": null,
   "metadata": {
    "collapsed": true
   },
   "outputs": [],
   "source": []
  }
 ],
 "metadata": {
  "anaconda-cloud": {},
  "kernelspec": {
   "display_name": "Python 3",
   "language": "python",
   "name": "python3"
  },
  "language_info": {
   "codemirror_mode": {
    "name": "ipython",
    "version": 3
   },
   "file_extension": ".py",
   "mimetype": "text/x-python",
   "name": "python",
   "nbconvert_exporter": "python",
   "pygments_lexer": "ipython3",
   "version": "3.6.1"
  }
 },
 "nbformat": 4,
 "nbformat_minor": 1
}
