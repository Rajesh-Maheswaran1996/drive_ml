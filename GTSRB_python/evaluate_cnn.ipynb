{
 "cells": [
  {
   "cell_type": "code",
   "execution_count": null,
   "metadata": {},
   "outputs": [],
   "source": [
    "from gtsrb_loader.get_folderpath import get_folderpath\n",
    "from keras.models import load_model\n",
    "from gtsrb_loader.load_data import load_data\n",
    "from keras.utils import plot_model\n",
    "\n",
    "import numpy as np\n",
    "import os\n",
    "\n",
    "# from cs231n\n",
    "import matplotlib.pyplot as plt\n",
    "import matplotlib.patches as patches\n",
    "\n",
    "from __future__ import print_function\n",
    "\n",
    "# This is a bit of magic to make matplotlib figures appear inline in the notebook\n",
    "# rather than in a new window.\n",
    "%matplotlib inline\n",
    "plt.rcParams['figure.figsize'] = (10.0, 8.0) # set default size of plots\n",
    "plt.rcParams['image.interpolation'] = 'nearest'\n",
    "plt.rcParams['image.cmap'] = 'gray'\n",
    "\n",
    "%load_ext autoreload\n",
    "%autoreload 2"
   ]
  },
  {
   "cell_type": "code",
   "execution_count": null,
   "metadata": {},
   "outputs": [],
   "source": [
    "path = get_folderpath(subset='test', original_images=False)"
   ]
  },
  {
   "cell_type": "code",
   "execution_count": null,
   "metadata": {},
   "outputs": [],
   "source": [
    "path"
   ]
  },
  {
   "cell_type": "code",
   "execution_count": null,
   "metadata": {
    "collapsed": true
   },
   "outputs": [],
   "source": [
    "X_test, y_test = load_data(path)"
   ]
  },
  {
   "cell_type": "code",
   "execution_count": null,
   "metadata": {
    "collapsed": true
   },
   "outputs": [],
   "source": [
    "# normalize X_test\n",
    "X_test = np.array(X_test, dtype=np.float32) / 255\n",
    "# one-hot encode the labels\n",
    "unique_classes = len(np.unique(y_test))\n",
    "y_test = np.eye(unique_classes)[np.array(y_test, dtype=int)]"
   ]
  },
  {
   "cell_type": "code",
   "execution_count": null,
   "metadata": {
    "collapsed": true
   },
   "outputs": [],
   "source": [
    "model = load_model('01-07-17_convnet.h5')"
   ]
  },
  {
   "cell_type": "markdown",
   "metadata": {},
   "source": [
    "plot_model(model, to_file=os.path.join('img', 'model.png'), show_shapes=True)"
   ]
  },
  {
   "cell_type": "code",
   "execution_count": null,
   "metadata": {},
   "outputs": [],
   "source": [
    "pics = X_test[:10]\n",
    "for idx, pic in enumerate(pics):\n",
    "    plt.subplot(2, 5, idx+1)\n",
    "    plt.axis('off')\n",
    "    plt.imshow(pic)\n",
    "plt.show()"
   ]
  },
  {
   "cell_type": "code",
   "execution_count": null,
   "metadata": {},
   "outputs": [],
   "source": [
    "predictions = model.predict(pics, verbose=1)\n",
    "scores = [np.argmax(i) for i in predictions]\n",
    "scores\n",
    "# does not work\n",
    "#[new.get(str(score), score) for score in scores]"
   ]
  },
  {
   "cell_type": "code",
   "execution_count": null,
   "metadata": {},
   "outputs": [],
   "source": [
    "image = plt.imread(os.path.join('image_split', '4713small.jpg'), format='jpeg')\n",
    "image2 = plt.imread(os.path.join('image_split', '1057small.jpg'), format='jpeg')\n",
    "image3 = plt.imread('/home/denisov/phoenix/GTSRB_64x64/Final_Test/Images/11477.ppm', format='ppm')\n",
    "image4 = plt.imread('/home/denisov/phoenix/drive_ml/GTSRB_python/image_split/4713_cropped.jpg', format='ppm')\n",
    "image5 = plt.imread('/home/denisov/phoenix/drive_ml/GTSRB_python/image_split/PauaKBJ0RScz9iM1dIny_Chrome_logo.jpg', format='jpg')\n",
    "image6 = plt.imread('/home/denisov/phoenix/drive_ml/GTSRB_python/image_split/Chrisl21-Minecraft-Tnt.jpg', format='jpg')"
   ]
  },
  {
   "cell_type": "code",
   "execution_count": null,
   "metadata": {},
   "outputs": [],
   "source": [
    "plt.subplot(3, 2, 1)\n",
    "plt.imshow(image)\n",
    "plt.subplot(3, 2, 2)\n",
    "plt.imshow(image2)\n",
    "plt.subplot(3, 2, 3)\n",
    "plt.imshow(image3)\n",
    "plt.subplot(3, 2, 4)\n",
    "plt.imshow(image4)\n",
    "plt.subplot(3, 2, 5)\n",
    "plt.imshow(image5)\n",
    "plt.subplot(3, 2, 6)\n",
    "plt.imshow(image6)\n",
    "plt.show()"
   ]
  },
  {
   "cell_type": "code",
   "execution_count": null,
   "metadata": {},
   "outputs": [],
   "source": [
    "a = model.predict(np.array([image, image2]))\n",
    "a\n",
    "b = model.predict(np.array([image4]))\n",
    "chrome = model.predict(np.array([image5]))\n",
    "tnt = model.predict(np.array([image6]))"
   ]
  },
  {
   "cell_type": "code",
   "execution_count": null,
   "metadata": {},
   "outputs": [],
   "source": [
    "# does not work\n",
    "#[new.get(str(np.argmax(i)), np.argmax(i)) for i in a]"
   ]
  },
  {
   "cell_type": "code",
   "execution_count": null,
   "metadata": {},
   "outputs": [],
   "source": [
    "np.argmax(a)\n",
    "np.argmax(b)\n",
    "np.argmax(chrome)\n",
    "np.argmax(tnt)"
   ]
  },
  {
   "cell_type": "code",
   "execution_count": null,
   "metadata": {
    "collapsed": true
   },
   "outputs": [],
   "source": [
    "import json\n",
    "with open('img_information.json', mode='r') as file:\n",
    "    data = json.load(file)\n",
    "with open()"
   ]
  },
  {
   "cell_type": "code",
   "execution_count": null,
   "metadata": {},
   "outputs": [],
   "source": [
    "# does not work\n",
    "#new = {val.replace('/', \"\").replace('0', \"\"):key for key, val in data.items()}"
   ]
  }
 ],
 "metadata": {
  "anaconda-cloud": {},
  "kernelspec": {
   "display_name": "Python 3",
   "language": "python",
   "name": "python3"
  },
  "language_info": {
   "codemirror_mode": {
    "name": "ipython",
    "version": 3
   },
   "file_extension": ".py",
   "mimetype": "text/x-python",
   "name": "python",
   "nbconvert_exporter": "python",
   "pygments_lexer": "ipython3",
   "version": "3.5.2"
  }
 },
 "nbformat": 4,
 "nbformat_minor": 1
}
