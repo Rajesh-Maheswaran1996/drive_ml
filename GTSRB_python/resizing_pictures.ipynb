{
 "cells": [
  {
   "cell_type": "markdown",
   "metadata": {},
   "source": [
    "## Code to convert the GTSRB dataset to 32x32 pixel, and store it besides original dataset."
   ]
  },
  {
   "cell_type": "code",
   "execution_count": null,
   "metadata": {
    "collapsed": false
   },
   "outputs": [],
   "source": [
    "import matplotlib.pyplot as plt\n",
    "from gtrsb_loader.download_gtsrb import download_gtsrb\n",
    "\n",
    "from skimage import data\n",
    "from skimage.transform import resize\n",
    "from PIL import Image\n",
    "\n",
    "import numpy as np\n",
    "import pandas as pd\n",
    "\n",
    "import sys\n",
    "import os\n",
    "import fnmatch"
   ]
  },
  {
   "cell_type": "code",
   "execution_count": null,
   "metadata": {
    "collapsed": false
   },
   "outputs": [],
   "source": [
    "absolute_path = download_gtsrb()"
   ]
  },
  {
   "cell_type": "code",
   "execution_count": null,
   "metadata": {
    "collapsed": false
   },
   "outputs": [],
   "source": [
    "new_path = absolute_path.replace('GTSRB', 'GTSRB_32x32')\n",
    "if os.path.isdir(new_path):\n",
    "    print(\"GTSRB_32x32 dataset is in place, you're fine.\")\n",
    "    print(new_path)"
   ]
  },
  {
   "cell_type": "code",
   "execution_count": null,
   "metadata": {
    "collapsed": false
   },
   "outputs": [],
   "source": [
    "ppm_filelist = []\n",
    "csv_filelist = []\n",
    "\n",
    "for root, dirs, files in os.walk(absolute_path):\n",
    "    ppm_filelist += [os.path.join(root, file) for file in files if fnmatch.fnmatch(file, '*.ppm')]\n",
    "    csv_filelist += [os.path.join(root, file) for file in files if fnmatch.fnmatch(file, '*.csv')]"
   ]
  },
  {
   "cell_type": "code",
   "execution_count": null,
   "metadata": {
    "collapsed": false
   },
   "outputs": [],
   "source": [
    "print(ppm_filelist[0])"
   ]
  },
  {
   "cell_type": "markdown",
   "metadata": {},
   "source": [
    "## process ppm files into new folder"
   ]
  },
  {
   "cell_type": "code",
   "execution_count": null,
   "metadata": {
    "collapsed": false
   },
   "outputs": [],
   "source": [
    "for idx, filepath in enumerate(ppm_filelist):\n",
    "    pic = plt.imread(filepath)\n",
    "    resized = resize(pic, (32, 32), mode='edge')\n",
    "    im = Image.fromarray(np.uint8(resized * 255))\n",
    "    new_path = filepath.replace('GTSRB', 'GTSRB_32x32')\n",
    "    directory = os.path.split(new_path)[0]\n",
    "    if not os.path.exists(directory):\n",
    "        os.makedirs(directory) \n",
    "    im.save(new_path)\n",
    "    if idx % 100 == 0: sys.stdout.write('\\r' + str(idx) + \"/39000\" +\" pictures processed\")"
   ]
  },
  {
   "cell_type": "markdown",
   "metadata": {},
   "source": [
    "## process .csv files into new folder"
   ]
  },
  {
   "cell_type": "code",
   "execution_count": null,
   "metadata": {
    "collapsed": false
   },
   "outputs": [],
   "source": [
    "def transform_csv(df: pd.DataFrame) -> pd.DataFrame:\n",
    "    columns=['Width', 'Height', 'Roi.X1', 'Roi.Y1', 'Roi.X2', 'Roi.Y2', 'ClassId']\n",
    "    matrix = df.as_matrix(columns=columns)\n",
    "    matrix.shape\n",
    "    matrix2 = np.zeros(matrix.shape)\n",
    "    for i, row in enumerate(matrix):\n",
    "        xfac=32/row[0]\n",
    "        yfac=32/row[1]\n",
    "        matrix2[i] =[32,32,round(row[2]*xfac),round(row[3]*yfac),round(row[4]*xfac),round(row[5]*yfac), row[6]]\n",
    "    matrix2 = matrix2.astype(int)\n",
    "    df2 = pd.DataFrame(matrix2, columns=columns)\n",
    "    df2['Filename'] = df['Filename']\n",
    "    df2 = df2[['Filename'] + columns]\n",
    "    return df2"
   ]
  },
  {
   "cell_type": "code",
   "execution_count": null,
   "metadata": {
    "collapsed": false
   },
   "outputs": [],
   "source": [
    "for filepath in csv_filelist:\n",
    "    df = pd.read_csv(filepath, sep=';')\n",
    "    df2 = transform_csv(df)\n",
    "    new_path = filepath.replace('GTSRB', 'GTSRB_32x32')\n",
    "    df2.to_csv(new_path, sep=';', index=False)"
   ]
  }
 ],
 "metadata": {
  "anaconda-cloud": {},
  "kernelspec": {
   "display_name": "Python [conda root]",
   "language": "python",
   "name": "conda-root-py"
  },
  "language_info": {
   "codemirror_mode": {
    "name": "ipython",
    "version": 3
   },
   "file_extension": ".py",
   "mimetype": "text/x-python",
   "name": "python",
   "nbconvert_exporter": "python",
   "pygments_lexer": "ipython3",
   "version": "3.5.2"
  }
 },
 "nbformat": 4,
 "nbformat_minor": 1
}
