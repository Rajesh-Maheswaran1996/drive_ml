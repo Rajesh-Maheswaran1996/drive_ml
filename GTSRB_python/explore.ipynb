{
 "cells": [
  {
   "cell_type": "markdown",
   "metadata": {},
   "source": [
    "### Running on Python 3.X"
   ]
  },
  {
   "cell_type": "code",
   "execution_count": null,
   "metadata": {
    "collapsed": false,
    "scrolled": true
   },
   "outputs": [],
   "source": [
    "from website_load_module.readTrafficSigns import readTrafficSigns\n",
    "import numpy as np\n",
    "import pandas as pd\n",
    "\n",
    "# from cs231n\n",
    "import matplotlib.pyplot as plt\n",
    "import matplotlib.patches as patches\n",
    "\n",
    "from __future__ import print_function\n",
    "\n",
    "# to import GTSRB data\n",
    "import os\n",
    "import math\n",
    "import zipfile\n",
    "import urllib.request\n",
    "import sys\n",
    "\n",
    "# This is a bit of magic to make matplotlib figures appear inline in the notebook\n",
    "# rather than in a new window.\n",
    "%matplotlib inline\n",
    "plt.rcParams['figure.figsize'] = (10.0, 8.0) # set default size of plots\n",
    "plt.rcParams['image.interpolation'] = 'nearest'\n",
    "plt.rcParams['image.cmap'] = 'gray'\n",
    "\n",
    "# Some more magic so that the notebook will reload external python modules;\n",
    "# see http://stackoverflow.com/questions/1907993/autoreload-of-modules-in-ipython\n",
    "%load_ext autoreload\n",
    "%autoreload 2"
   ]
  },
  {
   "cell_type": "markdown",
   "metadata": {},
   "source": [
    "Import GTSRB and place it at the height of your git repo, will download from the website if necessary"
   ]
  },
  {
   "cell_type": "code",
   "execution_count": null,
   "metadata": {
    "collapsed": false
   },
   "outputs": [],
   "source": [
    "# convention: we store our GTSRB folder at the same height as the ML repo\n",
    "absolute_path = os.path.abspath(os.path.join(os.path.realpath('.'), '..', '..', 'GTSRB', 'Final_Training', 'Images'))\n",
    "if not os.path.isdir(absolute_path):\n",
    "    print(\"You do not have the GTSRB dataset in the desired location, downloading if for you\")\n",
    "    folder_path = os.path.join(os.path.realpath('.'),'../../')\n",
    "    filepath = os.path.join(folder_path,'GTSRB_Final_Training_Images.zip')\n",
    "    urlfile = 'http://benchmark.ini.rub.de/Dataset/GTSRB_Final_Training_Images.zip'\n",
    "    req = urllib.request.urlopen(urlfile)\n",
    "    total_size = int(req.getheader('Content-Length').strip())\n",
    "    downloaded = 0\n",
    "    CHUNK = 256 * 10240\n",
    "    with open(filepath, 'wb') as fp:\n",
    "        while True:\n",
    "            chunk = req.read(CHUNK)\n",
    "            downloaded += len(chunk)\n",
    "            sys.stdout.write('\\r'+'Downloaded '+str(math.floor( (downloaded / total_size) * 100 ))+'%')\n",
    "            if not chunk: break\n",
    "            fp.write(chunk)\n",
    "    zip_ref = zipfile.ZipFile(filepath,'r')\n",
    "    zip_ref.extractall(folder_path)\n",
    "    zip_ref.close()\n",
    "    os.remove(filepath)\n",
    "    sys.stdout.write('\\n')\n",
    "    print(\"Extracted GTSRB dataset for you.\")\n",
    "else:\n",
    "    print(\"GTSRB dataset is in place, you're fine\")"
   ]
  },
  {
   "cell_type": "code",
   "execution_count": null,
   "metadata": {
    "collapsed": false
   },
   "outputs": [],
   "source": [
    "X_train, y_train = readTrafficSigns(absolute_path)\n",
    "X_train, y_train = np.array(X_train), np.array(y_train).astype(int)"
   ]
  },
  {
   "cell_type": "code",
   "execution_count": null,
   "metadata": {
    "collapsed": false
   },
   "outputs": [],
   "source": [
    "X_train.shape, y_train.shape"
   ]
  },
  {
   "cell_type": "markdown",
   "metadata": {},
   "source": [
    " Plot a random image of each traffic sign class"
   ]
  },
  {
   "cell_type": "code",
   "execution_count": null,
   "metadata": {
    "collapsed": true
   },
   "outputs": [],
   "source": [
    "num_classes = len(np.unique(y_train))"
   ]
  },
  {
   "cell_type": "code",
   "execution_count": null,
   "metadata": {
    "collapsed": false
   },
   "outputs": [],
   "source": [
    "for i in range(num_classes):\n",
    "    plt.subplot(7, 7, i+1)\n",
    "    plt.axis('off')\n",
    "    pics_of_class = X_train[y_train == i]\n",
    "    pic = pics_of_class[np.random.choice(range(pics_of_class.shape[0]), 1)[0]] # unwraps the returned list\n",
    "    plt.imshow(pic.astype('uint8'))\n",
    "plt.show()"
   ]
  },
  {
   "cell_type": "markdown",
   "metadata": {},
   "source": [
    "Remember that the dataset includes 30 images of each real-life traffic sign from approaching perspectives. \n",
    "Each of the 30 pictures has also a different size in pixels, notice thats why the quality increases as we approach the latest images."
   ]
  },
  {
   "cell_type": "code",
   "execution_count": null,
   "metadata": {
    "collapsed": false
   },
   "outputs": [],
   "source": [
    "df = pd.read_csv(os.path.join(absolute_path, '00000', 'GT-00000.csv'), sep=';')\n",
    "x = df['Roi.X1']\n",
    "y = df['Roi.Y1']\n",
    "height = df['Roi.Y2'] - y\n",
    "width = df['Roi.X2'] - x"
   ]
  },
  {
   "cell_type": "code",
   "execution_count": null,
   "metadata": {
    "collapsed": false
   },
   "outputs": [],
   "source": [
    "for i in range(30):\n",
    "    ax = plt.subplot(5, 6, i+1)\n",
    "    plt.axis('off')\n",
    "    plt.imshow(X_train[i].astype('uint8'))\n",
    "    rect = patches.Rectangle((x[i], y[i]), width[i], height[i] ,linewidth=1,edgecolor='y',facecolor='none')\n",
    "    # Add the patch to the Axes\n",
    "    ax.add_patch(rect)\n",
    "plt.show()"
   ]
  },
  {
   "cell_type": "markdown",
   "metadata": {},
   "source": [
    "We will resize all pictures to an appropiate uniform size to feed them to the CNN. Lets inspect the current size of our images. "
   ]
  },
  {
   "cell_type": "code",
   "execution_count": null,
   "metadata": {
    "collapsed": false
   },
   "outputs": [],
   "source": [
    "import pandas as pd\n",
    "df = pd.read_csv('generated_concat_csv.csv', sep=';')\n",
    "df[:4]"
   ]
  },
  {
   "cell_type": "code",
   "execution_count": null,
   "metadata": {
    "collapsed": false
   },
   "outputs": [],
   "source": [
    "ax_list = df[['Width', 'Height']].hist(bins=100)\n",
    "ax_list[0][0].set_xlim(20, 70) # zoom in\n",
    "ax_list[0][1].set_xlim(20, 70)"
   ]
  },
  {
   "cell_type": "markdown",
   "metadata": {},
   "source": [
    "By resizing to 32x32 we would lie about in the middle of the size spectrum and keep a size like $2^n$. Which seems to be beneficial computationally"
   ]
  },
  {
   "cell_type": "markdown",
   "metadata": {},
   "source": [
    "### Plot a histogram of over the images in each class"
   ]
  },
  {
   "cell_type": "code",
   "execution_count": null,
   "metadata": {
    "collapsed": false
   },
   "outputs": [],
   "source": [
    "plt.hist(y_train, bins='auto')\n",
    "plt.title('Images per class')\n",
    "plt.show()"
   ]
  },
  {
   "cell_type": "markdown",
   "metadata": {},
   "source": [
    "As we see, some traffic sign are heavily overrepresented compared to others."
   ]
  }
 ],
 "metadata": {
  "anaconda-cloud": {},
  "kernelspec": {
   "display_name": "Python [default]",
   "language": "python",
   "name": "python3"
  },
  "language_info": {
   "codemirror_mode": {
    "name": "ipython",
    "version": 3
   },
   "file_extension": ".py",
   "mimetype": "text/x-python",
   "name": "python",
   "nbconvert_exporter": "python",
   "pygments_lexer": "ipython3",
   "version": "3.5.2"
  }
 },
 "nbformat": 4,
 "nbformat_minor": 2
}
