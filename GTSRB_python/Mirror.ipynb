{
 "cells": [
  {
   "cell_type": "code",
   "execution_count": null,
   "metadata": {
    "collapsed": true
   },
   "outputs": [],
   "source": [
    "import matplotlib.pyplot as plt\n",
    "from gtsrb_loader.download_gtsrb import download_gtsrb\n",
    "\n",
    "from skimage import data\n",
    "from skimage.transform import resize\n",
    "from PIL import Image\n",
    "\n",
    "import numpy as np\n",
    "import pandas as pd\n",
    "\n",
    "import sys\n",
    "import os\n",
    "import fnmatch"
   ]
  },
  {
   "cell_type": "code",
   "execution_count": null,
   "metadata": {},
   "outputs": [],
   "source": [
    "absolute_path = download_gtsrb()"
   ]
  },
  {
   "cell_type": "code",
   "execution_count": null,
   "metadata": {
    "collapsed": true
   },
   "outputs": [],
   "source": [
    "ppm_filelist = []\n",
    "csv_filelist = []\n",
    "\n",
    "for root, dirs, files in os.walk(absolute_path):\n",
    "    ppm_filelist += [os.path.join(root, file) for file in files if fnmatch.fnmatch(file, '*.ppm')]\n",
    "    csv_filelist += [os.path.join(root, file) for file in files if fnmatch.fnmatch(file, '*.csv')]"
   ]
  },
  {
   "cell_type": "code",
   "execution_count": null,
   "metadata": {},
   "outputs": [],
   "source": [
    "print(ppm_filelist[0])\n",
    "print(os.path.split(ppm_filelist[0])[1])\n",
    "print (os.path.dirname(ppm_filelist[0]))\n",
    "directory =os.path.dirname(ppm_filelist[0])+'M'\n",
    "print (directory)"
   ]
  },
  {
   "cell_type": "code",
   "execution_count": null,
   "metadata": {
    "collapsed": true
   },
   "outputs": [],
   "source": [
    "def mirrorVer(pic) :\n",
    "    v=pic.shape[1]\n",
    "    i=0\n",
    "    picnew=np.zeros((pic.shape[0],pic.shape[1],pic.shape[2]))\n",
    "    while i < v :\n",
    "        picnew[:,i,:]=pic[:,v-i-1,:]\n",
    "        i=i+1\n",
    "    return picnew"
   ]
  },
  {
   "cell_type": "code",
   "execution_count": null,
   "metadata": {
    "collapsed": true
   },
   "outputs": [],
   "source": [
    "def mirrorHor(pic) :\n",
    "    h=pic.shape[0]\n",
    "    i=0\n",
    "    picnew=np.zeros((pic.shape[0],pic.shape[1],pic.shape[2]))\n",
    "    while i < h :\n",
    "        picnew[i,:,:]=pic[h-i-1,:,:]\n",
    "        i=i+1\n",
    "    return picnew"
   ]
  },
  {
   "cell_type": "code",
   "execution_count": null,
   "metadata": {},
   "outputs": [],
   "source": [
    "def mirrorImages (ppm_filelist):\n",
    "    for idx, filepath in enumerate(ppm_filelist):\n",
    "        p=os.path.dirname(filepath)\n",
    "        vertical=['00013','00012','00034','00033']\n",
    "        horrizontal=['00012']\n",
    "        vertAndHorr=['00012']\n",
    "        if any(v in p for v in vertical):\n",
    "            pic = plt.imread(filepath)\n",
    "            newpic=mirrorVer(np.asarray(pic))\n",
    "            directory =p+'Mv'\n",
    "            im = Image.fromarray(np.uint8(newpic))\n",
    "            if not os.path.exists(directory):\n",
    "                os.makedirs(directory)\n",
    "            im.save(directory+'\\\\'+os.path.split(filepath)[1])\n",
    "\n",
    "        if any(h in p for h in horrizontal):\n",
    "            pic = plt.imread(filepath)\n",
    "            newpic=mirrorHor(np.asarray(pic))\n",
    "            directory =p+'Mh'\n",
    "            im = Image.fromarray(np.uint8(newpic))\n",
    "            if not os.path.exists(directory):\n",
    "                os.makedirs(directory) \n",
    "            im.save(directory+'\\\\'+os.path.split(filepath)[1])\n",
    "            \n",
    "        if any(vh in p for vh in vertAndHorr):\n",
    "            pic = plt.imread(filepath)\n",
    "            newpic=mirrorVer(np.asarray(pic))\n",
    "            newpic=mirrorHor(newpic)\n",
    "            directory =p+'Mhv'\n",
    "            im = Image.fromarray(np.uint8(newpic))\n",
    "            if not os.path.exists(directory):\n",
    "                os.makedirs(directory) \n",
    "            im.save(directory+'\\\\'+os.path.split(filepath)[1])   "
   ]
  },
  {
   "cell_type": "code",
   "execution_count": null,
   "metadata": {
    "collapsed": true
   },
   "outputs": [],
   "source": [
    "def transform_csv_vert(df: pd.DataFrame) -> pd.DataFrame:\n",
    "    columns=['Width', 'Height', 'Roi.X1', 'Roi.Y1', 'Roi.X2', 'Roi.Y2', 'ClassId']\n",
    "    matrix = df.as_matrix(columns=columns)\n",
    "    matrix.shape\n",
    "    matrix2 = np.zeros(matrix.shape)\n",
    "    for i, row in enumerate(matrix):\n",
    "        matrix2[i] =[row[0],row[1],row[0]-row[2],row[3],row[0]-row[4],row[5], row[6]]\n",
    "    matrix2 = matrix2.astype(int)\n",
    "    df2 = pd.DataFrame(matrix2, columns=columns)\n",
    "    df2['Filename'] = df['Filename']\n",
    "    df2 = df2[['Filename'] + columns]\n",
    "    return df2"
   ]
  },
  {
   "cell_type": "code",
   "execution_count": null,
   "metadata": {
    "collapsed": true
   },
   "outputs": [],
   "source": [
    "def transform_csv_horr(df: pd.DataFrame) -> pd.DataFrame:\n",
    "    columns=['Width', 'Height', 'Roi.X1', 'Roi.Y1', 'Roi.X2', 'Roi.Y2', 'ClassId']\n",
    "    matrix = df.as_matrix(columns=columns)\n",
    "    matrix.shape\n",
    "    matrix2 = np.zeros(matrix.shape)\n",
    "    for i, row in enumerate(matrix):\n",
    "        matrix2[i] =[row[0],row[1],row[2],row[1]-row[3],row[4],row[1]-row[5], row[6]]\n",
    "    matrix2 = matrix2.astype(int)\n",
    "    df2 = pd.DataFrame(matrix2, columns=columns)\n",
    "    df2['Filename'] = df['Filename']\n",
    "    df2 = df2[['Filename'] + columns]\n",
    "    return df2"
   ]
  },
  {
   "cell_type": "code",
   "execution_count": null,
   "metadata": {},
   "outputs": [],
   "source": [
    "def mirrorBBox (csv_filelist):\n",
    "    for filepath in csv_filelist:\n",
    "        df = pd.read_csv(filepath, sep=';')\n",
    "        \n",
    "        p=os.path.dirname(filepath)\n",
    "        vertical=['00013','00012','00034','00033']\n",
    "        horrizontal=['00012']\n",
    "        vertAndHorr=['00012']\n",
    "        if any(v in p for v in vertical):\n",
    "            df2 = transform_csv_vert(df)\n",
    "            directory =p+'Mv'\n",
    "            if not os.path.exists(directory):\n",
    "                os.makedirs(directory)\n",
    "            df2.to_csv(directory+'\\\\'+os.path.split(filepath)[1], sep=';', index=False)\n",
    "\n",
    "        if any(h in p for h in horrizontal):\n",
    "            df2 = transform_csv_horr(df)\n",
    "            directory =p+'Mh'\n",
    "            if not os.path.exists(directory):\n",
    "                os.makedirs(directory) \n",
    "            df2.to_csv(directory+'\\\\'+os.path.split(filepath)[1], sep=';', index=False)\n",
    "            \n",
    "        if any(vh in p for vh in vertAndHorr):\n",
    "            df2 = transform_csv_vert(df)\n",
    "            df2 = transform_csv_horr(df2)\n",
    "            directory =p+'Mhv'\n",
    "            if not os.path.exists(directory):\n",
    "                os.makedirs(directory) \n",
    "            df2.to_csv(directory+'\\\\'+os.path.split(filepath)[1], sep=';', index=False)"
   ]
  },
  {
   "cell_type": "code",
   "execution_count": null,
   "metadata": {},
   "outputs": [],
   "source": [
    "mirrorImages(ppm_filelist)\n",
    "mirrorBBox(csv_filelist)"
   ]
  }
 ],
 "metadata": {
  "kernelspec": {
   "display_name": "Python 3",
   "language": "python",
   "name": "python3"
  },
  "language_info": {
   "codemirror_mode": {
    "name": "ipython",
    "version": 3
   },
   "file_extension": ".py",
   "mimetype": "text/x-python",
   "name": "python",
   "nbconvert_exporter": "python",
   "pygments_lexer": "ipython3",
   "version": "3.6.1"
  }
 },
 "nbformat": 4,
 "nbformat_minor": 2
}
